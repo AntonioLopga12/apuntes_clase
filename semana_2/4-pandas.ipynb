{
 "cells": [
  {
   "cell_type": "code",
   "execution_count": 1,
   "id": "70cca54e",
   "metadata": {},
   "outputs": [],
   "source": [
    "%config Completer.use_jedi = False"
   ]
  },
  {
   "cell_type": "markdown",
   "id": "adaptive-irrigation",
   "metadata": {
    "toc": true
   },
   "source": [
    "<h1>Table of Contents<span class=\"tocSkip\"></span></h1>\n",
    "<div class=\"toc\"><ul class=\"toc-item\"><li><span><a href=\"#Introducción\" data-toc-modified-id=\"Introducción-1\"><span class=\"toc-item-num\">1&nbsp;&nbsp;</span>Introducción</a></span></li><li><span><a href=\"#Instalación\" data-toc-modified-id=\"Instalación-2\"><span class=\"toc-item-num\">2&nbsp;&nbsp;</span>Instalación</a></span></li><li><span><a href=\"#Introducción-a-las-estructuras-de-datos-de-pandas\" data-toc-modified-id=\"Introducción-a-las-estructuras-de-datos-de-pandas-3\"><span class=\"toc-item-num\">3&nbsp;&nbsp;</span>Introducción a las estructuras de datos de pandas</a></span><ul class=\"toc-item\"><li><span><a href=\"#Series\" data-toc-modified-id=\"Series-3.1\"><span class=\"toc-item-num\">3.1&nbsp;&nbsp;</span>Series</a></span></li><li><span><a href=\"#Buscar-valores-NaN\" data-toc-modified-id=\"Buscar-valores-NaN-3.2\"><span class=\"toc-item-num\">3.2&nbsp;&nbsp;</span>Buscar valores NaN</a></span></li></ul></li><li><span><a href=\"#Datos-de-lectura/escritura\" data-toc-modified-id=\"Datos-de-lectura/escritura-4\"><span class=\"toc-item-num\">4&nbsp;&nbsp;</span>Datos de lectura/escritura</a></span><ul class=\"toc-item\"><li><span><a href=\"#Cargamos-datos-de-formato-CSV\" data-toc-modified-id=\"Cargamos-datos-de-formato-CSV-4.1\"><span class=\"toc-item-num\">4.1&nbsp;&nbsp;</span>Cargamos datos de formato CSV</a></span></li><li><span><a href=\"#Cargamos-datos-de-formato-xlsx\" data-toc-modified-id=\"Cargamos-datos-de-formato-xlsx-4.2\"><span class=\"toc-item-num\">4.2&nbsp;&nbsp;</span>Cargamos datos de formato xlsx</a></span></li><li><span><a href=\"#Visualizamos-las-primeras-filas\" data-toc-modified-id=\"Visualizamos-las-primeras-filas-4.3\"><span class=\"toc-item-num\">4.3&nbsp;&nbsp;</span>Visualizamos las primeras filas</a></span></li><li><span><a href=\"#Visualizamos-las-últimas-filas\" data-toc-modified-id=\"Visualizamos-las-últimas-filas-4.4\"><span class=\"toc-item-num\">4.4&nbsp;&nbsp;</span>Visualizamos las últimas filas</a></span></li><li><span><a href=\"#Visualizamos-una-muestra-aleatoria\" data-toc-modified-id=\"Visualizamos-una-muestra-aleatoria-4.5\"><span class=\"toc-item-num\">4.5&nbsp;&nbsp;</span>Visualizamos una muestra aleatoria</a></span></li></ul></li><li><span><a href=\"#Análisis-exploratorio-de-un-dataframe\" data-toc-modified-id=\"Análisis-exploratorio-de-un-dataframe-5\"><span class=\"toc-item-num\">5&nbsp;&nbsp;</span>Análisis exploratorio de un dataframe</a></span></li><li><span><a href=\"#Operaciones-básicas-con-los-dataframes\" data-toc-modified-id=\"Operaciones-básicas-con-los-dataframes-6\"><span class=\"toc-item-num\">6&nbsp;&nbsp;</span>Operaciones básicas con los dataframes</a></span><ul class=\"toc-item\"><li><span><a href=\"#Seleccionamos-una-columna\" data-toc-modified-id=\"Seleccionamos-una-columna-6.1\"><span class=\"toc-item-num\">6.1&nbsp;&nbsp;</span>Seleccionamos una columna</a></span></li><li><span><a href=\"#Seleccionamos-varias-columnas\" data-toc-modified-id=\"Seleccionamos-varias-columnas-6.2\"><span class=\"toc-item-num\">6.2&nbsp;&nbsp;</span>Seleccionamos varias columnas</a></span></li><li><span><a href=\"#Obtener-los-valores-únicos-de-una-columna-(es-decir,-una-serie)\" data-toc-modified-id=\"Obtener-los-valores-únicos-de-una-columna-(es-decir,-una-serie)-6.3\"><span class=\"toc-item-num\">6.3&nbsp;&nbsp;</span>Obtener los valores únicos de una columna (es decir, una serie)</a></span></li><li><span><a href=\"#Cambiar-el-tipo-de-datos-de-una-columna\" data-toc-modified-id=\"Cambiar-el-tipo-de-datos-de-una-columna-6.4\"><span class=\"toc-item-num\">6.4&nbsp;&nbsp;</span>Cambiar el tipo de datos de una columna</a></span></li><li><span><a href=\"#Filtramos-los-datos-por-el-valor-de-las-columnas\" data-toc-modified-id=\"Filtramos-los-datos-por-el-valor-de-las-columnas-6.5\"><span class=\"toc-item-num\">6.5&nbsp;&nbsp;</span>Filtramos los datos por el valor de las columnas</a></span></li><li><span><a href=\"#Copia-de-un-dataframe-y-renombrar-columnas\" data-toc-modified-id=\"Copia-de-un-dataframe-y-renombrar-columnas-6.6\"><span class=\"toc-item-num\">6.6&nbsp;&nbsp;</span>Copia de un dataframe y renombrar columnas</a></span><ul class=\"toc-item\"><li><span><a href=\"#Renombramos-columnas\" data-toc-modified-id=\"Renombramos-columnas-6.6.1\"><span class=\"toc-item-num\">6.6.1&nbsp;&nbsp;</span>Renombramos columnas</a></span></li><li><span><a href=\"#Podemos-renombrar-las-columnas-machacando-el-atributo-de-la-instancia...-¿os-suena-esto?\" data-toc-modified-id=\"Podemos-renombrar-las-columnas-machacando-el-atributo-de-la-instancia...-¿os-suena-esto?-6.6.2\"><span class=\"toc-item-num\">6.6.2&nbsp;&nbsp;</span>Podemos renombrar las columnas machacando el atributo de la instancia... ¿os suena esto?</a></span></li></ul></li><li><span><a href=\"#Borramos-columnas\" data-toc-modified-id=\"Borramos-columnas-6.7\"><span class=\"toc-item-num\">6.7&nbsp;&nbsp;</span>Borramos columnas</a></span></li><li><span><a href=\"#Borramos-filas\" data-toc-modified-id=\"Borramos-filas-6.8\"><span class=\"toc-item-num\">6.8&nbsp;&nbsp;</span>Borramos filas</a></span></li><li><span><a href=\"#Reset_index-y-set_index\" data-toc-modified-id=\"Reset_index-y-set_index-6.9\"><span class=\"toc-item-num\">6.9&nbsp;&nbsp;</span>Reset_index y set_index</a></span><ul class=\"toc-item\"><li><span><a href=\"#SET_INDEX\" data-toc-modified-id=\"SET_INDEX-6.9.1\"><span class=\"toc-item-num\">6.9.1&nbsp;&nbsp;</span>SET_INDEX</a></span></li></ul></li><li><span><a href=\"#Operaciones-entre-columnas\" data-toc-modified-id=\"Operaciones-entre-columnas-6.10\"><span class=\"toc-item-num\">6.10&nbsp;&nbsp;</span>Operaciones entre columnas</a></span></li></ul></li><li><span><a href=\"#Apply-!!\" data-toc-modified-id=\"Apply-!!-7\"><span class=\"toc-item-num\">7&nbsp;&nbsp;</span>Apply !!</a></span></li><li><span><a href=\"#Df-.loc-e-.iloc\" data-toc-modified-id=\"Df-.loc-e-.iloc-8\"><span class=\"toc-item-num\">8&nbsp;&nbsp;</span>Df .loc e .iloc</a></span><ul class=\"toc-item\"><li><span><a href=\"#Seleccionar-filas-y-columnas-en-Pandas-mediante-posición-con-iloc\" data-toc-modified-id=\"Seleccionar-filas-y-columnas-en-Pandas-mediante-posición-con-iloc-8.1\"><span class=\"toc-item-num\">8.1&nbsp;&nbsp;</span>Seleccionar filas y columnas en Pandas mediante posición con iloc</a></span></li><li><span><a href=\"#Seleccionar-filas-y-columnas-en-Pandas-en-base-a-etiquetas-con-loc\" data-toc-modified-id=\"Seleccionar-filas-y-columnas-en-Pandas-en-base-a-etiquetas-con-loc-8.2\"><span class=\"toc-item-num\">8.2&nbsp;&nbsp;</span>Seleccionar filas y columnas en Pandas en base a etiquetas con loc</a></span><ul class=\"toc-item\"><li><span><a href=\"#En-base-a-etiqueta\" data-toc-modified-id=\"En-base-a-etiqueta-8.2.1\"><span class=\"toc-item-num\">8.2.1&nbsp;&nbsp;</span>En base a etiqueta</a></span></li></ul></li></ul></li><li><span><a href=\"#Ordenamos-un-dataframe\" data-toc-modified-id=\"Ordenamos-un-dataframe-9\"><span class=\"toc-item-num\">9&nbsp;&nbsp;</span>Ordenamos un dataframe</a></span><ul class=\"toc-item\"><li><span><a href=\"#Buscamos-valores-nulos\" data-toc-modified-id=\"Buscamos-valores-nulos-9.1\"><span class=\"toc-item-num\">9.1&nbsp;&nbsp;</span>Buscamos valores nulos</a></span><ul class=\"toc-item\"><li><span><a href=\"#¿Es-nulo?\" data-toc-modified-id=\"¿Es-nulo?-9.1.1\"><span class=\"toc-item-num\">9.1.1&nbsp;&nbsp;</span>¿Es nulo?</a></span></li><li><span><a href=\"#¿Es-NO-nulo?\" data-toc-modified-id=\"¿Es-NO-nulo?-9.1.2\"><span class=\"toc-item-num\">9.1.2&nbsp;&nbsp;</span>¿Es NO nulo?</a></span></li><li><span><a href=\"#Sacar-una-suma-de-los-valores-nulos-de-cada-columna\" data-toc-modified-id=\"Sacar-una-suma-de-los-valores-nulos-de-cada-columna-9.1.3\"><span class=\"toc-item-num\">9.1.3&nbsp;&nbsp;</span>Sacar una suma de los valores nulos de cada columna</a></span></li></ul></li><li><span><a href=\"#Borramos-los-valores-nulos\" data-toc-modified-id=\"Borramos-los-valores-nulos-9.2\"><span class=\"toc-item-num\">9.2&nbsp;&nbsp;</span>Borramos los valores nulos</a></span></li><li><span><a href=\"#Cómo-rellenar-los-datos-que-faltan\" data-toc-modified-id=\"Cómo-rellenar-los-datos-que-faltan-9.3\"><span class=\"toc-item-num\">9.3&nbsp;&nbsp;</span>Cómo rellenar los datos que faltan</a></span><ul class=\"toc-item\"><li><ul class=\"toc-item\"><li><span><a href=\"#CATEGÓRICAS-EN-DATAFRAME-Y-DEJAR-DOCUMENTACIÓN\" data-toc-modified-id=\"CATEGÓRICAS-EN-DATAFRAME-Y-DEJAR-DOCUMENTACIÓN-9.3.0.1\"><span class=\"toc-item-num\">9.3.0.1&nbsp;&nbsp;</span>CATEGÓRICAS EN DATAFRAME Y DEJAR DOCUMENTACIÓN</a></span></li></ul></li></ul></li></ul></li><li><span><a href=\"#Borramos-los-duplicados\" data-toc-modified-id=\"Borramos-los-duplicados-10\"><span class=\"toc-item-num\">10&nbsp;&nbsp;</span>Borramos los duplicados</a></span></li><li><span><a href=\"#Agregación-de-datos\" data-toc-modified-id=\"Agregación-de-datos-11\"><span class=\"toc-item-num\">11&nbsp;&nbsp;</span>Agregación de datos</a></span><ul class=\"toc-item\"><li><span><a href=\"#GroupBy\" data-toc-modified-id=\"GroupBy-11.1\"><span class=\"toc-item-num\">11.1&nbsp;&nbsp;</span>GroupBy</a></span><ul class=\"toc-item\"><li><span><a href=\"#Me-preguntaréis-¿y-si-quiero-agrupar-por-más-columnas?\" data-toc-modified-id=\"Me-preguntaréis-¿y-si-quiero-agrupar-por-más-columnas?-11.1.1\"><span class=\"toc-item-num\">11.1.1&nbsp;&nbsp;</span>Me preguntaréis ¿y si quiero agrupar por más columnas?</a></span></li></ul></li><li><span><a href=\"#Unión-de-Dataframes\" data-toc-modified-id=\"Unión-de-Dataframes-11.2\"><span class=\"toc-item-num\">11.2&nbsp;&nbsp;</span>Unión de Dataframes</a></span></li><li><span><a href=\"#Concat\" data-toc-modified-id=\"Concat-11.3\"><span class=\"toc-item-num\">11.3&nbsp;&nbsp;</span>Concat</a></span></li><li><span><a href=\"#Merge\" data-toc-modified-id=\"Merge-11.4\"><span class=\"toc-item-num\">11.4&nbsp;&nbsp;</span>Merge</a></span></li><li><span><a href=\"#Join\" data-toc-modified-id=\"Join-11.5\"><span class=\"toc-item-num\">11.5&nbsp;&nbsp;</span>Join</a></span></li></ul></li><li><span><a href=\"#Exportar-datos\" data-toc-modified-id=\"Exportar-datos-12\"><span class=\"toc-item-num\">12&nbsp;&nbsp;</span>Exportar datos</a></span></li><li><span><a href=\"#Métodos-habituales-de-pandas\" data-toc-modified-id=\"Métodos-habituales-de-pandas-13\"><span class=\"toc-item-num\">13&nbsp;&nbsp;</span>Métodos habituales de pandas</a></span></li><li><span><a href=\"#Resumen\" data-toc-modified-id=\"Resumen-14\"><span class=\"toc-item-num\">14&nbsp;&nbsp;</span>Resumen</a></span></li><li><span><a href=\"#Further-materials\" data-toc-modified-id=\"Further-materials-15\"><span class=\"toc-item-num\">15&nbsp;&nbsp;</span>Further materials</a></span></li></ul></div>"
   ]
  },
  {
   "cell_type": "markdown",
   "id": "anonymous-academy",
   "metadata": {},
   "source": [
    "# Pandas"
   ]
  },
  {
   "cell_type": "markdown",
   "id": "residential-needle",
   "metadata": {},
   "source": [
    "![pandas](https://media.giphy.com/media/nVsLCrW5iHf6E/giphy.gif)"
   ]
  },
  {
   "cell_type": "markdown",
   "id": "secure-barcelona",
   "metadata": {},
   "source": [
    "Mi gif favorito para la que, a partir de ahora, será tu librería favorita 😍"
   ]
  },
  {
   "cell_type": "markdown",
   "id": "major-audience",
   "metadata": {},
   "source": [
    "## Introducción \n",
    "Pandas es, sin duda, la biblioteca más utilizada en el ecosistema de Python para el análisis y la manipulación de datos. Es rápida, potente, flexible, fácil de usar y de código abierto. \n",
    "\n",
    "\n",
    "Entre sus principales características están\n",
    "* Un objeto **DataFrame** rápido y eficiente para la manipulación de datos con indexación integrada\n",
    "* **Lectura y escritura** de datos en multitud de formatos: Microsoflt Excel, CSV, bases de datos SQL, etc;\n",
    "* Métodos integrados y eficientes para todo tipo de manipulación de datos: datos faltantes, subconjunto, unión, fusión, etc; \n",
    "* Facilidad para trabajar con datos temporales (de hecho, Pandas se llama así por \"PANnel DAta\") \n",
    "* Buena **integración con otras librerías** de análisis de datos o Machine learning: scikit-learn, scipy, seaborn, plotly, etc;\n",
    "* Es **ampliamente utilizado** tanto en el sector privado como en el académico     \n",
    "\n",
    "\n",
    "Pandas proporciona estructuras de datos de alto nivel y funciones diseñadas para hacer que el trabajo con datos estructurados o tabulares sea rápido, fácil y expresivo. Desde su aparición en 2010, ha ayudado a que Python sea un entorno de análisis de datos potente y productivo. Los principales objetos de pandas que se utilizarán en este libro son el DataFrame, una estructura de datos tabular orientada a columnas con etiquetas de filas y columnas, y la Serie, un objeto de matriz unidimensional etiquetado.\n",
    "\n",
    "Pandas combina las ideas de alto rendimiento de NumPy con las capacidades flexibles de manipulación de datos de las hojas de cálculo y las bases de datos relacionales (como SQL). Proporciona una sofisticada funcionalidad de indexación para facilitar la remodelación, el corte y la división, la realización de agregaciones y la selección de subconjuntos de datos. \n"
   ]
  },
  {
   "cell_type": "markdown",
   "id": "hourly-nutrition",
   "metadata": {},
   "source": [
    "![image](https://thumbor.forbes.com/thumbor/960x0/https%3A%2F%2Fblogs-images.forbes.com%2Fgilpress%2Ffiles%2F2016%2F03%2FTime-1200x511.jpg)\n",
    "\n",
    "\n",
    "\n",
    "Fuente: [Forbes](https://www.forbes.com/sites/gilpress/2016/03/23/data-preparation-most-time-consuming-least-enjoyable-data-science-task-survey-says/#1ba071616f63)"
   ]
  },
  {
   "cell_type": "markdown",
   "id": "fantastic-steps",
   "metadata": {},
   "source": [
    "## Instalación"
   ]
  },
  {
   "cell_type": "markdown",
   "id": "dedicated-level",
   "metadata": {},
   "source": [
    "Lo primerito que deberás hacer, siempre será     \n",
    "pip install pandas"
   ]
  },
  {
   "cell_type": "code",
   "execution_count": 2,
   "id": "psychological-theorem",
   "metadata": {},
   "outputs": [],
   "source": [
    "import pandas as pd"
   ]
  },
  {
   "cell_type": "markdown",
   "id": "explicit-harvest",
   "metadata": {},
   "source": [
    "## Introducción a las estructuras de datos de pandas\n",
    "Para empezar con pandas, necesitarás sentirte cómodo con sus dos estructuras de datos de trabajo: Series y DataFrame. Aunque no son una solución universal para todos los problemas, proporcionan una base sólida y fácil de usar para la mayoría de las aplicaciones."
   ]
  },
  {
   "cell_type": "markdown",
   "id": "angry-hamburg",
   "metadata": {},
   "source": [
    "### Series\n",
    "Una Serie es un objeto tipo array unidimensional que contiene una secuencia de valores (de tipos similares a los de NumPy) y un array asociado de etiquetas de datos, llamado su índice. La Serie más sencilla se forma a partir de un único array de datos:"
   ]
  },
  {
   "cell_type": "code",
   "execution_count": 3,
   "id": "beautiful-stylus",
   "metadata": {},
   "outputs": [],
   "source": [
    "serie = pd.Series([\"hola\",1,23,4, \"otro string\"])"
   ]
  },
  {
   "cell_type": "code",
   "execution_count": 4,
   "id": "waiting-lodge",
   "metadata": {},
   "outputs": [
    {
     "data": {
      "text/plain": [
       "0           hola\n",
       "1              1\n",
       "2             23\n",
       "3              4\n",
       "4    otro string\n",
       "dtype: object"
      ]
     },
     "execution_count": 4,
     "metadata": {},
     "output_type": "execute_result"
    }
   ],
   "source": [
    "serie"
   ]
  },
  {
   "cell_type": "code",
   "execution_count": 5,
   "id": "increasing-rwanda",
   "metadata": {},
   "outputs": [
    {
     "data": {
      "text/plain": [
       "pandas.core.series.Series"
      ]
     },
     "execution_count": 5,
     "metadata": {},
     "output_type": "execute_result"
    }
   ],
   "source": [
    "type(serie)"
   ]
  },
  {
   "cell_type": "code",
   "execution_count": 6,
   "id": "double-composition",
   "metadata": {},
   "outputs": [
    {
     "data": {
      "text/plain": [
       "array(['hola', 1, 23, 4, 'otro string'], dtype=object)"
      ]
     },
     "execution_count": 6,
     "metadata": {},
     "output_type": "execute_result"
    }
   ],
   "source": [
    "serie.values"
   ]
  },
  {
   "cell_type": "code",
   "execution_count": 7,
   "id": "modified-track",
   "metadata": {},
   "outputs": [
    {
     "data": {
      "text/plain": [
       "RangeIndex(start=0, stop=5, step=1)"
      ]
     },
     "execution_count": 7,
     "metadata": {},
     "output_type": "execute_result"
    }
   ],
   "source": [
    "serie.index"
   ]
  },
  {
   "cell_type": "code",
   "execution_count": 8,
   "id": "agreed-chancellor",
   "metadata": {},
   "outputs": [
    {
     "data": {
      "text/plain": [
       "['hola', 1, 23, 4, 'otro string']"
      ]
     },
     "execution_count": 8,
     "metadata": {},
     "output_type": "execute_result"
    }
   ],
   "source": [
    "list(serie.values)"
   ]
  },
  {
   "cell_type": "code",
   "execution_count": 9,
   "id": "ongoing-entity",
   "metadata": {},
   "outputs": [
    {
     "data": {
      "text/plain": [
       "[0, 1, 2, 3, 4]"
      ]
     },
     "execution_count": 9,
     "metadata": {},
     "output_type": "execute_result"
    }
   ],
   "source": [
    "list(serie.index)"
   ]
  },
  {
   "cell_type": "markdown",
   "id": "adolescent-species",
   "metadata": {},
   "source": [
    "La representación en cadena de una Serie mostrada interactivamente muestra el índice a la izquierda y los valores a la derecha. Como no especificamos un índice para los datos, se crea uno por defecto formado por los enteros 0 a N - 1 (donde N es la longitud de los datos). Puedes obtener la representación del array y el objeto índice de la Serie a través de sus atributos values e index, respectivamente:"
   ]
  },
  {
   "cell_type": "code",
   "execution_count": 10,
   "id": "sporting-stereo",
   "metadata": {},
   "outputs": [
    {
     "data": {
      "text/plain": [
       "array(['hola', 1, 23, 4, 'otro string'], dtype=object)"
      ]
     },
     "execution_count": 10,
     "metadata": {},
     "output_type": "execute_result"
    }
   ],
   "source": [
    "serie.values"
   ]
  },
  {
   "cell_type": "code",
   "execution_count": 11,
   "id": "controversial-fifty",
   "metadata": {},
   "outputs": [
    {
     "data": {
      "text/plain": [
       "RangeIndex(start=0, stop=5, step=1)"
      ]
     },
     "execution_count": 11,
     "metadata": {},
     "output_type": "execute_result"
    }
   ],
   "source": [
    "serie.index"
   ]
  },
  {
   "cell_type": "markdown",
   "id": "educated-tourism",
   "metadata": {},
   "source": [
    "Otra forma de pensar en una Serie es como un dict ordenado de longitud fija, ya que es un mapeo de valores de índice a valores de datos. Se puede utilizar en muchos contextos en los que se podría utilizar un diccionario.\n",
    "Si tienes datos contenidos en un dict de Python, puedes crear una Serie a partir de ellos pasando el dict:"
   ]
  },
  {
   "cell_type": "code",
   "execution_count": 12,
   "id": "incorrect-washington",
   "metadata": {},
   "outputs": [],
   "source": [
    "sdata = {'Ohio': 35000, 'Texas': 71000, 'Oregon': 16000, 'Utah': 5000}"
   ]
  },
  {
   "cell_type": "code",
   "execution_count": 13,
   "id": "human-civilian",
   "metadata": {},
   "outputs": [],
   "source": [
    "seriedata = pd.Series(sdata)"
   ]
  },
  {
   "cell_type": "code",
   "execution_count": 14,
   "id": "charitable-transparency",
   "metadata": {},
   "outputs": [
    {
     "data": {
      "text/plain": [
       "Ohio      35000\n",
       "Texas     71000\n",
       "Oregon    16000\n",
       "Utah       5000\n",
       "dtype: int64"
      ]
     },
     "execution_count": 14,
     "metadata": {},
     "output_type": "execute_result"
    }
   ],
   "source": [
    "seriedata"
   ]
  },
  {
   "cell_type": "code",
   "execution_count": 15,
   "id": "wired-projection",
   "metadata": {},
   "outputs": [
    {
     "data": {
      "text/plain": [
       "Index(['Ohio', 'Texas', 'Oregon', 'Utah'], dtype='object')"
      ]
     },
     "execution_count": 15,
     "metadata": {},
     "output_type": "execute_result"
    }
   ],
   "source": [
    "seriedata.index"
   ]
  },
  {
   "cell_type": "code",
   "execution_count": 16,
   "id": "unauthorized-samuel",
   "metadata": {},
   "outputs": [
    {
     "data": {
      "text/plain": [
       "array([35000, 71000, 16000,  5000])"
      ]
     },
     "execution_count": 16,
     "metadata": {},
     "output_type": "execute_result"
    }
   ],
   "source": [
    "seriedata.values"
   ]
  },
  {
   "cell_type": "code",
   "execution_count": 18,
   "id": "breathing-paris",
   "metadata": {},
   "outputs": [
    {
     "data": {
      "text/plain": [
       "Ohio      35000\n",
       "Texas     71000\n",
       "Oregon    16000\n",
       "Utah       5000\n",
       "dtype: int64"
      ]
     },
     "metadata": {},
     "output_type": "display_data"
    }
   ],
   "source": [
    "display(seriedata)"
   ]
  },
  {
   "cell_type": "markdown",
   "id": "exposed-performer",
   "metadata": {},
   "source": [
    "Cuando sólo se pasa un dict, el índice de la Serie resultante tendrá las claves del dict en orden. Puedes anular esto pasando las claves del dict en el orden que desee que aparezcan en la Serie resultante:"
   ]
  },
  {
   "cell_type": "code",
   "execution_count": 19,
   "id": "convenient-encyclopedia",
   "metadata": {},
   "outputs": [],
   "source": [
    "estados = ['California', 'Ohio', 'Oregon', 'Texas']"
   ]
  },
  {
   "cell_type": "code",
   "execution_count": 20,
   "id": "hispanic-degree",
   "metadata": {},
   "outputs": [],
   "source": [
    "serie2 = pd.Series(sdata, index=estados)"
   ]
  },
  {
   "cell_type": "code",
   "execution_count": 21,
   "id": "11820725",
   "metadata": {},
   "outputs": [
    {
     "data": {
      "text/plain": [
       "California        NaN\n",
       "Ohio          35000.0\n",
       "Oregon        16000.0\n",
       "Texas         71000.0\n",
       "dtype: float64"
      ]
     },
     "execution_count": 21,
     "metadata": {},
     "output_type": "execute_result"
    }
   ],
   "source": [
    "serie2"
   ]
  },
  {
   "cell_type": "markdown",
   "id": "composite-collaboration",
   "metadata": {},
   "source": [
    "Aquí, los tres valores encontrados en sdata se colocaron en los lugares apropiados, pero como no se encontró ningún valor para 'California', aparece como NaN (no es un número), lo que se considera en pandas para marcar valores perdidos o NA. Como \"Utah\" no se incluyó en los estados, se excluye del objeto resultante."
   ]
  },
  {
   "cell_type": "code",
   "execution_count": 22,
   "id": "excited-culture",
   "metadata": {},
   "outputs": [],
   "source": [
    "import numpy as np"
   ]
  },
  {
   "cell_type": "code",
   "execution_count": 26,
   "id": "green-general",
   "metadata": {},
   "outputs": [
    {
     "name": "stdout",
     "output_type": "stream",
     "text": [
      "nan\n"
     ]
    }
   ],
   "source": [
    "print(np.nan)"
   ]
  },
  {
   "cell_type": "code",
   "execution_count": 24,
   "id": "different-wildlife",
   "metadata": {},
   "outputs": [
    {
     "data": {
      "text/plain": [
       "float"
      ]
     },
     "execution_count": 24,
     "metadata": {},
     "output_type": "execute_result"
    }
   ],
   "source": [
    "type(np.nan)"
   ]
  },
  {
   "cell_type": "code",
   "execution_count": 25,
   "id": "integrated-falls",
   "metadata": {},
   "outputs": [
    {
     "data": {
      "text/plain": [
       "'NaN'"
      ]
     },
     "execution_count": 25,
     "metadata": {},
     "output_type": "execute_result"
    }
   ],
   "source": [
    "\"NaN\""
   ]
  },
  {
   "cell_type": "code",
   "execution_count": 28,
   "id": "6a53ddd5",
   "metadata": {},
   "outputs": [],
   "source": [
    "a = np.nan"
   ]
  },
  {
   "cell_type": "code",
   "execution_count": 30,
   "id": "south-insulation",
   "metadata": {},
   "outputs": [
    {
     "name": "stdout",
     "output_type": "stream",
     "text": [
      "Hola\n"
     ]
    }
   ],
   "source": [
    "if np.isnan(a) == True:\n",
    "    print(\"Hola\")"
   ]
  },
  {
   "cell_type": "code",
   "execution_count": 33,
   "id": "10f0105f",
   "metadata": {},
   "outputs": [
    {
     "data": {
      "text/plain": [
       "False"
      ]
     },
     "execution_count": 33,
     "metadata": {},
     "output_type": "execute_result"
    }
   ],
   "source": [
    "# No no puedo comprobar si a es un nan así \n",
    "a == np.nan"
   ]
  },
  {
   "cell_type": "markdown",
   "id": "sublime-challenge",
   "metadata": {},
   "source": [
    "### Buscar valores NaN\n",
    "NaN significa Not A Number (No es un número) y es una de las formas habituales de representar el valor que falta en los datos. Es un valor especial de punto flotante y no puede ser convertido a otro tipo que no sea float.\n",
    "El valor NaN es uno de los principales problemas en el análisis de datos. Es muy esencial tratar con NaN para obtener los resultados deseados."
   ]
  },
  {
   "cell_type": "code",
   "execution_count": 35,
   "id": "after-healthcare",
   "metadata": {},
   "outputs": [
    {
     "data": {
      "text/plain": [
       "California     True\n",
       "Ohio          False\n",
       "Oregon        False\n",
       "Texas         False\n",
       "dtype: bool"
      ]
     },
     "execution_count": 35,
     "metadata": {},
     "output_type": "execute_result"
    }
   ],
   "source": [
    "# El método de pandas para buscar NaN es pd.isnull\n",
    "pd.isnull(serie2)"
   ]
  },
  {
   "cell_type": "code",
   "execution_count": 41,
   "id": "religious-migration",
   "metadata": {},
   "outputs": [
    {
     "data": {
      "text/plain": [
       "1"
      ]
     },
     "execution_count": 41,
     "metadata": {},
     "output_type": "execute_result"
    }
   ],
   "source": [
    "pd.isnull(serie2).sum()"
   ]
  },
  {
   "cell_type": "code",
   "execution_count": 38,
   "id": "83cf4a1c",
   "metadata": {},
   "outputs": [
    {
     "data": {
      "text/plain": [
       "California     True\n",
       "Ohio          False\n",
       "Oregon        False\n",
       "Texas         False\n",
       "dtype: bool"
      ]
     },
     "execution_count": 38,
     "metadata": {},
     "output_type": "execute_result"
    }
   ],
   "source": [
    "pd.isna(serie2)"
   ]
  },
  {
   "cell_type": "code",
   "execution_count": 39,
   "id": "after-netherlands",
   "metadata": {},
   "outputs": [
    {
     "data": {
      "text/plain": [
       "1"
      ]
     },
     "execution_count": 39,
     "metadata": {},
     "output_type": "execute_result"
    }
   ],
   "source": [
    "pd.isna(serie2).sum()"
   ]
  },
  {
   "cell_type": "markdown",
   "id": "221985d3",
   "metadata": {},
   "source": [
    "🙃🚀---> Nos hemos quedado aquí <--- 🚀🙃"
   ]
  },
  {
   "cell_type": "markdown",
   "id": "lyric-navigation",
   "metadata": {},
   "source": [
    "## Datos de lectura/escritura\n",
    "\n",
    "Pandas puede leer y escribir datos de una gran variedad de formatos. [Lee la documentación](https://pandas.pydata.org/pandas-docs/stable/user_guide/io.html)\n",
    "Aunque una de las más comunes es a partir de un dictado de listas de igual longitud o arrays NumPy:"
   ]
  },
  {
   "cell_type": "code",
   "execution_count": 40,
   "id": "ongoing-input",
   "metadata": {},
   "outputs": [],
   "source": [
    "# Desde un diccionario\n",
    "data = {'state': ['Ohio', 'Ohio', 'Ohio', 'Nevada', 'Nevada', 'Nevada'],\n",
    "        'year': [2000, 2001, 2002, 2001, 2002, 2003],\n",
    "        'pop': [1.5, 1.7, 3.6, 2.4, 2.9, np.nan]}"
   ]
  },
  {
   "cell_type": "code",
   "execution_count": null,
   "id": "beginning-sentence",
   "metadata": {},
   "outputs": [],
   "source": []
  },
  {
   "cell_type": "code",
   "execution_count": null,
   "id": "further-remains",
   "metadata": {
    "scrolled": true
   },
   "outputs": [],
   "source": [
    "# Para visualizar un dataframe utilizaremos display y NO print\n"
   ]
  },
  {
   "cell_type": "code",
   "execution_count": null,
   "id": "august-fleet",
   "metadata": {},
   "outputs": [],
   "source": []
  },
  {
   "cell_type": "code",
   "execution_count": null,
   "id": "destroyed-couple",
   "metadata": {},
   "outputs": [],
   "source": []
  },
  {
   "cell_type": "code",
   "execution_count": null,
   "id": "christian-battery",
   "metadata": {},
   "outputs": [],
   "source": [
    "# Desde una lista de diccionarios\n",
    "datos = [{'nombre': 'Sonia',\n",
    "               'apellido': 'Fominaya',\n",
    "               'email': 'sonia.fominaya@ironhack.com',\n",
    "               'vacaciones': 30,\n",
    "               'saludo': lambda : print('Holi, soy Sonia, hacedme lo primerito la Pull Request')}, \n",
    "         \n",
    "         {'nombre': 'Ana',\n",
    "               'apellido': 'García',\n",
    "                  'email': 'ana.garcia@ironhack.com',\n",
    "               'vacaciones': 30,\n",
    "               'saludo': lambda : print('Hola, soy Ana, cuidado con los print infinitos') },\n",
    "        {'nombreS': 'Hola',\n",
    "               'apellido': 'Qué tal',\n",
    "                  'email': 'ejemplo',\n",
    "               'vacaciones': np.nan,\n",
    "               'saludo': lambda: print('Hola, soy Ana, cuidado con los print infinitos') }]"
   ]
  },
  {
   "cell_type": "code",
   "execution_count": null,
   "id": "every-accounting",
   "metadata": {},
   "outputs": [],
   "source": []
  },
  {
   "cell_type": "code",
   "execution_count": null,
   "id": "previous-surfing",
   "metadata": {},
   "outputs": [],
   "source": []
  },
  {
   "cell_type": "code",
   "execution_count": null,
   "id": "aging-angola",
   "metadata": {},
   "outputs": [],
   "source": []
  },
  {
   "cell_type": "code",
   "execution_count": null,
   "id": "regulated-proposition",
   "metadata": {},
   "outputs": [],
   "source": []
  },
  {
   "cell_type": "code",
   "execution_count": null,
   "id": "proper-appliance",
   "metadata": {},
   "outputs": [],
   "source": []
  },
  {
   "cell_type": "code",
   "execution_count": null,
   "id": "neither-valuation",
   "metadata": {},
   "outputs": [],
   "source": []
  },
  {
   "cell_type": "markdown",
   "id": "regional-watershed",
   "metadata": {},
   "source": [
    "Si hago un dataframe a través de una lista de diccionarios:       \n",
    "    - Cada diccionario será una fila   \n",
    "    - Las keys serán los nombres de las columnas    \n",
    "    - Tienen que tener la misma estructura     "
   ]
  },
  {
   "cell_type": "markdown",
   "id": "arbitrary-editing",
   "metadata": {},
   "source": [
    "Como estamos usando Jupyter Notebook, los objetos DataFrame de pandas se mostrarán como una tabla HTML más amigable para el navegador.\n"
   ]
  },
  {
   "cell_type": "markdown",
   "id": "mexican-catch",
   "metadata": {},
   "source": [
    "### Cargamos datos de formato CSV"
   ]
  },
  {
   "cell_type": "code",
   "execution_count": null,
   "id": "bronze-corruption",
   "metadata": {},
   "outputs": [],
   "source": [
    "df = pd.read_csv(\"../datasets/avocado_kaggle.csv\")"
   ]
  },
  {
   "cell_type": "code",
   "execution_count": null,
   "id": "agreed-eclipse",
   "metadata": {},
   "outputs": [],
   "source": []
  },
  {
   "cell_type": "code",
   "execution_count": null,
   "id": "dependent-swift",
   "metadata": {},
   "outputs": [],
   "source": []
  },
  {
   "cell_type": "markdown",
   "id": "surprised-dinner",
   "metadata": {},
   "source": [
    "### Cargamos datos de formato xlsx"
   ]
  },
  {
   "cell_type": "code",
   "execution_count": null,
   "id": "technological-constitution",
   "metadata": {},
   "outputs": [],
   "source": []
  },
  {
   "cell_type": "code",
   "execution_count": null,
   "id": "multiple-priest",
   "metadata": {},
   "outputs": [],
   "source": []
  },
  {
   "cell_type": "markdown",
   "id": "blocked-philippines",
   "metadata": {},
   "source": [
    "### Visualizamos las primeras filas"
   ]
  },
  {
   "cell_type": "code",
   "execution_count": null,
   "id": "requested-memorial",
   "metadata": {},
   "outputs": [],
   "source": []
  },
  {
   "cell_type": "markdown",
   "id": "acting-milton",
   "metadata": {},
   "source": [
    "Por defecto head me muestra las 5 primeras filas, puedo ver algunas más o algunas menos pasándole un número como parámetro "
   ]
  },
  {
   "cell_type": "code",
   "execution_count": null,
   "id": "first-identity",
   "metadata": {},
   "outputs": [],
   "source": []
  },
  {
   "cell_type": "code",
   "execution_count": null,
   "id": "committed-stream",
   "metadata": {},
   "outputs": [],
   "source": []
  },
  {
   "cell_type": "markdown",
   "id": "finite-foundation",
   "metadata": {},
   "source": [
    "### Visualizamos las últimas filas "
   ]
  },
  {
   "cell_type": "code",
   "execution_count": null,
   "id": "lined-switzerland",
   "metadata": {},
   "outputs": [],
   "source": []
  },
  {
   "cell_type": "markdown",
   "id": "deadly-richards",
   "metadata": {},
   "source": [
    "Excatamente igual que con .head() le pasamos un parámetro a .tail()"
   ]
  },
  {
   "cell_type": "code",
   "execution_count": null,
   "id": "suited-variation",
   "metadata": {},
   "outputs": [],
   "source": []
  },
  {
   "cell_type": "markdown",
   "id": "developed-distance",
   "metadata": {},
   "source": [
    "### Visualizamos una muestra aleatoria"
   ]
  },
  {
   "cell_type": "code",
   "execution_count": null,
   "id": "beginning-qatar",
   "metadata": {},
   "outputs": [],
   "source": [
    " #si no le pasamos un parámetro, visualiza una sola fila de forma aleatoria."
   ]
  },
  {
   "cell_type": "code",
   "execution_count": null,
   "id": "emotional-workshop",
   "metadata": {},
   "outputs": [],
   "source": []
  },
  {
   "cell_type": "code",
   "execution_count": null,
   "id": "little-category",
   "metadata": {},
   "outputs": [],
   "source": [
    "# Muestra aleatoria de 5 filas\n"
   ]
  },
  {
   "cell_type": "code",
   "execution_count": null,
   "id": "electric-england",
   "metadata": {},
   "outputs": [],
   "source": [
    "# Muestra aleatoria del 10%\n"
   ]
  },
  {
   "cell_type": "code",
   "execution_count": null,
   "id": "headed-college",
   "metadata": {},
   "outputs": [],
   "source": []
  },
  {
   "cell_type": "markdown",
   "id": "brown-princeton",
   "metadata": {},
   "source": [
    "## Análisis exploratorio de un dataframe"
   ]
  },
  {
   "cell_type": "code",
   "execution_count": null,
   "id": "previous-release",
   "metadata": {},
   "outputs": [],
   "source": []
  },
  {
   "cell_type": "code",
   "execution_count": null,
   "id": "disabled-suggestion",
   "metadata": {},
   "outputs": [],
   "source": []
  },
  {
   "cell_type": "code",
   "execution_count": null,
   "id": "documentary-contract",
   "metadata": {},
   "outputs": [],
   "source": []
  },
  {
   "cell_type": "code",
   "execution_count": null,
   "id": "ecological-balance",
   "metadata": {},
   "outputs": [],
   "source": []
  },
  {
   "cell_type": "code",
   "execution_count": null,
   "id": "immune-thread",
   "metadata": {},
   "outputs": [],
   "source": []
  },
  {
   "cell_type": "code",
   "execution_count": null,
   "id": "imperial-colony",
   "metadata": {},
   "outputs": [],
   "source": []
  },
  {
   "cell_type": "code",
   "execution_count": null,
   "id": "fuzzy-joining",
   "metadata": {},
   "outputs": [],
   "source": []
  },
  {
   "cell_type": "code",
   "execution_count": null,
   "id": "tracked-spain",
   "metadata": {},
   "outputs": [],
   "source": []
  },
  {
   "cell_type": "code",
   "execution_count": null,
   "id": "appointed-salad",
   "metadata": {},
   "outputs": [],
   "source": []
  },
  {
   "cell_type": "code",
   "execution_count": null,
   "id": "caroline-village",
   "metadata": {},
   "outputs": [],
   "source": []
  },
  {
   "cell_type": "code",
   "execution_count": null,
   "id": "african-stanley",
   "metadata": {},
   "outputs": [],
   "source": []
  },
  {
   "cell_type": "code",
   "execution_count": null,
   "id": "female-county",
   "metadata": {},
   "outputs": [],
   "source": []
  },
  {
   "cell_type": "code",
   "execution_count": null,
   "id": "funny-cyprus",
   "metadata": {},
   "outputs": [],
   "source": []
  },
  {
   "cell_type": "code",
   "execution_count": null,
   "id": "bacterial-colors",
   "metadata": {},
   "outputs": [],
   "source": []
  },
  {
   "cell_type": "code",
   "execution_count": null,
   "id": "eleven-watson",
   "metadata": {},
   "outputs": [],
   "source": []
  },
  {
   "cell_type": "code",
   "execution_count": null,
   "id": "behavioral-forest",
   "metadata": {},
   "outputs": [],
   "source": [
    "# Seleccionamos las columnas cuyo tipo de dato es int64\n"
   ]
  },
  {
   "cell_type": "code",
   "execution_count": null,
   "id": "responsible-liberty",
   "metadata": {},
   "outputs": [],
   "source": []
  },
  {
   "cell_type": "code",
   "execution_count": null,
   "id": "assigned-scanner",
   "metadata": {},
   "outputs": [],
   "source": [
    "# Podemos incluir y excluir\n"
   ]
  },
  {
   "cell_type": "code",
   "execution_count": null,
   "id": "interpreted-phase",
   "metadata": {},
   "outputs": [],
   "source": []
  },
  {
   "cell_type": "markdown",
   "id": "medical-strength",
   "metadata": {},
   "source": []
  },
  {
   "cell_type": "markdown",
   "id": "varying-candy",
   "metadata": {},
   "source": [
    "## Operaciones básicas con los dataframes"
   ]
  },
  {
   "cell_type": "markdown",
   "id": "higher-bridges",
   "metadata": {},
   "source": [
    "### Seleccionamos una columna"
   ]
  },
  {
   "cell_type": "code",
   "execution_count": null,
   "id": "harmful-breeding",
   "metadata": {},
   "outputs": [],
   "source": []
  },
  {
   "cell_type": "code",
   "execution_count": null,
   "id": "proof-township",
   "metadata": {},
   "outputs": [],
   "source": [
    "# Tengo una serie de pandas\n"
   ]
  },
  {
   "cell_type": "code",
   "execution_count": null,
   "id": "junior-stephen",
   "metadata": {},
   "outputs": [],
   "source": [
    "# Si solo pongo unos corchetes, tengo una serie de pandas"
   ]
  },
  {
   "cell_type": "code",
   "execution_count": null,
   "id": "inside-viking",
   "metadata": {},
   "outputs": [],
   "source": []
  },
  {
   "cell_type": "code",
   "execution_count": null,
   "id": "driving-writer",
   "metadata": {},
   "outputs": [],
   "source": [
    "# Si a pesar de pasarle una lista, solo tiene un elemento, tengo un dataframe con una sola columna"
   ]
  },
  {
   "cell_type": "code",
   "execution_count": null,
   "id": "ancient-trouble",
   "metadata": {},
   "outputs": [],
   "source": [
    "# O dos :), o las que queramos"
   ]
  },
  {
   "cell_type": "code",
   "execution_count": null,
   "id": "dense-decimal",
   "metadata": {},
   "outputs": [],
   "source": []
  },
  {
   "cell_type": "markdown",
   "id": "industrial-amazon",
   "metadata": {},
   "source": [
    "### Seleccionamos varias columnas"
   ]
  },
  {
   "cell_type": "code",
   "execution_count": null,
   "id": "independent-alberta",
   "metadata": {},
   "outputs": [],
   "source": []
  },
  {
   "cell_type": "code",
   "execution_count": null,
   "id": "plastic-mills",
   "metadata": {},
   "outputs": [],
   "source": [
    "#le podemos pasar directamente una lista con los nombres de las columnas\n"
   ]
  },
  {
   "cell_type": "code",
   "execution_count": null,
   "id": "photographic-writing",
   "metadata": {},
   "outputs": [],
   "source": []
  },
  {
   "cell_type": "code",
   "execution_count": null,
   "id": "previous-maximum",
   "metadata": {},
   "outputs": [],
   "source": [
    "# Listar los nombres de columnas de un dataframe\n"
   ]
  },
  {
   "cell_type": "code",
   "execution_count": null,
   "id": "iraqi-jones",
   "metadata": {},
   "outputs": [],
   "source": []
  },
  {
   "cell_type": "code",
   "execution_count": null,
   "id": "excessive-armstrong",
   "metadata": {},
   "outputs": [],
   "source": []
  },
  {
   "cell_type": "code",
   "execution_count": null,
   "id": "thorough-taiwan",
   "metadata": {},
   "outputs": [],
   "source": []
  },
  {
   "cell_type": "code",
   "execution_count": null,
   "id": "advanced-upset",
   "metadata": {},
   "outputs": [],
   "source": []
  },
  {
   "cell_type": "code",
   "execution_count": null,
   "id": "internal-falls",
   "metadata": {},
   "outputs": [],
   "source": []
  },
  {
   "cell_type": "markdown",
   "id": "local-appointment",
   "metadata": {},
   "source": [
    "### Obtener los valores únicos de una columna (es decir, una serie)"
   ]
  },
  {
   "cell_type": "code",
   "execution_count": null,
   "id": "limited-worse",
   "metadata": {},
   "outputs": [],
   "source": []
  },
  {
   "cell_type": "code",
   "execution_count": null,
   "id": "bored-score",
   "metadata": {},
   "outputs": [],
   "source": []
  },
  {
   "cell_type": "code",
   "execution_count": null,
   "id": "little-device",
   "metadata": {},
   "outputs": [],
   "source": []
  },
  {
   "cell_type": "code",
   "execution_count": null,
   "id": "prospective-chuck",
   "metadata": {},
   "outputs": [],
   "source": []
  },
  {
   "cell_type": "markdown",
   "id": "statutory-chess",
   "metadata": {},
   "source": [
    "### Cambiar el tipo de datos de una columna"
   ]
  },
  {
   "cell_type": "code",
   "execution_count": null,
   "id": "three-support",
   "metadata": {},
   "outputs": [],
   "source": []
  },
  {
   "cell_type": "code",
   "execution_count": null,
   "id": "comic-johns",
   "metadata": {},
   "outputs": [],
   "source": [
    "# Atención!! que no se cambian los datos si no sobreescribimos la columna\n"
   ]
  },
  {
   "cell_type": "code",
   "execution_count": null,
   "id": "apparent-direction",
   "metadata": {},
   "outputs": [],
   "source": []
  },
  {
   "cell_type": "code",
   "execution_count": null,
   "id": "single-carpet",
   "metadata": {},
   "outputs": [],
   "source": []
  },
  {
   "cell_type": "code",
   "execution_count": null,
   "id": "informational-birmingham",
   "metadata": {},
   "outputs": [],
   "source": []
  },
  {
   "cell_type": "code",
   "execution_count": null,
   "id": "premier-sweden",
   "metadata": {},
   "outputs": [],
   "source": []
  },
  {
   "cell_type": "code",
   "execution_count": null,
   "id": "sitting-nitrogen",
   "metadata": {},
   "outputs": [],
   "source": [
    "# Para crear una columna nueva solamente tengo que darle un nombre, por ejemplo df[\"nueva\"]\n",
    "# Como cuando en un diccionario añado una KEY\n"
   ]
  },
  {
   "cell_type": "code",
   "execution_count": null,
   "id": "comfortable-health",
   "metadata": {},
   "outputs": [],
   "source": []
  },
  {
   "cell_type": "code",
   "execution_count": null,
   "id": "exceptional-bracket",
   "metadata": {},
   "outputs": [],
   "source": []
  },
  {
   "cell_type": "code",
   "execution_count": null,
   "id": "informal-antibody",
   "metadata": {},
   "outputs": [],
   "source": []
  },
  {
   "cell_type": "code",
   "execution_count": null,
   "id": "handled-skill",
   "metadata": {},
   "outputs": [],
   "source": [
    "# No puedo sumar strings y números\n",
    "# df[\"ejemplo\"] = df.AveragePrice + df.region "
   ]
  },
  {
   "cell_type": "markdown",
   "id": "orange-burden",
   "metadata": {},
   "source": [
    "### Filtramos los datos por el valor de las columnas"
   ]
  },
  {
   "cell_type": "code",
   "execution_count": null,
   "id": "united-genre",
   "metadata": {},
   "outputs": [],
   "source": []
  },
  {
   "cell_type": "code",
   "execution_count": null,
   "id": "surprised-breach",
   "metadata": {},
   "outputs": [],
   "source": []
  },
  {
   "cell_type": "code",
   "execution_count": null,
   "id": "brief-heritage",
   "metadata": {},
   "outputs": [],
   "source": []
  },
  {
   "cell_type": "code",
   "execution_count": null,
   "id": "incoming-variance",
   "metadata": {},
   "outputs": [],
   "source": [
    "# ESTE CÓDIGO HACE EXACTAMENTE LO MISMO QUE LO ANTERIOR\n"
   ]
  },
  {
   "cell_type": "code",
   "execution_count": null,
   "id": "young-speaker",
   "metadata": {},
   "outputs": [],
   "source": []
  },
  {
   "cell_type": "code",
   "execution_count": null,
   "id": "metric-auckland",
   "metadata": {},
   "outputs": [],
   "source": []
  },
  {
   "cell_type": "code",
   "execution_count": null,
   "id": "offshore-truth",
   "metadata": {},
   "outputs": [],
   "source": [
    "# multicondición, & and lógico\n"
   ]
  },
  {
   "cell_type": "code",
   "execution_count": null,
   "id": "manufactured-asian",
   "metadata": {},
   "outputs": [],
   "source": []
  },
  {
   "cell_type": "code",
   "execution_count": null,
   "id": "flush-printing",
   "metadata": {},
   "outputs": [],
   "source": [
    "# | or logico\n"
   ]
  },
  {
   "cell_type": "markdown",
   "id": "viral-enzyme",
   "metadata": {},
   "source": [
    "### Copia de un dataframe y renombrar columnas"
   ]
  },
  {
   "cell_type": "code",
   "execution_count": null,
   "id": "intended-merchandise",
   "metadata": {},
   "outputs": [],
   "source": []
  },
  {
   "cell_type": "markdown",
   "id": "apparent-venture",
   "metadata": {},
   "source": [
    "#### Renombramos columnas\n",
    "Para renombrar columnas necesitamos un diccionario"
   ]
  },
  {
   "cell_type": "code",
   "execution_count": null,
   "id": "beginning-merchandise",
   "metadata": {},
   "outputs": [],
   "source": []
  },
  {
   "cell_type": "code",
   "execution_count": null,
   "id": "included-coordinator",
   "metadata": {},
   "outputs": [],
   "source": []
  },
  {
   "cell_type": "code",
   "execution_count": null,
   "id": "infinite-definition",
   "metadata": {},
   "outputs": [],
   "source": []
  },
  {
   "cell_type": "code",
   "execution_count": null,
   "id": "sweet-pocket",
   "metadata": {},
   "outputs": [],
   "source": [
    "# Utilizamos el inplace=True para que se ejecute la acción sobre el dataframe\n"
   ]
  },
  {
   "cell_type": "code",
   "execution_count": null,
   "id": "mounted-moses",
   "metadata": {},
   "outputs": [],
   "source": []
  },
  {
   "cell_type": "markdown",
   "id": "everyday-oregon",
   "metadata": {},
   "source": [
    "El método rename me permite renombrar solamente las columnas que yo quiera, las que estén en el diccionario. No hace falta renombrar todas a la vez "
   ]
  },
  {
   "cell_type": "code",
   "execution_count": null,
   "id": "naval-ukraine",
   "metadata": {},
   "outputs": [],
   "source": []
  },
  {
   "cell_type": "code",
   "execution_count": null,
   "id": "native-islam",
   "metadata": {},
   "outputs": [],
   "source": []
  },
  {
   "cell_type": "code",
   "execution_count": null,
   "id": "animated-emerald",
   "metadata": {},
   "outputs": [],
   "source": []
  },
  {
   "cell_type": "code",
   "execution_count": null,
   "id": "packed-reach",
   "metadata": {},
   "outputs": [],
   "source": []
  },
  {
   "cell_type": "code",
   "execution_count": null,
   "id": "compressed-equity",
   "metadata": {},
   "outputs": [],
   "source": []
  },
  {
   "cell_type": "code",
   "execution_count": null,
   "id": "hollow-deposit",
   "metadata": {},
   "outputs": [],
   "source": []
  },
  {
   "cell_type": "code",
   "execution_count": null,
   "id": "collaborative-james",
   "metadata": {},
   "outputs": [],
   "source": [
    "# Podríamos guardarlo en una nueva variable\n"
   ]
  },
  {
   "cell_type": "code",
   "execution_count": null,
   "id": "opposed-salad",
   "metadata": {},
   "outputs": [],
   "source": []
  },
  {
   "cell_type": "markdown",
   "id": "unexpected-hammer",
   "metadata": {},
   "source": [
    "#### Podemos renombrar las columnas machacando el atributo de la instancia... ¿os suena esto?\n",
    "Requiere una lista con el mismo número de columnas"
   ]
  },
  {
   "cell_type": "code",
   "execution_count": null,
   "id": "engaging-robert",
   "metadata": {},
   "outputs": [],
   "source": [
    "# O podríamos machacar el atributo del objeto columns\n"
   ]
  },
  {
   "cell_type": "code",
   "execution_count": null,
   "id": "funded-radius",
   "metadata": {},
   "outputs": [],
   "source": []
  },
  {
   "cell_type": "code",
   "execution_count": null,
   "id": "legal-montana",
   "metadata": {},
   "outputs": [],
   "source": []
  },
  {
   "cell_type": "code",
   "execution_count": null,
   "id": "realistic-links",
   "metadata": {},
   "outputs": [],
   "source": []
  },
  {
   "cell_type": "code",
   "execution_count": null,
   "id": "spanish-cement",
   "metadata": {},
   "outputs": [],
   "source": []
  },
  {
   "cell_type": "markdown",
   "id": "unique-circulation",
   "metadata": {},
   "source": [
    "### Borramos columnas"
   ]
  },
  {
   "cell_type": "code",
   "execution_count": null,
   "id": "renewable-complexity",
   "metadata": {},
   "outputs": [],
   "source": [
    "# Axis 1 siempre columnas\n"
   ]
  },
  {
   "cell_type": "code",
   "execution_count": null,
   "id": "sublime-mouth",
   "metadata": {},
   "outputs": [],
   "source": []
  },
  {
   "cell_type": "code",
   "execution_count": null,
   "id": "framed-batman",
   "metadata": {},
   "outputs": [],
   "source": []
  },
  {
   "cell_type": "code",
   "execution_count": null,
   "id": "legendary-belgium",
   "metadata": {},
   "outputs": [],
   "source": []
  },
  {
   "cell_type": "code",
   "execution_count": null,
   "id": "cordless-tenant",
   "metadata": {},
   "outputs": [],
   "source": []
  },
  {
   "cell_type": "markdown",
   "id": "native-oxide",
   "metadata": {},
   "source": [
    "### Borramos filas"
   ]
  },
  {
   "cell_type": "code",
   "execution_count": null,
   "id": "impossible-complaint",
   "metadata": {},
   "outputs": [],
   "source": [
    "# Axis 0 siempre filas\n"
   ]
  },
  {
   "cell_type": "code",
   "execution_count": null,
   "id": "unavailable-madagascar",
   "metadata": {},
   "outputs": [],
   "source": []
  },
  {
   "cell_type": "markdown",
   "id": "supposed-recipe",
   "metadata": {},
   "source": [
    "Las filas también se pueden eliminar. Ten en cuenta que los índices no se reinician. El índice se asocia a la fila, no al orden.   \n",
    "¿Se puede reiniciar el index? Correcto\n"
   ]
  },
  {
   "cell_type": "code",
   "execution_count": null,
   "id": "happy-record",
   "metadata": {},
   "outputs": [],
   "source": []
  },
  {
   "cell_type": "code",
   "execution_count": null,
   "id": "proof-scottish",
   "metadata": {},
   "outputs": [],
   "source": []
  },
  {
   "cell_type": "code",
   "execution_count": null,
   "id": "pharmaceutical-submission",
   "metadata": {},
   "outputs": [],
   "source": []
  },
  {
   "cell_type": "markdown",
   "id": "encouraging-cabin",
   "metadata": {},
   "source": [
    "### Reset_index y set_index"
   ]
  },
  {
   "cell_type": "markdown",
   "id": "hidden-speech",
   "metadata": {},
   "source": [
    "Leemos la [documentación](https://pandas.pydata.org/pandas-docs/stable/reference/api/pandas.DataFrame.reset_index.html) para entender algunos parámetros"
   ]
  },
  {
   "cell_type": "code",
   "execution_count": null,
   "id": "impressive-going",
   "metadata": {},
   "outputs": [],
   "source": []
  },
  {
   "cell_type": "code",
   "execution_count": null,
   "id": "entertaining-mounting",
   "metadata": {},
   "outputs": [],
   "source": [
    "#Drop = True evita que se genere otra columna con el index anterior"
   ]
  },
  {
   "cell_type": "code",
   "execution_count": null,
   "id": "dutch-dispute",
   "metadata": {},
   "outputs": [],
   "source": []
  },
  {
   "cell_type": "markdown",
   "id": "invalid-holly",
   "metadata": {},
   "source": [
    "#### SET_INDEX"
   ]
  },
  {
   "cell_type": "code",
   "execution_count": null,
   "id": "generic-monthly",
   "metadata": {},
   "outputs": [],
   "source": []
  },
  {
   "cell_type": "code",
   "execution_count": null,
   "id": "interracial-discussion",
   "metadata": {},
   "outputs": [],
   "source": []
  },
  {
   "cell_type": "code",
   "execution_count": null,
   "id": "paperback-shoot",
   "metadata": {},
   "outputs": [],
   "source": []
  },
  {
   "cell_type": "markdown",
   "id": "young-intersection",
   "metadata": {},
   "source": [
    "¿Para qué nos puede servir tener la fecha como índice?    \n",
    "Lo veremos más adelante, para analizar series temporales, pero os avanzo un poco de fantasía"
   ]
  },
  {
   "cell_type": "code",
   "execution_count": null,
   "id": "tropical-equity",
   "metadata": {},
   "outputs": [],
   "source": []
  },
  {
   "cell_type": "code",
   "execution_count": null,
   "id": "personal-retailer",
   "metadata": {},
   "outputs": [],
   "source": []
  },
  {
   "cell_type": "code",
   "execution_count": null,
   "id": "cheap-indianapolis",
   "metadata": {},
   "outputs": [],
   "source": []
  },
  {
   "cell_type": "markdown",
   "id": "neutral-founder",
   "metadata": {},
   "source": [
    "### Operaciones entre columnas"
   ]
  },
  {
   "cell_type": "code",
   "execution_count": null,
   "id": "ready-current",
   "metadata": {},
   "outputs": [],
   "source": [
    "# Para generar una columna nueva solo tengo que ponerle un nombreS"
   ]
  },
  {
   "cell_type": "code",
   "execution_count": null,
   "id": "improved-philosophy",
   "metadata": {},
   "outputs": [],
   "source": []
  },
  {
   "cell_type": "markdown",
   "id": "collective-serve",
   "metadata": {},
   "source": [
    "## Apply !! "
   ]
  },
  {
   "cell_type": "markdown",
   "id": "international-james",
   "metadata": {},
   "source": [
    "Aplica una función a lo largo de un eje del DataFrame.      \n",
    "[Lee la doc](https://pandas.pydata.org/docs/reference/api/pandas.DataFrame.apply.html)"
   ]
  },
  {
   "cell_type": "code",
   "execution_count": null,
   "id": "magnetic-technology",
   "metadata": {},
   "outputs": [],
   "source": [
    "#Creamos una función sencilla que vamos a aplicar"
   ]
  },
  {
   "cell_type": "code",
   "execution_count": null,
   "id": "acknowledged-output",
   "metadata": {},
   "outputs": [],
   "source": []
  },
  {
   "cell_type": "code",
   "execution_count": null,
   "id": "exclusive-metadata",
   "metadata": {},
   "outputs": [],
   "source": []
  },
  {
   "cell_type": "code",
   "execution_count": null,
   "id": "prospective-blink",
   "metadata": {},
   "outputs": [],
   "source": []
  },
  {
   "cell_type": "code",
   "execution_count": null,
   "id": "falling-damage",
   "metadata": {},
   "outputs": [],
   "source": []
  },
  {
   "cell_type": "code",
   "execution_count": null,
   "id": "domestic-richardson",
   "metadata": {},
   "outputs": [],
   "source": [
    "# Aplicamos la función a una columna y vemos el resultado en la salida"
   ]
  },
  {
   "cell_type": "code",
   "execution_count": null,
   "id": "gorgeous-memory",
   "metadata": {},
   "outputs": [],
   "source": []
  },
  {
   "cell_type": "code",
   "execution_count": null,
   "id": "essential-connecticut",
   "metadata": {},
   "outputs": [],
   "source": [
    "# Si quiero machacar la columna\n"
   ]
  },
  {
   "cell_type": "code",
   "execution_count": null,
   "id": "political-dining",
   "metadata": {},
   "outputs": [],
   "source": [
    "# Vamos a crear una columna nueva haciendo un apply a otra columna"
   ]
  },
  {
   "cell_type": "code",
   "execution_count": null,
   "id": "unlimited-opinion",
   "metadata": {},
   "outputs": [],
   "source": []
  },
  {
   "cell_type": "code",
   "execution_count": null,
   "id": "polar-robert",
   "metadata": {},
   "outputs": [],
   "source": []
  },
  {
   "cell_type": "code",
   "execution_count": null,
   "id": "comprehensive-pepper",
   "metadata": {},
   "outputs": [],
   "source": [
    "#Hazlo con lambda!!\n",
    "# Vamos a hacer una columna nueva que junte región y año solamente si en type pone convencional y si no otra cosa"
   ]
  },
  {
   "cell_type": "code",
   "execution_count": null,
   "id": "stupid-couple",
   "metadata": {},
   "outputs": [],
   "source": []
  },
  {
   "cell_type": "code",
   "execution_count": null,
   "id": "patent-coordination",
   "metadata": {},
   "outputs": [],
   "source": []
  },
  {
   "cell_type": "code",
   "execution_count": null,
   "id": "automotive-radical",
   "metadata": {},
   "outputs": [],
   "source": []
  },
  {
   "cell_type": "code",
   "execution_count": null,
   "id": "virgin-client",
   "metadata": {},
   "outputs": [],
   "source": []
  },
  {
   "cell_type": "code",
   "execution_count": null,
   "id": "public-israeli",
   "metadata": {},
   "outputs": [],
   "source": []
  },
  {
   "cell_type": "code",
   "execution_count": null,
   "id": "clinical-injury",
   "metadata": {},
   "outputs": [],
   "source": [
    "# Aplicamos una función que además de x tiene otro argumento."
   ]
  },
  {
   "cell_type": "code",
   "execution_count": null,
   "id": "annoying-viking",
   "metadata": {},
   "outputs": [],
   "source": []
  },
  {
   "cell_type": "code",
   "execution_count": null,
   "id": "temporal-grounds",
   "metadata": {},
   "outputs": [],
   "source": []
  },
  {
   "cell_type": "code",
   "execution_count": null,
   "id": "dress-window",
   "metadata": {},
   "outputs": [],
   "source": []
  },
  {
   "cell_type": "code",
   "execution_count": null,
   "id": "pleased-overview",
   "metadata": {},
   "outputs": [],
   "source": []
  },
  {
   "cell_type": "code",
   "execution_count": null,
   "id": "associate-hunger",
   "metadata": {},
   "outputs": [],
   "source": [
    "# no puedo, tengo que hacerlo con lambda como hemos hecho arriba"
   ]
  },
  {
   "cell_type": "markdown",
   "id": "organized-central",
   "metadata": {},
   "source": [
    "Cuando hago un apply sobre una columna, aunque use un lambda, no pongo axis porque en el caso de abajo, lo que estoy haciendo es modificar una columna, utilizo lambda para decirle al apply que el primer argumento es un string que viene de fuera y el segundo argumento es el propio registro del dataframe. "
   ]
  },
  {
   "cell_type": "code",
   "execution_count": null,
   "id": "strange-fraction",
   "metadata": {},
   "outputs": [],
   "source": []
  },
  {
   "cell_type": "code",
   "execution_count": null,
   "id": "assured-medication",
   "metadata": {},
   "outputs": [],
   "source": []
  },
  {
   "cell_type": "markdown",
   "id": "occupational-intro",
   "metadata": {},
   "source": [
    "## Df .loc e .iloc"
   ]
  },
  {
   "cell_type": "markdown",
   "id": "confused-tower",
   "metadata": {},
   "source": [
    "### Seleccionar filas y columnas en Pandas mediante posición con iloc"
   ]
  },
  {
   "cell_type": "markdown",
   "id": "affecting-hartford",
   "metadata": {},
   "source": [
    "El método iloc se utiliza en los DataFrames para seleccionar los elementos en base a su ubicación. Su sintaxis es data.iloc[<filas>, <columnas>], donde <filas> y <columnas> son la posición de las filas y columnas que se desean seleccionar en el orden que aparecen en el objeto. Una notación familiar para los usuarios de Matlab. En un DataFrame cada una de las filas tiene un número que va desde 0 hasta el total de filas menos uno. Siendo iloc el método que permite seleccionar los datos en base a estos números. Lo mismo que aplica a las columnas.\n",
    "\n",
    "En iloc hay dos argumentos filas y columnas. En caso de que se omita el segundo, se seleccionarán todas las columnas de la fila. Así para seleccionar diferentes filas se puede utilizar."
   ]
  },
  {
   "cell_type": "code",
   "execution_count": null,
   "id": "welcome-doctor",
   "metadata": {},
   "outputs": [],
   "source": [
    "#seleccionamos un registro completo\n"
   ]
  },
  {
   "cell_type": "code",
   "execution_count": null,
   "id": "sitting-morrison",
   "metadata": {},
   "outputs": [],
   "source": [
    "#un rango de registros con sliding\n"
   ]
  },
  {
   "cell_type": "code",
   "execution_count": null,
   "id": "unnecessary-lewis",
   "metadata": {},
   "outputs": [],
   "source": [
    "# Registros de la primera columna\n"
   ]
  },
  {
   "cell_type": "code",
   "execution_count": null,
   "id": "capital-bahrain",
   "metadata": {},
   "outputs": [],
   "source": [
    "# El segundo argumento, en este caso el número 1, es la columna, aquí no pasamos string si no posición."
   ]
  },
  {
   "cell_type": "code",
   "execution_count": null,
   "id": "scenic-raising",
   "metadata": {},
   "outputs": [],
   "source": []
  },
  {
   "cell_type": "code",
   "execution_count": null,
   "id": "informational-logic",
   "metadata": {},
   "outputs": [],
   "source": [
    "# COLUMNAS POR RANGO"
   ]
  },
  {
   "cell_type": "code",
   "execution_count": null,
   "id": "blessed-transcript",
   "metadata": {},
   "outputs": [],
   "source": []
  },
  {
   "cell_type": "markdown",
   "id": "awful-friday",
   "metadata": {},
   "source": [
    "### Seleccionar filas y columnas en Pandas en base a etiquetas con loc\n",
    "El método loc se puede usar de dos formas diferentes: seleccionar filas o columnas en base a una etiqueta o seleccionar filas o columnas en base a una condición."
   ]
  },
  {
   "cell_type": "markdown",
   "id": "compressed-bookmark",
   "metadata": {},
   "source": [
    "#### En base a etiqueta"
   ]
  },
  {
   "cell_type": "code",
   "execution_count": null,
   "id": "headed-transfer",
   "metadata": {},
   "outputs": [],
   "source": []
  },
  {
   "cell_type": "code",
   "execution_count": null,
   "id": "norwegian-active",
   "metadata": {},
   "outputs": [],
   "source": []
  },
  {
   "cell_type": "code",
   "execution_count": null,
   "id": "preceding-infrastructure",
   "metadata": {},
   "outputs": [],
   "source": []
  },
  {
   "cell_type": "markdown",
   "id": "photographic-fortune",
   "metadata": {},
   "source": [
    "## Ordenamos un dataframe"
   ]
  },
  {
   "cell_type": "code",
   "execution_count": null,
   "id": "equal-folks",
   "metadata": {},
   "outputs": [],
   "source": []
  },
  {
   "cell_type": "markdown",
   "id": "behind-celebration",
   "metadata": {},
   "source": [
    "Sintaxis del loc con varias condiciones\n",
    "```python \n",
    "df.loc[(df[\"columna\"] condición) & (df[\"columna\"] condición)]\n",
    "````"
   ]
  },
  {
   "cell_type": "markdown",
   "id": "written-canberra",
   "metadata": {},
   "source": [
    "Misma operación, pero dame solo columnas concretas"
   ]
  },
  {
   "cell_type": "code",
   "execution_count": null,
   "id": "found-insulation",
   "metadata": {},
   "outputs": [],
   "source": [
    "# Esta selección de columnas la vimos al principio, pasarle una lista para que coja solo las columnas que quiero\n"
   ]
  },
  {
   "cell_type": "markdown",
   "id": "defensive-print",
   "metadata": {},
   "source": [
    "### Buscamos valores nulos "
   ]
  },
  {
   "cell_type": "code",
   "execution_count": null,
   "id": "graphic-treasure",
   "metadata": {},
   "outputs": [],
   "source": []
  },
  {
   "cell_type": "code",
   "execution_count": null,
   "id": "intimate-account",
   "metadata": {},
   "outputs": [],
   "source": []
  },
  {
   "cell_type": "markdown",
   "id": "english-baseline",
   "metadata": {},
   "source": [
    "#### ¿Es nulo?"
   ]
  },
  {
   "cell_type": "code",
   "execution_count": null,
   "id": "desirable-separation",
   "metadata": {},
   "outputs": [],
   "source": []
  },
  {
   "cell_type": "markdown",
   "id": "complicated-official",
   "metadata": {},
   "source": [
    "#### ¿Es NO nulo?"
   ]
  },
  {
   "cell_type": "code",
   "execution_count": null,
   "id": "involved-private",
   "metadata": {},
   "outputs": [],
   "source": []
  },
  {
   "cell_type": "markdown",
   "id": "aggregate-glass",
   "metadata": {},
   "source": [
    "#### Sacar una suma de los valores nulos de cada columna"
   ]
  },
  {
   "cell_type": "code",
   "execution_count": null,
   "id": "disciplinary-finder",
   "metadata": {},
   "outputs": [],
   "source": []
  },
  {
   "cell_type": "markdown",
   "id": "dramatic-victoria",
   "metadata": {},
   "source": [
    "### Borramos los valores nulos\n",
    "Hay varias formas de hacerlo, tenemos en cuenta el parámetro \"how\" y, desde luego, [nos leemos la documentación](https://pandas.pydata.org/pandas-docs/stable/reference/api/pandas.DataFrame.dropna.html)."
   ]
  },
  {
   "cell_type": "code",
   "execution_count": null,
   "id": "distant-nickname",
   "metadata": {},
   "outputs": [],
   "source": []
  },
  {
   "cell_type": "code",
   "execution_count": null,
   "id": "removable-bridal",
   "metadata": {},
   "outputs": [],
   "source": [
    "#Con \"all\" borramos donde TODOS los registros sean NaN"
   ]
  },
  {
   "cell_type": "code",
   "execution_count": null,
   "id": "burning-flood",
   "metadata": {},
   "outputs": [],
   "source": []
  },
  {
   "cell_type": "code",
   "execution_count": null,
   "id": "according-dressing",
   "metadata": {},
   "outputs": [],
   "source": [
    "# NUNCA BORRAMOS LOS NAN A LO LOCO, OS LO SUPLICO \n",
    "# Si no pongo nada, axis = 0 entonces borra todas las filas que contengan un NaN da igual en qué columna\n"
   ]
  },
  {
   "cell_type": "code",
   "execution_count": null,
   "id": "crucial-latitude",
   "metadata": {},
   "outputs": [],
   "source": []
  },
  {
   "cell_type": "code",
   "execution_count": null,
   "id": "clean-climb",
   "metadata": {},
   "outputs": [],
   "source": [
    "# si hago drop axis=1 lo que borramos son las columnas, ESTO TAMPOCO LO HACEMOS POR FAVOR\n"
   ]
  },
  {
   "cell_type": "code",
   "execution_count": null,
   "id": "checked-faculty",
   "metadata": {},
   "outputs": [],
   "source": []
  },
  {
   "cell_type": "code",
   "execution_count": null,
   "id": "intended-receipt",
   "metadata": {},
   "outputs": [],
   "source": []
  },
  {
   "cell_type": "code",
   "execution_count": null,
   "id": "found-showcase",
   "metadata": {},
   "outputs": [],
   "source": [
    "# BORRAMOS LOS REGISTROS DONDE TODO SEA NAN (poner axis=0 es lo mismo que nada porque viene por defecto)\n"
   ]
  },
  {
   "cell_type": "code",
   "execution_count": null,
   "id": "worthy-official",
   "metadata": {},
   "outputs": [],
   "source": [
    "# Borramos las columnas donde todo sea NAN\n"
   ]
  },
  {
   "cell_type": "markdown",
   "id": "chicken-pregnancy",
   "metadata": {},
   "source": [
    "RECORDAD QUE INPLACE TRUE ES PARA QUE EL MÉTODO ACCIONE SOBRE EL DF, SI NO, TENGO QUE GUARDARLO EN UNA VARIABLE NUEVA"
   ]
  },
  {
   "cell_type": "markdown",
   "id": "american-fluid",
   "metadata": {},
   "source": [
    "Con \"any\" (parámetro que viene by default así que ojo con no poner nada) se borran todos los registros en los que en alguna columna haya un NaN"
   ]
  },
  {
   "cell_type": "code",
   "execution_count": null,
   "id": "purple-mercy",
   "metadata": {},
   "outputs": [],
   "source": []
  },
  {
   "cell_type": "markdown",
   "id": "partial-medicare",
   "metadata": {},
   "source": [
    "### Cómo rellenar los datos que faltan"
   ]
  },
  {
   "cell_type": "markdown",
   "id": "exclusive-custody",
   "metadata": {},
   "source": [
    "¿Qué os parece un poquito de [documentación](https://pandas.pydata.org/docs/reference/api/pandas.DataFrame.fillna.html)?"
   ]
  },
  {
   "cell_type": "code",
   "execution_count": null,
   "id": "neural-brown",
   "metadata": {},
   "outputs": [],
   "source": []
  },
  {
   "cell_type": "code",
   "execution_count": null,
   "id": "potential-swift",
   "metadata": {},
   "outputs": [],
   "source": []
  },
  {
   "cell_type": "code",
   "execution_count": null,
   "id": "medical-methodology",
   "metadata": {},
   "outputs": [],
   "source": [
    "#FILLNA es el método que me va a permitir rellenar los NAN con lo que yo le ponga\n"
   ]
  },
  {
   "cell_type": "code",
   "execution_count": null,
   "id": "intelligent-administration",
   "metadata": {},
   "outputs": [],
   "source": []
  },
  {
   "cell_type": "code",
   "execution_count": null,
   "id": "logical-cleveland",
   "metadata": {},
   "outputs": [],
   "source": []
  },
  {
   "cell_type": "code",
   "execution_count": null,
   "id": "tracked-mouth",
   "metadata": {},
   "outputs": [],
   "source": []
  },
  {
   "cell_type": "code",
   "execution_count": null,
   "id": "macro-macedonia",
   "metadata": {},
   "outputs": [],
   "source": []
  },
  {
   "cell_type": "code",
   "execution_count": null,
   "id": "rocky-arcade",
   "metadata": {},
   "outputs": [],
   "source": []
  },
  {
   "cell_type": "code",
   "execution_count": null,
   "id": "divine-wonder",
   "metadata": {},
   "outputs": [],
   "source": []
  },
  {
   "cell_type": "code",
   "execution_count": null,
   "id": "racial-laugh",
   "metadata": {},
   "outputs": [],
   "source": []
  },
  {
   "cell_type": "code",
   "execution_count": null,
   "id": "working-tuesday",
   "metadata": {},
   "outputs": [],
   "source": []
  },
  {
   "cell_type": "code",
   "execution_count": null,
   "id": "accessible-roommate",
   "metadata": {},
   "outputs": [],
   "source": []
  },
  {
   "cell_type": "code",
   "execution_count": null,
   "id": "characteristic-verse",
   "metadata": {},
   "outputs": [],
   "source": [
    "# REPASAMOS APPLY PARA SACAR UNA COLUMNA NUEVA CON INFORMACIÓN DE OTRA\n"
   ]
  },
  {
   "cell_type": "code",
   "execution_count": null,
   "id": "brutal-leave",
   "metadata": {},
   "outputs": [],
   "source": []
  },
  {
   "cell_type": "code",
   "execution_count": null,
   "id": "dried-campus",
   "metadata": {},
   "outputs": [],
   "source": []
  },
  {
   "cell_type": "code",
   "execution_count": null,
   "id": "recovered-provider",
   "metadata": {},
   "outputs": [],
   "source": []
  },
  {
   "cell_type": "code",
   "execution_count": null,
   "id": "complex-radiation",
   "metadata": {},
   "outputs": [],
   "source": []
  },
  {
   "cell_type": "code",
   "execution_count": null,
   "id": "successful-requirement",
   "metadata": {},
   "outputs": [],
   "source": []
  },
  {
   "cell_type": "markdown",
   "id": "israeli-billion",
   "metadata": {},
   "source": [
    "##### CATEGÓRICAS EN DATAFRAME Y DEJAR DOCUMENTACIÓN\n",
    "https://runebook.dev/es/docs/pandas/user_guide/categorical"
   ]
  },
  {
   "cell_type": "code",
   "execution_count": null,
   "id": "random-austin",
   "metadata": {},
   "outputs": [],
   "source": [
    "# ValueError: Cannot setitem on a Categorical with a new category, set the categories first\n"
   ]
  },
  {
   "cell_type": "code",
   "execution_count": null,
   "id": "tight-carolina",
   "metadata": {},
   "outputs": [],
   "source": []
  },
  {
   "cell_type": "markdown",
   "id": "documentary-declaration",
   "metadata": {},
   "source": [
    "## Borramos los duplicados"
   ]
  },
  {
   "cell_type": "code",
   "execution_count": null,
   "id": "settled-february",
   "metadata": {},
   "outputs": [],
   "source": []
  },
  {
   "cell_type": "markdown",
   "id": "tamil-gibson",
   "metadata": {},
   "source": [
    "## Agregación de datos\n",
    "### GroupBy\n",
    "GroupBy de Pandas es una función potente y versátil en Python. Nos permite dividir sus datos en grupos separados para realizar cálculos para un mejor análisis.\n",
    "Un DataFrame puede agruparse en sus filas (eje=0) o en sus columnas (eje=1). Una vez hecho esto, se aplica una función a cada grupo, produciendo un nuevo valor. Finalmente, los resultados de todas esas aplicaciones de funciones se combinan en un objeto resultado. La forma del objeto resultante dependerá normalmente de lo que se haga con los datos."
   ]
  },
  {
   "cell_type": "markdown",
   "id": "surprised-malpractice",
   "metadata": {},
   "source": [
    "https://pandas.pydata.org/docs/reference/api/pandas.DataFrame.groupby.html"
   ]
  },
  {
   "cell_type": "code",
   "execution_count": null,
   "id": "standing-japanese",
   "metadata": {},
   "outputs": [],
   "source": []
  },
  {
   "cell_type": "code",
   "execution_count": null,
   "id": "checked-stranger",
   "metadata": {},
   "outputs": [],
   "source": [
    "df = pd.DataFrame({'key1' : ['a', 'a', 'b', 'b', 'a'], 'key2' : ['one', 'two', 'one', 'two', 'one'],'data1' : np.random.randn(5),'data2' : np.random.randn(5)})"
   ]
  },
  {
   "cell_type": "code",
   "execution_count": null,
   "id": "incredible-shopping",
   "metadata": {},
   "outputs": [],
   "source": []
  },
  {
   "cell_type": "markdown",
   "id": "separate-tsunami",
   "metadata": {},
   "source": [
    "Supongamos que queremos calcular la media de la columna data1 utilizando las etiquetas de key1. Hay varias formas de hacerlo. Una es acceder a datos1 y llamar a groupby con la columna (una Serie) en key1.\n",
    "Los datos (una Serie) han sido agregados según la clave de grupo, produciendo una nueva Serie que ahora está indexada por los valores únicos de la columna clave1. El índice resultante tiene el nombre 'clave1' porque la columna DataFrame `df['clave1']` lo hizo."
   ]
  },
  {
   "cell_type": "code",
   "execution_count": null,
   "id": "worldwide-biography",
   "metadata": {},
   "outputs": [],
   "source": []
  },
  {
   "cell_type": "code",
   "execution_count": null,
   "id": "identified-conducting",
   "metadata": {},
   "outputs": [],
   "source": []
  },
  {
   "cell_type": "markdown",
   "id": "imposed-village",
   "metadata": {},
   "source": [
    "#### Me preguntaréis ¿y si quiero agrupar por más columnas?"
   ]
  },
  {
   "cell_type": "code",
   "execution_count": null,
   "id": "equal-radio",
   "metadata": {},
   "outputs": [],
   "source": []
  },
  {
   "cell_type": "markdown",
   "id": "rising-outside",
   "metadata": {},
   "source": [
    "Otra forma de groupby con sintaxis agg     \n",
    "https://pandas.pydata.org/docs/reference/api/pandas.core.groupby.DataFrameGroupBy.aggregate.html\n",
    "\n",
    "- mean\n",
    "- sum\n",
    "- count"
   ]
  },
  {
   "cell_type": "code",
   "execution_count": null,
   "id": "cross-guatemala",
   "metadata": {},
   "outputs": [],
   "source": []
  },
  {
   "cell_type": "code",
   "execution_count": null,
   "id": "intellectual-median",
   "metadata": {},
   "outputs": [],
   "source": []
  },
  {
   "cell_type": "code",
   "execution_count": null,
   "id": "express-mentor",
   "metadata": {},
   "outputs": [],
   "source": []
  },
  {
   "cell_type": "code",
   "execution_count": null,
   "id": "dominant-minutes",
   "metadata": {},
   "outputs": [],
   "source": []
  },
  {
   "cell_type": "code",
   "execution_count": null,
   "id": "traditional-heavy",
   "metadata": {},
   "outputs": [],
   "source": []
  },
  {
   "cell_type": "code",
   "execution_count": null,
   "id": "christian-trigger",
   "metadata": {},
   "outputs": [],
   "source": [
    "# Esto es lo mismo que lo anterior, añado la columna AGE y al final hago la media\n"
   ]
  },
  {
   "cell_type": "code",
   "execution_count": null,
   "id": "essential-computer",
   "metadata": {},
   "outputs": [],
   "source": []
  },
  {
   "cell_type": "code",
   "execution_count": null,
   "id": "fossil-attitude",
   "metadata": {},
   "outputs": [],
   "source": []
  },
  {
   "cell_type": "code",
   "execution_count": null,
   "id": "educated-professional",
   "metadata": {},
   "outputs": [],
   "source": []
  },
  {
   "cell_type": "code",
   "execution_count": null,
   "id": "polar-asian",
   "metadata": {},
   "outputs": [],
   "source": []
  },
  {
   "cell_type": "code",
   "execution_count": null,
   "id": "conditional-malaysia",
   "metadata": {},
   "outputs": [],
   "source": []
  },
  {
   "cell_type": "code",
   "execution_count": null,
   "id": "bacterial-grave",
   "metadata": {},
   "outputs": [],
   "source": []
  },
  {
   "cell_type": "markdown",
   "id": "innovative-hormone",
   "metadata": {},
   "source": [
    "### Unión de Dataframes\n",
    "- https://realpython.com/pandas-merge-join-and-concat/\n",
    "- https://pandas.pydata.org/pandas-docs/stable/user_guide/merging.html\n",
    "\n",
    "\n",
    "### Concat\n",
    "Unimos dataframes a lo largo del eje 0 uno debajo de otro. Alinea las columnas por etiqueta."
   ]
  },
  {
   "cell_type": "code",
   "execution_count": null,
   "id": "stuck-activity",
   "metadata": {},
   "outputs": [],
   "source": []
  },
  {
   "cell_type": "code",
   "execution_count": null,
   "id": "narrow-maximum",
   "metadata": {},
   "outputs": [],
   "source": []
  },
  {
   "cell_type": "code",
   "execution_count": null,
   "id": "beginning-liver",
   "metadata": {},
   "outputs": [],
   "source": []
  },
  {
   "cell_type": "code",
   "execution_count": null,
   "id": "common-wright",
   "metadata": {},
   "outputs": [],
   "source": []
  },
  {
   "cell_type": "code",
   "execution_count": null,
   "id": "framed-philadelphia",
   "metadata": {},
   "outputs": [],
   "source": []
  },
  {
   "cell_type": "code",
   "execution_count": null,
   "id": "differential-testament",
   "metadata": {},
   "outputs": [],
   "source": []
  },
  {
   "cell_type": "code",
   "execution_count": null,
   "id": "deadly-publicity",
   "metadata": {},
   "outputs": [],
   "source": []
  },
  {
   "cell_type": "code",
   "execution_count": null,
   "id": "polyphonic-motion",
   "metadata": {},
   "outputs": [],
   "source": []
  },
  {
   "cell_type": "code",
   "execution_count": null,
   "id": "tested-burner",
   "metadata": {},
   "outputs": [],
   "source": []
  },
  {
   "cell_type": "code",
   "execution_count": null,
   "id": "vertical-tulsa",
   "metadata": {},
   "outputs": [],
   "source": [
    "# Podemos concatenar uno al lado del otro pero tienen que tener el mismo número de filas"
   ]
  },
  {
   "cell_type": "code",
   "execution_count": null,
   "id": "substantial-public",
   "metadata": {},
   "outputs": [],
   "source": []
  },
  {
   "cell_type": "code",
   "execution_count": null,
   "id": "narrative-receptor",
   "metadata": {},
   "outputs": [],
   "source": []
  },
  {
   "cell_type": "markdown",
   "id": "weekly-klein",
   "metadata": {},
   "source": [
    "### Merge"
   ]
  },
  {
   "cell_type": "markdown",
   "id": "fluid-composer",
   "metadata": {},
   "source": [
    "[Merge()](https://pandas.pydata.org/docs/reference/api/pandas.DataFrame.merge.html) es más útil cuando se desea combinar filas que comparten datos."
   ]
  },
  {
   "cell_type": "code",
   "execution_count": null,
   "id": "northern-approach",
   "metadata": {},
   "outputs": [],
   "source": [
    "df1=pd.DataFrame({'lkey': ['k0', 'k1', 'k2'],\n",
    "                   'B': [1, 2, 3]})\n",
    "\n",
    "df2=pd.DataFrame({'rkey': ['k0', 'k1', 'k2'],\n",
    "                   'B': [4, 6, 7]})"
   ]
  },
  {
   "cell_type": "code",
   "execution_count": null,
   "id": "dangerous-bandwidth",
   "metadata": {},
   "outputs": [],
   "source": [
    "df3=pd.DataFrame({'rkey': ['k0', 'k1', 'k2'],\n",
    "                   'Otracol': [4, 6, 7]})"
   ]
  },
  {
   "cell_type": "code",
   "execution_count": null,
   "id": "grand-programming",
   "metadata": {},
   "outputs": [],
   "source": []
  },
  {
   "cell_type": "code",
   "execution_count": null,
   "id": "increased-tractor",
   "metadata": {},
   "outputs": [],
   "source": []
  },
  {
   "cell_type": "code",
   "execution_count": null,
   "id": "opposed-seminar",
   "metadata": {},
   "outputs": [],
   "source": []
  },
  {
   "cell_type": "code",
   "execution_count": null,
   "id": "american-chance",
   "metadata": {},
   "outputs": [],
   "source": []
  },
  {
   "cell_type": "code",
   "execution_count": null,
   "id": "lightweight-bleeding",
   "metadata": {},
   "outputs": [],
   "source": []
  },
  {
   "cell_type": "code",
   "execution_count": null,
   "id": "functioning-morning",
   "metadata": {},
   "outputs": [],
   "source": []
  },
  {
   "cell_type": "code",
   "execution_count": null,
   "id": "fifteen-reality",
   "metadata": {},
   "outputs": [],
   "source": [
    "# Una vez hemos mergeado, nos interesa eliminar la columna repetida"
   ]
  },
  {
   "cell_type": "code",
   "execution_count": null,
   "id": "extensive-collaboration",
   "metadata": {},
   "outputs": [],
   "source": []
  },
  {
   "cell_type": "markdown",
   "id": "encouraging-violence",
   "metadata": {},
   "source": [
    "# Cuando no me coinciden los datos"
   ]
  },
  {
   "cell_type": "code",
   "execution_count": null,
   "id": "differential-cross",
   "metadata": {},
   "outputs": [],
   "source": [
    "df1=pd.DataFrame({'lkey': ['k0', 'k1', 'k2'],\n",
    "                   'B': [1, 2, 3]})\n",
    "\n",
    "df2=pd.DataFrame({'rkey': ['k0', 'k1', 'k3'],\n",
    "                   'B': [4, 6, 7]})"
   ]
  },
  {
   "cell_type": "code",
   "execution_count": null,
   "id": "touched-agency",
   "metadata": {},
   "outputs": [],
   "source": []
  },
  {
   "cell_type": "code",
   "execution_count": null,
   "id": "offensive-prospect",
   "metadata": {},
   "outputs": [],
   "source": []
  },
  {
   "cell_type": "code",
   "execution_count": null,
   "id": "green-feedback",
   "metadata": {},
   "outputs": [],
   "source": []
  },
  {
   "cell_type": "code",
   "execution_count": null,
   "id": "chicken-degree",
   "metadata": {},
   "outputs": [],
   "source": [
    "uno_2=pd.DataFrame({'nombre': ['ras', 'sonia', 'ana', 'dobby', 'k4'],\n",
    "                  'dirección': ['calle fantasía', 'a1', 'a2', 'a3', 'a4']})\n",
    "\n",
    "otro_2=pd.DataFrame({'nombre': ['ras', 'ana', 'sonia'],\n",
    "                  'teléfono': ['7245689247', 'b1', 'b2']})"
   ]
  },
  {
   "cell_type": "code",
   "execution_count": null,
   "id": "alien-closing",
   "metadata": {},
   "outputs": [],
   "source": [
    " # Si no pongo how es un INNER y borra donde no haya match"
   ]
  },
  {
   "cell_type": "code",
   "execution_count": null,
   "id": "phantom-agenda",
   "metadata": {},
   "outputs": [],
   "source": []
  },
  {
   "cell_type": "markdown",
   "id": "behavioral-anger",
   "metadata": {},
   "source": [
    "### Join\n",
    "El join, a diferencia del merge, va a unir los dataframes y donde no haya registros en el \"índice\" va a poner NaN"
   ]
  },
  {
   "cell_type": "code",
   "execution_count": null,
   "id": "searching-combine",
   "metadata": {},
   "outputs": [],
   "source": [
    "uno=pd.DataFrame({'key': ['k0', 'k1', 'k2', 'k3', 'k4'],\n",
    "                  'A': ['a0', 'a1', 'a2', 'a3', 'a4']})\n",
    "\n",
    "otro=pd.DataFrame({'key': ['k0', 'k1', 'k2'],\n",
    "                  'B': ['b0', 'b1', 'b2']})"
   ]
  },
  {
   "cell_type": "code",
   "execution_count": null,
   "id": "retired-captain",
   "metadata": {},
   "outputs": [],
   "source": []
  },
  {
   "cell_type": "code",
   "execution_count": null,
   "id": "fundamental-cooperative",
   "metadata": {},
   "outputs": [],
   "source": []
  },
  {
   "cell_type": "code",
   "execution_count": null,
   "id": "respective-mustang",
   "metadata": {},
   "outputs": [],
   "source": []
  },
  {
   "cell_type": "code",
   "execution_count": null,
   "id": "adjacent-anchor",
   "metadata": {},
   "outputs": [],
   "source": []
  },
  {
   "cell_type": "code",
   "execution_count": null,
   "id": "civil-kernel",
   "metadata": {},
   "outputs": [],
   "source": []
  },
  {
   "cell_type": "code",
   "execution_count": null,
   "id": "graduate-disclosure",
   "metadata": {},
   "outputs": [],
   "source": []
  },
  {
   "cell_type": "markdown",
   "id": "worthy-delicious",
   "metadata": {},
   "source": [
    "## Exportar datos"
   ]
  },
  {
   "cell_type": "code",
   "execution_count": null,
   "id": "super-milton",
   "metadata": {},
   "outputs": [],
   "source": []
  },
  {
   "cell_type": "markdown",
   "id": "unlimited-nelson",
   "metadata": {},
   "source": [
    "## Métodos habituales de pandas\n",
    "```python\n",
    "df.head()                     # printea la cabeza, por defecto 5 filas\n",
    "df.tail()                     # pritea la cola, por defecto 5 filas\n",
    "df.describe()                 # descripcion estadistica\n",
    "df.info()                     # informacion del df\n",
    "df.info(memory_usage='deep')\n",
    "df.columns                    # muestra columna\n",
    "df.index                      # muestra indice\n",
    "df.dtypes                     # muestra tipos de datos de las columnas\n",
    "df.plot()                     # hace un grafico\n",
    "df.hist()                     # hace un histograma\n",
    "df.col.value_counts()         # cuenta los valores unicos de una columna\n",
    "df.col.unique()               # muestra valores unicos de una columna\n",
    "df.copy()                     # copia el df\n",
    "df.drop()                     # elimina columnas o filas (axis=0,1)\n",
    "df.dropna()                   # elimina nulos\n",
    "df.fillna()                   # rellena nulos\n",
    "df.shape                      # dimensiones del df\n",
    "df._get_numeric_data()        # selecciona columnas numericas\n",
    "df.rename()                   # renombre columnas\n",
    "df.str.replace()              # reemplaza columnas de strings\n",
    "df.astype(dtype='float32')    # cambia el tipo de dato\n",
    "df.iloc[]                     # localiza por indice\n",
    "df.loc[]                      # localiza por elemento\n",
    "df.transpose()                # transpone el df\n",
    "df.T\n",
    "df.sample(n, frac)            # muestra del df\n",
    "df.col.sum()                  # suma de una columna\n",
    "df.col.max()                  # maximo de una columna\n",
    "df.col.min()                  # minimo de una columna\n",
    "df[col]                       # selecciona columna\n",
    "df.col\n",
    "df.isnull()                   # valores nulos\n",
    "df.isna()\n",
    "df.notna()                    # valores no nulos\n",
    "df.drop_duplicates()          # eliminar duplicados\n",
    "df.reset_index(inplace=True)  # resetea el indice y sobreescribe\n",
    "```"
   ]
  },
  {
   "cell_type": "markdown",
   "id": "extensive-capitol",
   "metadata": {},
   "source": [
    "## Resumen\n",
    "Es tu turno ¿qué hemos aprendido hoy?"
   ]
  },
  {
   "cell_type": "markdown",
   "id": "stylish-jefferson",
   "metadata": {},
   "source": [
    "## Further materials\n",
    "\n",
    "* [Read the docs!](https://pandas.pydata.org/pandas-docs/stable/index.html)\n",
    "* [Cheatsheet](https://pandas.pydata.org/Pandas_Cheat_Sheet.pdf)\n",
    "* [Exercises to practice](https://github.com/guipsamora/pandas_exercises)\n",
    "* [More on merge, concat, and join](https://realpython.com/pandas-merge-join-and-concat/#pandas-join-combining-data-on-a-column-or-index). And [even more!](https://pandas.pydata.org/pandas-docs/stable/user_guide/merging.html)\n",
    "* [Materials by a friend of a friend Juan Huguet](https://github.com/juanhuguetgarcia/uib-aa-g1-material/tree/master/W1%20-%20Intro%20to%20python%20y%20pandas) "
   ]
  }
 ],
 "metadata": {
  "kernelspec": {
   "display_name": "ironhack",
   "language": "python",
   "name": "ironhack"
  },
  "language_info": {
   "codemirror_mode": {
    "name": "ipython",
    "version": 3
   },
   "file_extension": ".py",
   "mimetype": "text/x-python",
   "name": "python",
   "nbconvert_exporter": "python",
   "pygments_lexer": "ipython3",
   "version": "3.8.5"
  },
  "toc": {
   "base_numbering": 1,
   "nav_menu": {},
   "number_sections": true,
   "sideBar": true,
   "skip_h1_title": true,
   "title_cell": "Table of Contents",
   "title_sidebar": "Contents",
   "toc_cell": true,
   "toc_position": {
    "height": "calc(100% - 180px)",
    "left": "10px",
    "top": "150px",
    "width": "288px"
   },
   "toc_section_display": true,
   "toc_window_display": false
  },
  "varInspector": {
   "cols": {
    "lenName": 16,
    "lenType": 16,
    "lenVar": 40
   },
   "kernels_config": {
    "python": {
     "delete_cmd_postfix": "",
     "delete_cmd_prefix": "del ",
     "library": "var_list.py",
     "varRefreshCmd": "print(var_dic_list())"
    },
    "r": {
     "delete_cmd_postfix": ") ",
     "delete_cmd_prefix": "rm(",
     "library": "var_list.r",
     "varRefreshCmd": "cat(var_dic_list()) "
    }
   },
   "types_to_exclude": [
    "module",
    "function",
    "builtin_function_or_method",
    "instance",
    "_Feature"
   ],
   "window_display": false
  }
 },
 "nbformat": 4,
 "nbformat_minor": 5
}
