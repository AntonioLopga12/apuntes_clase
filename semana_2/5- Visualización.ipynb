{
 "cells": [
  {
   "cell_type": "markdown",
   "id": "declared-allocation",
   "metadata": {},
   "source": [
    "# Visualización"
   ]
  },
  {
   "cell_type": "markdown",
   "id": "inside-estonia",
   "metadata": {},
   "source": [
    "![elgif](https://media.giphy.com/media/3og0IExSrnfW2kUaaI/giphy.gif)"
   ]
  },
  {
   "cell_type": "markdown",
   "id": "0d4be7e9",
   "metadata": {},
   "source": [
    "## Motivación\n",
    "En Python podemos realizar visualizaciones de todo tipo. En esta clase veremos algunas herramientas que nos permitirán crear gráficos. Algunos ejemplos psicodélicos...:\n",
    "\n",
    "\n",
    "![cuadrados](../images/cuadrados.png)\n",
    "\n",
    "\n",
    "![julia](../images/julia.png)\n",
    "\n",
    "\n",
    "![mandelbrot](../images/mandelbrot.png)\n",
    "\n",
    "\n",
    "Pero... **WAIT**     \n",
    "Este no es nuestro objetivo. \n",
    "\n",
    "En realidad, nuestros objetivos son dos, en primer lugar visualizar los datos para realizar un análisis exploratorio de los datos, EDA por las siglas en inglés. Necesitamos describir correctamente los datos y la visualización es una gran herramienta para ello. Nuestro segundo objetivo es representar los datos de tal manera que tengan narrativa, que podamos contar una historia a través de ellos. Es lo que se llama storytelling.\n",
    "\n",
    "**¿Qué es storytelling?**\n",
    "\n",
    "Es una técnica que utiliza datos para contar una historia. Es una forma útil de presentar información, lo que significa que se puede utilizar tanto con audiencias internas como externas. Si estás realizando la presentación de un informe, por ejemplo, puedes expresar mejor una idea o explicar mejor un punto si utilizas gráficos, tablas o infografías, ya que dichos contenidos retienen la atención de tu audiencia de una manera que un texto o incluso un video no lo pueden hacer. Estas herramientas facilitan el procesamiento de toda la información a la vez y la toma de decisiones.\n",
    "\n",
    "El storytelling va más allá de representar datos de una manera más atractiva. Consiste en mostrar cómo o por qué los datos cambiaron durante un período, y para eso es necesario reunir:\n",
    "\n",
    "+ una narrativa\n",
    "+ un contexto\n",
    "+ personajes\n",
    "\n",
    "Estos son los factores clave para que tu audiencia se involucre realmente con el contenido.\n",
    "\n",
    "\n",
    "**Matplotlib/Pylab - Seaborn**"
   ]
  },
  {
   "cell_type": "markdown",
   "id": "ranging-premiere",
   "metadata": {
    "toc": true
   },
   "source": [
    "<h1>Table of Contents<span class=\"tocSkip\"></span></h1>\n",
    "<div class=\"toc\"><ul class=\"toc-item\"><li><span><a href=\"#Motivación\" data-toc-modified-id=\"Motivación-1\"><span class=\"toc-item-num\">1&nbsp;&nbsp;</span>Motivación</a></span></li><li><span><a href=\"#Importamos-librerías\" data-toc-modified-id=\"Importamos-librerías-2\"><span class=\"toc-item-num\">2&nbsp;&nbsp;</span>Importamos librerías</a></span></li><li><span><a href=\"#Cargamos-datitos\" data-toc-modified-id=\"Cargamos-datitos-3\"><span class=\"toc-item-num\">3&nbsp;&nbsp;</span>Cargamos datitos</a></span></li><li><span><a href=\"#Configuraciones-de-visualización-/-The-Mantra\" data-toc-modified-id=\"Configuraciones-de-visualización-/-The-Mantra-4\"><span class=\"toc-item-num\">4&nbsp;&nbsp;</span>Configuraciones de visualización / The Mantra</a></span></li><li><span><a href=\"#Gráficos-de-Barras\" data-toc-modified-id=\"Gráficos-de-Barras-5\"><span class=\"toc-item-num\">5&nbsp;&nbsp;</span>Gráficos de Barras</a></span><ul class=\"toc-item\"><li><span><a href=\"#Seaborn\" data-toc-modified-id=\"Seaborn-5.1\"><span class=\"toc-item-num\">5.1&nbsp;&nbsp;</span>Seaborn</a></span></li></ul></li><li><span><a href=\"#BarPlot-de-Seaborn\" data-toc-modified-id=\"BarPlot-de-Seaborn-6\"><span class=\"toc-item-num\">6&nbsp;&nbsp;</span>BarPlot de Seaborn</a></span><ul class=\"toc-item\"><li><span><a href=\"#Matplotlib\" data-toc-modified-id=\"Matplotlib-6.1\"><span class=\"toc-item-num\">6.1&nbsp;&nbsp;</span>Matplotlib</a></span></li></ul></li><li><span><a href=\"#Gráficos-con-más-de-una-barra,-agrupando-variables\" data-toc-modified-id=\"Gráficos-con-más-de-una-barra,-agrupando-variables-7\"><span class=\"toc-item-num\">7&nbsp;&nbsp;</span>Gráficos con más de una barra, agrupando variables</a></span><ul class=\"toc-item\"><li><span><a href=\"#Seaborn\" data-toc-modified-id=\"Seaborn-7.1\"><span class=\"toc-item-num\">7.1&nbsp;&nbsp;</span>Seaborn</a></span></li><li><span><a href=\"#Matplotlib\" data-toc-modified-id=\"Matplotlib-7.2\"><span class=\"toc-item-num\">7.2&nbsp;&nbsp;</span>Matplotlib</a></span></li></ul></li><li><span><a href=\"#Histogramas\" data-toc-modified-id=\"Histogramas-8\"><span class=\"toc-item-num\">8&nbsp;&nbsp;</span>Histogramas</a></span><ul class=\"toc-item\"><li><span><a href=\"#Seaborn\" data-toc-modified-id=\"Seaborn-8.1\"><span class=\"toc-item-num\">8.1&nbsp;&nbsp;</span>Seaborn</a></span></li><li><span><a href=\"#Matplotlib\" data-toc-modified-id=\"Matplotlib-8.2\"><span class=\"toc-item-num\">8.2&nbsp;&nbsp;</span>Matplotlib</a></span></li></ul></li><li><span><a href=\"#Más-variables-Stacked-Hist\" data-toc-modified-id=\"Más-variables-Stacked-Hist-9\"><span class=\"toc-item-num\">9&nbsp;&nbsp;</span>Más variables Stacked Hist</a></span><ul class=\"toc-item\"><li><span><a href=\"#Seaborn\" data-toc-modified-id=\"Seaborn-9.1\"><span class=\"toc-item-num\">9.1&nbsp;&nbsp;</span>Seaborn</a></span></li></ul></li><li><span><a href=\"#Más-variables-/-Barras-combinadas\" data-toc-modified-id=\"Más-variables-/-Barras-combinadas-10\"><span class=\"toc-item-num\">10&nbsp;&nbsp;</span>Más variables / Barras combinadas</a></span></li><li><span><a href=\"#Añadimos-KDE-al-histplot\" data-toc-modified-id=\"Añadimos-KDE-al-histplot-11\"><span class=\"toc-item-num\">11&nbsp;&nbsp;</span>Añadimos KDE al histplot</a></span></li><li><span><a href=\"#KDE-plot\" data-toc-modified-id=\"KDE-plot-12\"><span class=\"toc-item-num\">12&nbsp;&nbsp;</span>KDE plot</a></span><ul class=\"toc-item\"><li><ul class=\"toc-item\"><li><span><a href=\"#Con-más-variables\" data-toc-modified-id=\"Con-más-variables-12.0.1\"><span class=\"toc-item-num\">12.0.1&nbsp;&nbsp;</span>Con más variables</a></span></li></ul></li></ul></li><li><span><a href=\"#Scatterplot\" data-toc-modified-id=\"Scatterplot-13\"><span class=\"toc-item-num\">13&nbsp;&nbsp;</span>Scatterplot</a></span><ul class=\"toc-item\"><li><span><a href=\"#Seaborn\" data-toc-modified-id=\"Seaborn-13.1\"><span class=\"toc-item-num\">13.1&nbsp;&nbsp;</span>Seaborn</a></span></li><li><span><a href=\"#Matplotlib\" data-toc-modified-id=\"Matplotlib-13.2\"><span class=\"toc-item-num\">13.2&nbsp;&nbsp;</span>Matplotlib</a></span></li><li><span><a href=\"#Más-categorías\" data-toc-modified-id=\"Más-categorías-13.3\"><span class=\"toc-item-num\">13.3&nbsp;&nbsp;</span>Más categorías</a></span></li><li><span><a href=\"#Con-variables-categóricas\" data-toc-modified-id=\"Con-variables-categóricas-13.4\"><span class=\"toc-item-num\">13.4&nbsp;&nbsp;</span>Con variables categóricas</a></span></li><li><span><a href=\"#Swarmplot\" data-toc-modified-id=\"Swarmplot-13.5\"><span class=\"toc-item-num\">13.5&nbsp;&nbsp;</span>Swarmplot</a></span></li></ul></li><li><span><a href=\"#Jointplot\" data-toc-modified-id=\"Jointplot-14\"><span class=\"toc-item-num\">14&nbsp;&nbsp;</span>Jointplot</a></span><ul class=\"toc-item\"><li><span><a href=\"#¿Se-puede-hacer-un-Jointplot-con-matplotlib?\" data-toc-modified-id=\"¿Se-puede-hacer-un-Jointplot-con-matplotlib?-14.1\"><span class=\"toc-item-num\">14.1&nbsp;&nbsp;</span>¿Se puede hacer un Jointplot con matplotlib?</a></span></li></ul></li><li><span><a href=\"#Pairplot\" data-toc-modified-id=\"Pairplot-15\"><span class=\"toc-item-num\">15&nbsp;&nbsp;</span>Pairplot</a></span></li><li><span><a href=\"#LinePlot\" data-toc-modified-id=\"LinePlot-16\"><span class=\"toc-item-num\">16&nbsp;&nbsp;</span>LinePlot</a></span></li><li><span><a href=\"#Matriz-de-Correlación\" data-toc-modified-id=\"Matriz-de-Correlación-17\"><span class=\"toc-item-num\">17&nbsp;&nbsp;</span>Matriz de Correlación</a></span></li><li><span><a href=\"#Boxplot\" data-toc-modified-id=\"Boxplot-18\"><span class=\"toc-item-num\">18&nbsp;&nbsp;</span>Boxplot</a></span></li><li><span><a href=\"#ViolinPlot\" data-toc-modified-id=\"ViolinPlot-19\"><span class=\"toc-item-num\">19&nbsp;&nbsp;</span>ViolinPlot</a></span></li><li><span><a href=\"#Pie-plot-👀\" data-toc-modified-id=\"Pie-plot-👀-20\"><span class=\"toc-item-num\">20&nbsp;&nbsp;</span>Pie plot 👀</a></span></li><li><span><a href=\"#Subplots\" data-toc-modified-id=\"Subplots-21\"><span class=\"toc-item-num\">21&nbsp;&nbsp;</span>Subplots</a></span></li><li><span><a href=\"#Guardar-Plots\" data-toc-modified-id=\"Guardar-Plots-22\"><span class=\"toc-item-num\">22&nbsp;&nbsp;</span>Guardar Plots</a></span></li></ul></div>"
   ]
  },
  {
   "cell_type": "markdown",
   "id": "powered-population",
   "metadata": {},
   "source": [
    "## Importamos librerías "
   ]
  },
  {
   "cell_type": "code",
   "execution_count": 1,
   "id": "handmade-czech",
   "metadata": {},
   "outputs": [],
   "source": [
    "import seaborn as sns\n",
    "import matplotlib.pyplot as plt\n",
    "import pandas as pd"
   ]
  },
  {
   "cell_type": "markdown",
   "id": "ranging-museum",
   "metadata": {},
   "source": [
    "## Cargamos datitos"
   ]
  },
  {
   "cell_type": "code",
   "execution_count": 2,
   "id": "baking-saturday",
   "metadata": {},
   "outputs": [],
   "source": [
    "penguins = sns.load_dataset(\"penguins\")\n",
    "tips = sns.load_dataset(\"tips\")\n",
    "titanic = pd.read_csv('../datasets/titanic.csv')\n",
    "titanic2=sns.load_dataset(\"titanic\")\n",
    "vuelos = sns.load_dataset(\"flights\")"
   ]
  },
  {
   "cell_type": "markdown",
   "id": "close-girlfriend",
   "metadata": {},
   "source": [
    "## Configuraciones de visualización / The Mantra"
   ]
  },
  {
   "cell_type": "markdown",
   "id": "152237a3",
   "metadata": {},
   "source": [
    "![mantra](https://media.giphy.com/media/3oz8xRijCHUZNieAzC/giphy.gif)"
   ]
  },
  {
   "cell_type": "code",
   "execution_count": 4,
   "id": "motivated-october",
   "metadata": {},
   "outputs": [],
   "source": [
    "# Matplotlib inline para visualizar los gráficos de Matplotlib\n",
    "%matplotlib inline\n",
    "%config Inlinebackend.figure_format= 'retina'"
   ]
  },
  {
   "cell_type": "code",
   "execution_count": 5,
   "id": "threaded-dispute",
   "metadata": {},
   "outputs": [],
   "source": [
    "# Configuración para setear y que todas las fig de Seaborn salgan por defecto con este tamaño\n",
    "# Se puede especificar el tamaño de cada figura\n",
    "sns.set_context(\"poster\")\n",
    "sns.set(rc={\"figure.figsize\": (12.,6.)})\n",
    "sns.set_style(\"whitegrid\")"
   ]
  },
  {
   "cell_type": "markdown",
   "id": "australian-metropolitan",
   "metadata": {},
   "source": [
    "## Gráficos de Barras\n",
    "Muestre los recuentos de las observaciones en cada casilla categórica utilizando barras.     \n",
    "Esto es basicamente un groupby 'species' .count()     "
   ]
  },
  {
   "cell_type": "code",
   "execution_count": 6,
   "id": "flying-overhead",
   "metadata": {},
   "outputs": [
    {
     "data": {
      "text/html": [
       "<div>\n",
       "<style scoped>\n",
       "    .dataframe tbody tr th:only-of-type {\n",
       "        vertical-align: middle;\n",
       "    }\n",
       "\n",
       "    .dataframe tbody tr th {\n",
       "        vertical-align: top;\n",
       "    }\n",
       "\n",
       "    .dataframe thead th {\n",
       "        text-align: right;\n",
       "    }\n",
       "</style>\n",
       "<table border=\"1\" class=\"dataframe\">\n",
       "  <thead>\n",
       "    <tr style=\"text-align: right;\">\n",
       "      <th></th>\n",
       "      <th>species</th>\n",
       "      <th>island</th>\n",
       "      <th>bill_length_mm</th>\n",
       "      <th>bill_depth_mm</th>\n",
       "      <th>flipper_length_mm</th>\n",
       "      <th>body_mass_g</th>\n",
       "      <th>sex</th>\n",
       "    </tr>\n",
       "  </thead>\n",
       "  <tbody>\n",
       "    <tr>\n",
       "      <th>0</th>\n",
       "      <td>Adelie</td>\n",
       "      <td>Torgersen</td>\n",
       "      <td>39.1</td>\n",
       "      <td>18.7</td>\n",
       "      <td>181.0</td>\n",
       "      <td>3750.0</td>\n",
       "      <td>Male</td>\n",
       "    </tr>\n",
       "    <tr>\n",
       "      <th>1</th>\n",
       "      <td>Adelie</td>\n",
       "      <td>Torgersen</td>\n",
       "      <td>39.5</td>\n",
       "      <td>17.4</td>\n",
       "      <td>186.0</td>\n",
       "      <td>3800.0</td>\n",
       "      <td>Female</td>\n",
       "    </tr>\n",
       "    <tr>\n",
       "      <th>2</th>\n",
       "      <td>Adelie</td>\n",
       "      <td>Torgersen</td>\n",
       "      <td>40.3</td>\n",
       "      <td>18.0</td>\n",
       "      <td>195.0</td>\n",
       "      <td>3250.0</td>\n",
       "      <td>Female</td>\n",
       "    </tr>\n",
       "    <tr>\n",
       "      <th>3</th>\n",
       "      <td>Adelie</td>\n",
       "      <td>Torgersen</td>\n",
       "      <td>NaN</td>\n",
       "      <td>NaN</td>\n",
       "      <td>NaN</td>\n",
       "      <td>NaN</td>\n",
       "      <td>NaN</td>\n",
       "    </tr>\n",
       "    <tr>\n",
       "      <th>4</th>\n",
       "      <td>Adelie</td>\n",
       "      <td>Torgersen</td>\n",
       "      <td>36.7</td>\n",
       "      <td>19.3</td>\n",
       "      <td>193.0</td>\n",
       "      <td>3450.0</td>\n",
       "      <td>Female</td>\n",
       "    </tr>\n",
       "  </tbody>\n",
       "</table>\n",
       "</div>"
      ],
      "text/plain": [
       "  species     island  bill_length_mm  bill_depth_mm  flipper_length_mm  \\\n",
       "0  Adelie  Torgersen            39.1           18.7              181.0   \n",
       "1  Adelie  Torgersen            39.5           17.4              186.0   \n",
       "2  Adelie  Torgersen            40.3           18.0              195.0   \n",
       "3  Adelie  Torgersen             NaN            NaN                NaN   \n",
       "4  Adelie  Torgersen            36.7           19.3              193.0   \n",
       "\n",
       "   body_mass_g     sex  \n",
       "0       3750.0    Male  \n",
       "1       3800.0  Female  \n",
       "2       3250.0  Female  \n",
       "3          NaN     NaN  \n",
       "4       3450.0  Female  "
      ]
     },
     "execution_count": 6,
     "metadata": {},
     "output_type": "execute_result"
    }
   ],
   "source": [
    "penguins.head()"
   ]
  },
  {
   "cell_type": "code",
   "execution_count": 7,
   "id": "rotary-posting",
   "metadata": {},
   "outputs": [
    {
     "data": {
      "text/html": [
       "<div>\n",
       "<style scoped>\n",
       "    .dataframe tbody tr th:only-of-type {\n",
       "        vertical-align: middle;\n",
       "    }\n",
       "\n",
       "    .dataframe tbody tr th {\n",
       "        vertical-align: top;\n",
       "    }\n",
       "\n",
       "    .dataframe thead th {\n",
       "        text-align: right;\n",
       "    }\n",
       "</style>\n",
       "<table border=\"1\" class=\"dataframe\">\n",
       "  <thead>\n",
       "    <tr style=\"text-align: right;\">\n",
       "      <th></th>\n",
       "      <th>island</th>\n",
       "      <th>bill_length_mm</th>\n",
       "      <th>bill_depth_mm</th>\n",
       "      <th>flipper_length_mm</th>\n",
       "      <th>body_mass_g</th>\n",
       "      <th>sex</th>\n",
       "    </tr>\n",
       "    <tr>\n",
       "      <th>species</th>\n",
       "      <th></th>\n",
       "      <th></th>\n",
       "      <th></th>\n",
       "      <th></th>\n",
       "      <th></th>\n",
       "      <th></th>\n",
       "    </tr>\n",
       "  </thead>\n",
       "  <tbody>\n",
       "    <tr>\n",
       "      <th>Adelie</th>\n",
       "      <td>152</td>\n",
       "      <td>151</td>\n",
       "      <td>151</td>\n",
       "      <td>151</td>\n",
       "      <td>151</td>\n",
       "      <td>146</td>\n",
       "    </tr>\n",
       "    <tr>\n",
       "      <th>Chinstrap</th>\n",
       "      <td>68</td>\n",
       "      <td>68</td>\n",
       "      <td>68</td>\n",
       "      <td>68</td>\n",
       "      <td>68</td>\n",
       "      <td>68</td>\n",
       "    </tr>\n",
       "    <tr>\n",
       "      <th>Gentoo</th>\n",
       "      <td>124</td>\n",
       "      <td>123</td>\n",
       "      <td>123</td>\n",
       "      <td>123</td>\n",
       "      <td>123</td>\n",
       "      <td>119</td>\n",
       "    </tr>\n",
       "  </tbody>\n",
       "</table>\n",
       "</div>"
      ],
      "text/plain": [
       "           island  bill_length_mm  bill_depth_mm  flipper_length_mm  \\\n",
       "species                                                               \n",
       "Adelie        152             151            151                151   \n",
       "Chinstrap      68              68             68                 68   \n",
       "Gentoo        124             123            123                123   \n",
       "\n",
       "           body_mass_g  sex  \n",
       "species                      \n",
       "Adelie             151  146  \n",
       "Chinstrap           68   68  \n",
       "Gentoo             123  119  "
      ]
     },
     "execution_count": 7,
     "metadata": {},
     "output_type": "execute_result"
    }
   ],
   "source": [
    "penguins.groupby(\"species\").count()"
   ]
  },
  {
   "cell_type": "markdown",
   "id": "4d214ed7",
   "metadata": {},
   "source": [
    "### Seaborn\n",
    "Gráfico de barras básico, donde contamos la cantidad de elementos que hay en cada especie de pingüino"
   ]
  },
  {
   "cell_type": "code",
   "execution_count": 20,
   "id": "unusual-jonathan",
   "metadata": {},
   "outputs": [
    {
     "data": {
      "image/png": "[encoded data removed]",
      "text/plain": [
       "<Figure size 864x432 with 1 Axes>"
      ]
     },
     "metadata": {},
     "output_type": "display_data"
    }
   ],
   "source": [
    "sns.countplot(x=penguins.species);"
   ]
  },
  {
   "cell_type": "code",
   "execution_count": 17,
   "id": "771548a1",
   "metadata": {},
   "outputs": [
    {
     "data": {
      "text/plain": [
       "Adelie       152\n",
       "Gentoo       124\n",
       "Chinstrap     68\n",
       "Name: species, dtype: int64"
      ]
     },
     "execution_count": 17,
     "metadata": {},
     "output_type": "execute_result"
    }
   ],
   "source": [
    "penguins.species.value_counts()"
   ]
  },
  {
   "cell_type": "code",
   "execution_count": 15,
   "id": "c0707471",
   "metadata": {},
   "outputs": [],
   "source": [
    "variable.figure.savefig(\"lepongounnombre.png\", dpi=1000)"
   ]
  },
  {
   "cell_type": "markdown",
   "id": "alert-madrid",
   "metadata": {},
   "source": [
    "## BarPlot de Seaborn"
   ]
  },
  {
   "cell_type": "markdown",
   "id": "center-innocent",
   "metadata": {},
   "source": [
    "No confundir con el countplot, el barplot de seaborn representa una estimación de la tendencia central de una variable numérica con la altura de cada rectángulo y proporciona alguna indicación de la incertidumbre en torno a esa estimación mediante barras de error.      \n",
    "`ci=\"sd\"` para cambiar el intervalo de confianza por la desviación estandar"
   ]
  },
  {
   "cell_type": "code",
   "execution_count": 16,
   "id": "north-victorian",
   "metadata": {},
   "outputs": [
    {
     "data": {
      "text/html": [
       "<div>\n",
       "<style scoped>\n",
       "    .dataframe tbody tr th:only-of-type {\n",
       "        vertical-align: middle;\n",
       "    }\n",
       "\n",
       "    .dataframe tbody tr th {\n",
       "        vertical-align: top;\n",
       "    }\n",
       "\n",
       "    .dataframe thead th {\n",
       "        text-align: right;\n",
       "    }\n",
       "</style>\n",
       "<table border=\"1\" class=\"dataframe\">\n",
       "  <thead>\n",
       "    <tr style=\"text-align: right;\">\n",
       "      <th></th>\n",
       "      <th>year</th>\n",
       "      <th>month</th>\n",
       "      <th>passengers</th>\n",
       "    </tr>\n",
       "  </thead>\n",
       "  <tbody>\n",
       "    <tr>\n",
       "      <th>0</th>\n",
       "      <td>1949</td>\n",
       "      <td>Jan</td>\n",
       "      <td>112</td>\n",
       "    </tr>\n",
       "    <tr>\n",
       "      <th>1</th>\n",
       "      <td>1949</td>\n",
       "      <td>Feb</td>\n",
       "      <td>118</td>\n",
       "    </tr>\n",
       "    <tr>\n",
       "      <th>2</th>\n",
       "      <td>1949</td>\n",
       "      <td>Mar</td>\n",
       "      <td>132</td>\n",
       "    </tr>\n",
       "    <tr>\n",
       "      <th>3</th>\n",
       "      <td>1949</td>\n",
       "      <td>Apr</td>\n",
       "      <td>129</td>\n",
       "    </tr>\n",
       "    <tr>\n",
       "      <th>4</th>\n",
       "      <td>1949</td>\n",
       "      <td>May</td>\n",
       "      <td>121</td>\n",
       "    </tr>\n",
       "  </tbody>\n",
       "</table>\n",
       "</div>"
      ],
      "text/plain": [
       "   year month  passengers\n",
       "0  1949   Jan         112\n",
       "1  1949   Feb         118\n",
       "2  1949   Mar         132\n",
       "3  1949   Apr         129\n",
       "4  1949   May         121"
      ]
     },
     "execution_count": 16,
     "metadata": {},
     "output_type": "execute_result"
    }
   ],
   "source": [
    "vuelos.head()"
   ]
  },
  {
   "cell_type": "code",
   "execution_count": 21,
   "id": "brutal-interpretation",
   "metadata": {},
   "outputs": [
    {
     "data": {
      "text/plain": [
       "<AxesSubplot:xlabel='year', ylabel='passengers'>"
      ]
     },
     "execution_count": 21,
     "metadata": {},
     "output_type": "execute_result"
    },
    {
     "data": {
      "image/png": "[encoded data removed]",
      "text/plain": [
       "<Figure size 864x432 with 1 Axes>"
      ]
     },
     "metadata": {},
     "output_type": "display_data"
    }
   ],
   "source": [
    "sns.barplot(x=\"year\", y=\"passengers\", data=vuelos, ci=\"sd\")"
   ]
  },
  {
   "cell_type": "markdown",
   "id": "spatial-phrase",
   "metadata": {},
   "source": [
    "Podemos cambiarle los colores a los gráficos utilizando el argumento `palette = \"código de color\"`     \n",
    "Revisa las paletas de seaborn --> [Aquí](https://seaborn.pydata.org/tutorial/color_palettes.html)"
   ]
  },
  {
   "cell_type": "code",
   "execution_count": 22,
   "id": "patent-employer",
   "metadata": {},
   "outputs": [
    {
     "data": {
      "image/png": "[encoded data removed]",
      "text/plain": [
       "<Figure size 864x432 with 1 Axes>"
      ]
     },
     "metadata": {},
     "output_type": "display_data"
    }
   ],
   "source": [
    "sns.countplot(x=\"species\", data=penguins, palette=\"magma\");"
   ]
  },
  {
   "cell_type": "markdown",
   "id": "challenging-garlic",
   "metadata": {},
   "source": [
    "Echad un ojo al barplot de seaborn --> https://seaborn.pydata.org/generated/seaborn.barplot.html"
   ]
  },
  {
   "cell_type": "markdown",
   "id": "hairy-dietary",
   "metadata": {},
   "source": [
    "¿Cuándo usar una o la otra? Realmente podemos hacer lo mismo con ambas, Matplotlib es tremendamente poderosa y Seaborn se ha construido en base a Matplotlib pero es sintácticamente más sencilla y visualmente un poco más moderna.       \n",
    "Echad un ojo a este artículo: --> [matplotlib vs seaborn](https://es.acervolima.com/2021/02/09/diferencia-entre-matplotlib-vs-seaborn/)"
   ]
  },
  {
   "cell_type": "markdown",
   "id": "0004bebc",
   "metadata": {},
   "source": [
    "### Matplotlib\n",
    "El mismo countplot que hemos realizado en seaborn se llama \"bar plot\" en matplotlib. Es un gráfico de barras.     \n",
    "Basta con tener el dataframe agrupado y añadir `.plot`"
   ]
  },
  {
   "cell_type": "code",
   "execution_count": 32,
   "id": "numeric-narrative",
   "metadata": {},
   "outputs": [
    {
     "data": {
      "image/png": "[encoded data removed]",
      "text/plain": [
       "<Figure size 864x432 with 1 Axes>"
      ]
     },
     "metadata": {},
     "output_type": "display_data"
    }
   ],
   "source": [
    "gr = penguins[\"species\"].value_counts().plot(kind=\"bar\", title=\"Número de pingus por especie\")\n",
    "plt.xticks(rotation=45);"
   ]
  },
  {
   "cell_type": "code",
   "execution_count": null,
   "id": "funded-advocacy",
   "metadata": {},
   "outputs": [],
   "source": [
    "# Value counts ordenado de mayor a menor"
   ]
  },
  {
   "cell_type": "markdown",
   "id": "581dcc0b",
   "metadata": {},
   "source": [
    "## Gráficos con más de una barra, agrupando variables\n",
    "Podemos crear gráficos de barras agrupadas y añadir, por lo tanto, una dimensión adicional a la gráfica recurriendo al parámetro hue, que provoca que cada barra se multiplique por el número de valores distintos de la variable indicada por este argumento."
   ]
  },
  {
   "cell_type": "code",
   "execution_count": 34,
   "id": "2690f97a",
   "metadata": {},
   "outputs": [
    {
     "data": {
      "text/html": [
       "<div>\n",
       "<style scoped>\n",
       "    .dataframe tbody tr th:only-of-type {\n",
       "        vertical-align: middle;\n",
       "    }\n",
       "\n",
       "    .dataframe tbody tr th {\n",
       "        vertical-align: top;\n",
       "    }\n",
       "\n",
       "    .dataframe thead th {\n",
       "        text-align: right;\n",
       "    }\n",
       "</style>\n",
       "<table border=\"1\" class=\"dataframe\">\n",
       "  <thead>\n",
       "    <tr style=\"text-align: right;\">\n",
       "      <th></th>\n",
       "      <th>species</th>\n",
       "      <th>island</th>\n",
       "      <th>bill_length_mm</th>\n",
       "      <th>bill_depth_mm</th>\n",
       "      <th>flipper_length_mm</th>\n",
       "      <th>body_mass_g</th>\n",
       "      <th>sex</th>\n",
       "    </tr>\n",
       "  </thead>\n",
       "  <tbody>\n",
       "    <tr>\n",
       "      <th>150</th>\n",
       "      <td>Adelie</td>\n",
       "      <td>Dream</td>\n",
       "      <td>36.0</td>\n",
       "      <td>17.1</td>\n",
       "      <td>187.0</td>\n",
       "      <td>3700.0</td>\n",
       "      <td>Female</td>\n",
       "    </tr>\n",
       "  </tbody>\n",
       "</table>\n",
       "</div>"
      ],
      "text/plain": [
       "    species island  bill_length_mm  bill_depth_mm  flipper_length_mm  \\\n",
       "150  Adelie  Dream            36.0           17.1              187.0   \n",
       "\n",
       "     body_mass_g     sex  \n",
       "150       3700.0  Female  "
      ]
     },
     "execution_count": 34,
     "metadata": {},
     "output_type": "execute_result"
    }
   ],
   "source": [
    "penguins.sample()"
   ]
  },
  {
   "cell_type": "markdown",
   "id": "50c93b10",
   "metadata": {},
   "source": [
    "### Seaborn"
   ]
  },
  {
   "cell_type": "code",
   "execution_count": 38,
   "id": "signal-guitar",
   "metadata": {},
   "outputs": [
    {
     "data": {
      "image/png": "[encoded data removed]",
      "text/plain": [
       "<Figure size 864x432 with 1 Axes>"
      ]
     },
     "metadata": {},
     "output_type": "display_data"
    }
   ],
   "source": [
    "sns.countplot(x=\"species\", hue=\"sex\", data=penguins);"
   ]
  },
  {
   "cell_type": "code",
   "execution_count": 39,
   "id": "hungarian-stretch",
   "metadata": {},
   "outputs": [
    {
     "data": {
      "image/png": "[encoded data removed]",
      "text/plain": [
       "<Figure size 864x432 with 1 Axes>"
      ]
     },
     "metadata": {},
     "output_type": "display_data"
    }
   ],
   "source": [
    "sns.countplot(x=penguins.species, hue=penguins.sex); # igual que el anterior, otra sintaxis"
   ]
  },
  {
   "cell_type": "markdown",
   "id": "expected-jacksonville",
   "metadata": {},
   "source": [
    "El mismo gráfico pero horizontal 🙃"
   ]
  },
  {
   "cell_type": "code",
   "execution_count": 42,
   "id": "decimal-strategy",
   "metadata": {},
   "outputs": [
    {
     "data": {
      "image/png": "[encoded data removed]",
      "text/plain": [
       "<Figure size 864x432 with 1 Axes>"
      ]
     },
     "metadata": {},
     "output_type": "display_data"
    }
   ],
   "source": [
    "sns.countplot(y=penguins.species, hue=penguins.sex);"
   ]
  },
  {
   "cell_type": "markdown",
   "id": "single-project",
   "metadata": {},
   "source": [
    "Añadimos otra variable que tenga más categorías, en seaborn las barras se colorean solas 🌈"
   ]
  },
  {
   "cell_type": "code",
   "execution_count": 43,
   "id": "ae0f5937",
   "metadata": {},
   "outputs": [
    {
     "data": {
      "text/html": [
       "<div>\n",
       "<style scoped>\n",
       "    .dataframe tbody tr th:only-of-type {\n",
       "        vertical-align: middle;\n",
       "    }\n",
       "\n",
       "    .dataframe tbody tr th {\n",
       "        vertical-align: top;\n",
       "    }\n",
       "\n",
       "    .dataframe thead th {\n",
       "        text-align: right;\n",
       "    }\n",
       "</style>\n",
       "<table border=\"1\" class=\"dataframe\">\n",
       "  <thead>\n",
       "    <tr style=\"text-align: right;\">\n",
       "      <th></th>\n",
       "      <th>Survived</th>\n",
       "      <th>Pclass</th>\n",
       "      <th>Name</th>\n",
       "      <th>Sex</th>\n",
       "      <th>Age</th>\n",
       "      <th>SibSp</th>\n",
       "      <th>Parch</th>\n",
       "      <th>Ticket</th>\n",
       "      <th>Fare</th>\n",
       "      <th>Cabin</th>\n",
       "      <th>Embarked</th>\n",
       "    </tr>\n",
       "  </thead>\n",
       "  <tbody>\n",
       "    <tr>\n",
       "      <th>0</th>\n",
       "      <td>0</td>\n",
       "      <td>3</td>\n",
       "      <td>Braund, Mr. Owen Harris</td>\n",
       "      <td>male</td>\n",
       "      <td>22.0</td>\n",
       "      <td>1</td>\n",
       "      <td>0</td>\n",
       "      <td>A/5 21171</td>\n",
       "      <td>7.2500</td>\n",
       "      <td>NaN</td>\n",
       "      <td>S</td>\n",
       "    </tr>\n",
       "    <tr>\n",
       "      <th>1</th>\n",
       "      <td>1</td>\n",
       "      <td>1</td>\n",
       "      <td>Cumings, Mrs. John Bradley (Florence Briggs Th...</td>\n",
       "      <td>female</td>\n",
       "      <td>38.0</td>\n",
       "      <td>1</td>\n",
       "      <td>0</td>\n",
       "      <td>PC 17599</td>\n",
       "      <td>71.2833</td>\n",
       "      <td>C85</td>\n",
       "      <td>C</td>\n",
       "    </tr>\n",
       "    <tr>\n",
       "      <th>2</th>\n",
       "      <td>1</td>\n",
       "      <td>3</td>\n",
       "      <td>Heikkinen, Miss. Laina</td>\n",
       "      <td>female</td>\n",
       "      <td>26.0</td>\n",
       "      <td>0</td>\n",
       "      <td>0</td>\n",
       "      <td>STON/O2. 3101282</td>\n",
       "      <td>7.9250</td>\n",
       "      <td>NaN</td>\n",
       "      <td>S</td>\n",
       "    </tr>\n",
       "    <tr>\n",
       "      <th>3</th>\n",
       "      <td>1</td>\n",
       "      <td>1</td>\n",
       "      <td>Futrelle, Mrs. Jacques Heath (Lily May Peel)</td>\n",
       "      <td>female</td>\n",
       "      <td>35.0</td>\n",
       "      <td>1</td>\n",
       "      <td>0</td>\n",
       "      <td>113803</td>\n",
       "      <td>53.1000</td>\n",
       "      <td>C123</td>\n",
       "      <td>S</td>\n",
       "    </tr>\n",
       "    <tr>\n",
       "      <th>4</th>\n",
       "      <td>0</td>\n",
       "      <td>3</td>\n",
       "      <td>Allen, Mr. William Henry</td>\n",
       "      <td>male</td>\n",
       "      <td>35.0</td>\n",
       "      <td>0</td>\n",
       "      <td>0</td>\n",
       "      <td>373450</td>\n",
       "      <td>8.0500</td>\n",
       "      <td>NaN</td>\n",
       "      <td>S</td>\n",
       "    </tr>\n",
       "  </tbody>\n",
       "</table>\n",
       "</div>"
      ],
      "text/plain": [
       "   Survived  Pclass                                               Name  \\\n",
       "0         0       3                            Braund, Mr. Owen Harris   \n",
       "1         1       1  Cumings, Mrs. John Bradley (Florence Briggs Th...   \n",
       "2         1       3                             Heikkinen, Miss. Laina   \n",
       "3         1       1       Futrelle, Mrs. Jacques Heath (Lily May Peel)   \n",
       "4         0       3                           Allen, Mr. William Henry   \n",
       "\n",
       "      Sex   Age  SibSp  Parch            Ticket     Fare Cabin Embarked  \n",
       "0    male  22.0      1      0         A/5 21171   7.2500   NaN        S  \n",
       "1  female  38.0      1      0          PC 17599  71.2833   C85        C  \n",
       "2  female  26.0      0      0  STON/O2. 3101282   7.9250   NaN        S  \n",
       "3  female  35.0      1      0            113803  53.1000  C123        S  \n",
       "4    male  35.0      0      0            373450   8.0500   NaN        S  "
      ]
     },
     "execution_count": 43,
     "metadata": {},
     "output_type": "execute_result"
    }
   ],
   "source": [
    "titanic.head()"
   ]
  },
  {
   "cell_type": "code",
   "execution_count": 45,
   "id": "veterinary-nelson",
   "metadata": {},
   "outputs": [
    {
     "data": {
      "image/png": "[encoded data removed]",
      "text/plain": [
       "<Figure size 864x432 with 1 Axes>"
      ]
     },
     "metadata": {},
     "output_type": "display_data"
    }
   ],
   "source": [
    "sns.countplot(data=titanic, x=\"Sex\", hue=\"Survived\");"
   ]
  },
  {
   "cell_type": "code",
   "execution_count": 46,
   "id": "3c46bf49",
   "metadata": {},
   "outputs": [
    {
     "data": {
      "image/png": "[encoded data removed]",
      "text/plain": [
       "<Figure size 864x432 with 1 Axes>"
      ]
     },
     "metadata": {},
     "output_type": "display_data"
    }
   ],
   "source": [
    "sns.countplot(data=titanic, x=\"Survived\", hue=\"Pclass\");"
   ]
  },
  {
   "cell_type": "markdown",
   "id": "c36e0a4e",
   "metadata": {},
   "source": [
    "### Matplotlib"
   ]
  },
  {
   "cell_type": "markdown",
   "id": "finished-calculator",
   "metadata": {},
   "source": [
    "Vamos a intentar, por partes, conseguir el mismo gráfico que tenemos arriba, en el que contamos los pingüinos por especie y sex.\n",
    "Primero tenemos que agrupar los datos, pero nos queda así de ... ¿soso?"
   ]
  },
  {
   "cell_type": "code",
   "execution_count": 48,
   "id": "e194aae0",
   "metadata": {},
   "outputs": [
    {
     "data": {
      "image/png": "[encoded data removed]",
      "text/plain": [
       "<Figure size 864x432 with 1 Axes>"
      ]
     },
     "metadata": {},
     "output_type": "display_data"
    }
   ],
   "source": [
    "penguins.groupby([\"species\", \"sex\"])[\"sex\"].count().plot(kind=\"bar\");"
   ]
  },
  {
   "cell_type": "markdown",
   "id": "boring-google",
   "metadata": {},
   "source": [
    "Ok, no pasa nada, le añadimos el parámetro color.     \n",
    "Lista de colores en matplotlib --> https://matplotlib.org/stable/gallery/color/named_colors.html"
   ]
  },
  {
   "cell_type": "code",
   "execution_count": 50,
   "id": "substantial-joseph",
   "metadata": {},
   "outputs": [
    {
     "data": {
      "image/png": "[encoded data removed]",
      "text/plain": [
       "<Figure size 864x432 with 1 Axes>"
      ]
     },
     "metadata": {},
     "output_type": "display_data"
    }
   ],
   "source": [
    "penguins.groupby([\"species\", \"sex\"])[\"sex\"].count().plot(kind=\"bar\", color=[\"burlywood\", \"tomato\"])\n",
    "plt.xticks(rotation=45);"
   ]
  },
  {
   "cell_type": "markdown",
   "id": "honest-rotation",
   "metadata": {},
   "source": [
    "Por favor barritas ¿Os podéis juntar? Ok, hay que hacer un ... [unstack()](https://pandas.pydata.org/docs/reference/api/pandas.DataFrame.unstack.html) con los índices, ya que tenemos [multiindex](https://pandas.pydata.org/pandas-docs/stable/user_guide/advanced.html)"
   ]
  },
  {
   "cell_type": "code",
   "execution_count": 52,
   "id": "under-africa",
   "metadata": {},
   "outputs": [
    {
     "data": {
      "image/png": "[encoded data removed]",
      "text/plain": [
       "<Figure size 864x432 with 1 Axes>"
      ]
     },
     "metadata": {},
     "output_type": "display_data"
    }
   ],
   "source": [
    "penguins.groupby([\"species\", \"sex\"])[\"sex\"].count().unstack().plot(kind=\"bar\")\n",
    "plt.xticks(rotation=45);"
   ]
  },
  {
   "cell_type": "markdown",
   "id": "suited-coast",
   "metadata": {},
   "source": [
    "Lo ponemos tumbaíto "
   ]
  },
  {
   "cell_type": "code",
   "execution_count": 61,
   "id": "adverse-internet",
   "metadata": {},
   "outputs": [
    {
     "data": {
      "image/png": "[encoded data removed]",
      "text/plain": [
       "<Figure size 864x432 with 1 Axes>"
      ]
     },
     "metadata": {},
     "output_type": "display_data"
    }
   ],
   "source": [
    "guardo = penguins.groupby([\"species\", \"sex\"])[\"sex\"].count().unstack().plot(kind=\"barh\")"
   ]
  },
  {
   "cell_type": "markdown",
   "id": "billion-ecology",
   "metadata": {},
   "source": [
    "El código que tenemos que escribir para realizar un gráfico similar al de barras agrupadas en seaborn en matplotlib es ligeramente más complicado. Tenemos que agrupar y tener como index las especies, después podemos tener más variables con un count, o con la media, y podremos graficarlo correctamente. "
   ]
  },
  {
   "cell_type": "code",
   "execution_count": 71,
   "id": "prescribed-paste",
   "metadata": {},
   "outputs": [],
   "source": [
    "dat = titanic.groupby([\"Sex\", \"Pclass\"]).agg({\"Sex\":\"count\"}).unstack()"
   ]
  },
  {
   "cell_type": "code",
   "execution_count": 73,
   "id": "impressive-judgment",
   "metadata": {},
   "outputs": [
    {
     "data": {
      "text/plain": [
       "<AxesSubplot:xlabel='Sex'>"
      ]
     },
     "execution_count": 73,
     "metadata": {},
     "output_type": "execute_result"
    },
    {
     "data": {
      "image/png": "[encoded data removed]",
      "text/plain": [
       "<Figure size 864x432 with 1 Axes>"
      ]
     },
     "metadata": {},
     "output_type": "display_data"
    }
   ],
   "source": [
    "dat.plot(kind=\"bar\")"
   ]
  },
  {
   "cell_type": "code",
   "execution_count": 74,
   "id": "wrong-objective",
   "metadata": {},
   "outputs": [
    {
     "data": {
      "text/html": [
       "<div>\n",
       "<style scoped>\n",
       "    .dataframe tbody tr th:only-of-type {\n",
       "        vertical-align: middle;\n",
       "    }\n",
       "\n",
       "    .dataframe tbody tr th {\n",
       "        vertical-align: top;\n",
       "    }\n",
       "\n",
       "    .dataframe thead th {\n",
       "        text-align: right;\n",
       "    }\n",
       "</style>\n",
       "<table border=\"1\" class=\"dataframe\">\n",
       "  <thead>\n",
       "    <tr style=\"text-align: right;\">\n",
       "      <th></th>\n",
       "      <th>species</th>\n",
       "      <th>island</th>\n",
       "      <th>bill_length_mm</th>\n",
       "      <th>bill_depth_mm</th>\n",
       "      <th>flipper_length_mm</th>\n",
       "      <th>body_mass_g</th>\n",
       "      <th>sex</th>\n",
       "    </tr>\n",
       "  </thead>\n",
       "  <tbody>\n",
       "    <tr>\n",
       "      <th>0</th>\n",
       "      <td>Adelie</td>\n",
       "      <td>Torgersen</td>\n",
       "      <td>39.1</td>\n",
       "      <td>18.7</td>\n",
       "      <td>181.0</td>\n",
       "      <td>3750.0</td>\n",
       "      <td>Male</td>\n",
       "    </tr>\n",
       "    <tr>\n",
       "      <th>1</th>\n",
       "      <td>Adelie</td>\n",
       "      <td>Torgersen</td>\n",
       "      <td>39.5</td>\n",
       "      <td>17.4</td>\n",
       "      <td>186.0</td>\n",
       "      <td>3800.0</td>\n",
       "      <td>Female</td>\n",
       "    </tr>\n",
       "    <tr>\n",
       "      <th>2</th>\n",
       "      <td>Adelie</td>\n",
       "      <td>Torgersen</td>\n",
       "      <td>40.3</td>\n",
       "      <td>18.0</td>\n",
       "      <td>195.0</td>\n",
       "      <td>3250.0</td>\n",
       "      <td>Female</td>\n",
       "    </tr>\n",
       "    <tr>\n",
       "      <th>3</th>\n",
       "      <td>Adelie</td>\n",
       "      <td>Torgersen</td>\n",
       "      <td>NaN</td>\n",
       "      <td>NaN</td>\n",
       "      <td>NaN</td>\n",
       "      <td>NaN</td>\n",
       "      <td>NaN</td>\n",
       "    </tr>\n",
       "    <tr>\n",
       "      <th>4</th>\n",
       "      <td>Adelie</td>\n",
       "      <td>Torgersen</td>\n",
       "      <td>36.7</td>\n",
       "      <td>19.3</td>\n",
       "      <td>193.0</td>\n",
       "      <td>3450.0</td>\n",
       "      <td>Female</td>\n",
       "    </tr>\n",
       "  </tbody>\n",
       "</table>\n",
       "</div>"
      ],
      "text/plain": [
       "  species     island  bill_length_mm  bill_depth_mm  flipper_length_mm  \\\n",
       "0  Adelie  Torgersen            39.1           18.7              181.0   \n",
       "1  Adelie  Torgersen            39.5           17.4              186.0   \n",
       "2  Adelie  Torgersen            40.3           18.0              195.0   \n",
       "3  Adelie  Torgersen             NaN            NaN                NaN   \n",
       "4  Adelie  Torgersen            36.7           19.3              193.0   \n",
       "\n",
       "   body_mass_g     sex  \n",
       "0       3750.0    Male  \n",
       "1       3800.0  Female  \n",
       "2       3250.0  Female  \n",
       "3          NaN     NaN  \n",
       "4       3450.0  Female  "
      ]
     },
     "execution_count": 74,
     "metadata": {},
     "output_type": "execute_result"
    }
   ],
   "source": [
    "penguins.head()"
   ]
  },
  {
   "cell_type": "code",
   "execution_count": 79,
   "id": "3e2caf4c",
   "metadata": {},
   "outputs": [
    {
     "data": {
      "text/plain": [
       "species               0\n",
       "island                0\n",
       "bill_length_mm        2\n",
       "bill_depth_mm         2\n",
       "flipper_length_mm     2\n",
       "body_mass_g           2\n",
       "sex                  11\n",
       "dtype: int64"
      ]
     },
     "execution_count": 79,
     "metadata": {},
     "output_type": "execute_result"
    }
   ],
   "source": [
    "penguins.isna().sum()"
   ]
  },
  {
   "cell_type": "code",
   "execution_count": 80,
   "id": "1447241f",
   "metadata": {},
   "outputs": [
    {
     "data": {
      "text/plain": [
       "(344, 7)"
      ]
     },
     "execution_count": 80,
     "metadata": {},
     "output_type": "execute_result"
    }
   ],
   "source": [
    "penguins.shape"
   ]
  },
  {
   "cell_type": "code",
   "execution_count": 82,
   "id": "774e77c2",
   "metadata": {},
   "outputs": [],
   "source": [
    "penguins.drop_duplicates(inplace=True)"
   ]
  },
  {
   "cell_type": "code",
   "execution_count": 83,
   "id": "09cb0512",
   "metadata": {},
   "outputs": [
    {
     "data": {
      "text/plain": [
       "(344, 7)"
      ]
     },
     "execution_count": 83,
     "metadata": {},
     "output_type": "execute_result"
    }
   ],
   "source": [
    "penguins.shape"
   ]
  },
  {
   "cell_type": "markdown",
   "id": "reverse-invasion",
   "metadata": {},
   "source": [
    "Os dejo un recordatorio del .agg con su [documentación](https://pandas.pydata.org/docs/reference/api/pandas.DataFrame.agg.html)"
   ]
  },
  {
   "cell_type": "code",
   "execution_count": 75,
   "id": "lasting-pharmacy",
   "metadata": {
    "scrolled": true
   },
   "outputs": [],
   "source": [
    "aletas = penguins.groupby(\"species\").agg({\"bill_length_mm\": \"mean\",\"bill_depth_mm\": \"mean\", \"flipper_length_mm\": \"mean\" })"
   ]
  },
  {
   "cell_type": "code",
   "execution_count": 77,
   "id": "f203ccea",
   "metadata": {},
   "outputs": [
    {
     "data": {
      "text/html": [
       "<div>\n",
       "<style scoped>\n",
       "    .dataframe tbody tr th:only-of-type {\n",
       "        vertical-align: middle;\n",
       "    }\n",
       "\n",
       "    .dataframe tbody tr th {\n",
       "        vertical-align: top;\n",
       "    }\n",
       "\n",
       "    .dataframe thead th {\n",
       "        text-align: right;\n",
       "    }\n",
       "</style>\n",
       "<table border=\"1\" class=\"dataframe\">\n",
       "  <thead>\n",
       "    <tr style=\"text-align: right;\">\n",
       "      <th></th>\n",
       "      <th>bill_length_mm</th>\n",
       "      <th>bill_depth_mm</th>\n",
       "      <th>flipper_length_mm</th>\n",
       "    </tr>\n",
       "    <tr>\n",
       "      <th>species</th>\n",
       "      <th></th>\n",
       "      <th></th>\n",
       "      <th></th>\n",
       "    </tr>\n",
       "  </thead>\n",
       "  <tbody>\n",
       "    <tr>\n",
       "      <th>Adelie</th>\n",
       "      <td>38.791391</td>\n",
       "      <td>18.346358</td>\n",
       "      <td>189.953642</td>\n",
       "    </tr>\n",
       "    <tr>\n",
       "      <th>Chinstrap</th>\n",
       "      <td>48.833824</td>\n",
       "      <td>18.420588</td>\n",
       "      <td>195.823529</td>\n",
       "    </tr>\n",
       "    <tr>\n",
       "      <th>Gentoo</th>\n",
       "      <td>47.504878</td>\n",
       "      <td>14.982114</td>\n",
       "      <td>217.186992</td>\n",
       "    </tr>\n",
       "  </tbody>\n",
       "</table>\n",
       "</div>"
      ],
      "text/plain": [
       "           bill_length_mm  bill_depth_mm  flipper_length_mm\n",
       "species                                                    \n",
       "Adelie          38.791391      18.346358         189.953642\n",
       "Chinstrap       48.833824      18.420588         195.823529\n",
       "Gentoo          47.504878      14.982114         217.186992"
      ]
     },
     "execution_count": 77,
     "metadata": {},
     "output_type": "execute_result"
    }
   ],
   "source": [
    "aletas"
   ]
  },
  {
   "cell_type": "code",
   "execution_count": 78,
   "id": "published-albany",
   "metadata": {},
   "outputs": [
    {
     "data": {
      "text/plain": [
       "<AxesSubplot:xlabel='species'>"
      ]
     },
     "execution_count": 78,
     "metadata": {},
     "output_type": "execute_result"
    },
    {
     "data": {
      "image/png": "[encoded data removed]",
      "text/plain": [
       "<Figure size 864x432 with 1 Axes>"
      ]
     },
     "metadata": {},
     "output_type": "display_data"
    }
   ],
   "source": [
    "aletas.plot(kind=\"bar\")"
   ]
  },
  {
   "cell_type": "markdown",
   "id": "f1148da5",
   "metadata": {},
   "source": [
    "## Histogramas\n",
    "Los histogramas se parecen a los gráficos de barras verticales. Sin embargo, los histogramas representan la frecuencia subyacente de un conjunto de datos discretos o continuos que se miden en una escala de intervalos. Esta representación facilita la visualización de la distribución subyacente del conjunto de datos y la inspección de otras propiedades, como la asimetría y la curtosis (medida que determina el grado de concentración que presentan los valores en la región central de la distribución)."
   ]
  },
  {
   "cell_type": "markdown",
   "id": "private-procurement",
   "metadata": {},
   "source": [
    "![asimetría](http://www.spssfree.com/curso-de-spss/curso/5-17.gif)"
   ]
  },
  {
   "cell_type": "markdown",
   "id": "d90f39b6",
   "metadata": {},
   "source": [
    "### Seaborn"
   ]
  },
  {
   "cell_type": "code",
   "execution_count": null,
   "id": "fc0d1d3d",
   "metadata": {},
   "outputs": [],
   "source": []
  },
  {
   "cell_type": "code",
   "execution_count": null,
   "id": "chubby-championship",
   "metadata": {},
   "outputs": [],
   "source": []
  },
  {
   "cell_type": "code",
   "execution_count": null,
   "id": "overhead-collar",
   "metadata": {},
   "outputs": [],
   "source": [
    "# Los histplot ignoran los NaN cuando se trata de variables numéricas.\n"
   ]
  },
  {
   "cell_type": "code",
   "execution_count": null,
   "id": "living-colors",
   "metadata": {},
   "outputs": [],
   "source": []
  },
  {
   "cell_type": "markdown",
   "id": "stunning-yacht",
   "metadata": {},
   "source": [
    "Hemos manipulado los datos rellenando los NaN con 0 y hemos cambiado la distribución de los datos"
   ]
  },
  {
   "cell_type": "code",
   "execution_count": null,
   "id": "ready-martin",
   "metadata": {},
   "outputs": [],
   "source": []
  },
  {
   "cell_type": "markdown",
   "id": "78e0482d",
   "metadata": {},
   "source": [
    "Podemos especificar manualmente el número de `cajas`."
   ]
  },
  {
   "cell_type": "code",
   "execution_count": null,
   "id": "patient-spyware",
   "metadata": {},
   "outputs": [],
   "source": []
  },
  {
   "cell_type": "markdown",
   "id": "871de038",
   "metadata": {},
   "source": [
    "Podemos elegir si lo rellenamos o no..."
   ]
  },
  {
   "cell_type": "code",
   "execution_count": null,
   "id": "bulgarian-jacket",
   "metadata": {},
   "outputs": [],
   "source": []
  },
  {
   "cell_type": "code",
   "execution_count": null,
   "id": "welsh-vintage",
   "metadata": {},
   "outputs": [],
   "source": []
  },
  {
   "cell_type": "markdown",
   "id": "4a1933a0",
   "metadata": {},
   "source": [
    "Podemos pedir una aproximación de la distribución / kernel density estimation"
   ]
  },
  {
   "cell_type": "code",
   "execution_count": null,
   "id": "7fc60df0",
   "metadata": {},
   "outputs": [],
   "source": []
  },
  {
   "cell_type": "markdown",
   "id": "ea29b1a5",
   "metadata": {},
   "source": [
    "### Matplotlib"
   ]
  },
  {
   "cell_type": "markdown",
   "id": "combined-specialist",
   "metadata": {},
   "source": [
    "https://htmlcolorcodes.com/es/"
   ]
  },
  {
   "cell_type": "code",
   "execution_count": null,
   "id": "floppy-vitamin",
   "metadata": {},
   "outputs": [],
   "source": []
  },
  {
   "cell_type": "code",
   "execution_count": null,
   "id": "enormous-omega",
   "metadata": {},
   "outputs": [],
   "source": []
  },
  {
   "cell_type": "code",
   "execution_count": null,
   "id": "aafbac17",
   "metadata": {},
   "outputs": [],
   "source": []
  },
  {
   "cell_type": "code",
   "execution_count": null,
   "id": "understood-speaking",
   "metadata": {},
   "outputs": [],
   "source": []
  },
  {
   "cell_type": "code",
   "execution_count": null,
   "id": "found-banana",
   "metadata": {},
   "outputs": [],
   "source": []
  },
  {
   "cell_type": "code",
   "execution_count": null,
   "id": "prompt-anthony",
   "metadata": {},
   "outputs": [],
   "source": []
  },
  {
   "cell_type": "markdown",
   "id": "d3832553",
   "metadata": {},
   "source": [
    "## Más variables Stacked Hist"
   ]
  },
  {
   "cell_type": "markdown",
   "id": "16671acc",
   "metadata": {},
   "source": [
    "### Seaborn"
   ]
  },
  {
   "cell_type": "code",
   "execution_count": null,
   "id": "225fe610",
   "metadata": {},
   "outputs": [],
   "source": []
  },
  {
   "cell_type": "code",
   "execution_count": null,
   "id": "209e4762",
   "metadata": {},
   "outputs": [],
   "source": []
  },
  {
   "cell_type": "code",
   "execution_count": null,
   "id": "b03c5ba9",
   "metadata": {},
   "outputs": [],
   "source": []
  },
  {
   "cell_type": "code",
   "execution_count": null,
   "id": "daily-warrior",
   "metadata": {},
   "outputs": [],
   "source": []
  },
  {
   "cell_type": "code",
   "execution_count": null,
   "id": "logical-burner",
   "metadata": {},
   "outputs": [],
   "source": []
  },
  {
   "cell_type": "markdown",
   "id": "e0afaff2",
   "metadata": {},
   "source": [
    "No solo puedo condicionar un histplot (es decir, muéstrame los datos con una condición en el dataframe si no que, además, en vez de elegir todas las categorías en el hue, puedo elegir solo las que quiera."
   ]
  },
  {
   "cell_type": "code",
   "execution_count": null,
   "id": "359835cb",
   "metadata": {},
   "outputs": [],
   "source": []
  },
  {
   "cell_type": "markdown",
   "id": "coated-place",
   "metadata": {},
   "source": [
    "Puedo filtrar los datos antes, en pandas, porque es más cómodo, y pasárselos filtrados a seaborn"
   ]
  },
  {
   "cell_type": "code",
   "execution_count": null,
   "id": "a5ec5547",
   "metadata": {},
   "outputs": [],
   "source": []
  },
  {
   "cell_type": "code",
   "execution_count": null,
   "id": "arbitrary-agreement",
   "metadata": {},
   "outputs": [],
   "source": []
  },
  {
   "cell_type": "markdown",
   "id": "desperate-communication",
   "metadata": {},
   "source": [
    "Dcumentación de los histogramas --> https://seaborn.pydata.org/generated/seaborn.histplot.html"
   ]
  },
  {
   "cell_type": "code",
   "execution_count": null,
   "id": "sudden-point",
   "metadata": {},
   "outputs": [],
   "source": []
  },
  {
   "cell_type": "markdown",
   "id": "206fff51",
   "metadata": {},
   "source": [
    "## Más variables / Barras combinadas\n",
    "Tiene sentido cuando tenemos variables categóricas"
   ]
  },
  {
   "cell_type": "code",
   "execution_count": null,
   "id": "196cccee",
   "metadata": {},
   "outputs": [],
   "source": []
  },
  {
   "cell_type": "markdown",
   "id": "63fd31ab",
   "metadata": {},
   "source": [
    "## Añadimos KDE al histplot\n",
    "Las líneas que vamos a añadir son de la librería matplotlib, pero... lo bueno es que podemos combinar ambas librerías, y entonces todo es más fantasía 🔝🙃"
   ]
  },
  {
   "cell_type": "code",
   "execution_count": null,
   "id": "352a911c",
   "metadata": {},
   "outputs": [],
   "source": []
  },
  {
   "cell_type": "code",
   "execution_count": null,
   "id": "endangered-nelson",
   "metadata": {},
   "outputs": [],
   "source": [
    "# mirar ECUACIÓN RECTA "
   ]
  },
  {
   "cell_type": "code",
   "execution_count": null,
   "id": "dominant-asian",
   "metadata": {},
   "outputs": [],
   "source": [
    "# Hay NaN en la columna pero los omite al hacer el cálculo de la media de la columna\n"
   ]
  },
  {
   "cell_type": "markdown",
   "id": "legal-corruption",
   "metadata": {},
   "source": [
    "## KDE plot\n",
    "Esta función permite mucho más control sobre la gráfica resultante que la función seaborn.distplot. Si pasamos como primer argumento el conjunto de valores y calculado en la sección anterior, obtenemos exactamente la misma gráfica.   "
   ]
  },
  {
   "cell_type": "code",
   "execution_count": null,
   "id": "fatty-sound",
   "metadata": {},
   "outputs": [],
   "source": []
  },
  {
   "cell_type": "markdown",
   "id": "visible-lodging",
   "metadata": {},
   "source": [
    "#### Con más variables\n",
    "Mítico hue 🙃"
   ]
  },
  {
   "cell_type": "code",
   "execution_count": null,
   "id": "fitted-invasion",
   "metadata": {},
   "outputs": [],
   "source": []
  },
  {
   "cell_type": "code",
   "execution_count": null,
   "id": "operational-notification",
   "metadata": {},
   "outputs": [],
   "source": []
  },
  {
   "cell_type": "markdown",
   "id": "alleged-curtis",
   "metadata": {},
   "source": [
    "[Literatura](https://seaborn.pydata.org/tutorial/distributions.html)"
   ]
  },
  {
   "cell_type": "markdown",
   "id": "92102956",
   "metadata": {},
   "source": [
    "## Scatterplot\n",
    "Un diagrama de dispersión (también conocido como gráfico de dispersión) utiliza puntos para representar los valores de dos variables numéricas diferentes. La posición de cada punto en el eje horizontal y vertical indica los valores de un punto de datos individual. Los gráficos de dispersión se utilizan para observar las relaciones entre las variables."
   ]
  },
  {
   "cell_type": "code",
   "execution_count": null,
   "id": "941ddae9",
   "metadata": {},
   "outputs": [],
   "source": []
  },
  {
   "cell_type": "markdown",
   "id": "pressed-mainstream",
   "metadata": {},
   "source": [
    "### Seaborn"
   ]
  },
  {
   "cell_type": "code",
   "execution_count": null,
   "id": "d7b4db4e",
   "metadata": {},
   "outputs": [],
   "source": []
  },
  {
   "cell_type": "markdown",
   "id": "heard-processing",
   "metadata": {},
   "source": [
    "### Matplotlib"
   ]
  },
  {
   "cell_type": "code",
   "execution_count": null,
   "id": "herbal-present",
   "metadata": {},
   "outputs": [],
   "source": []
  },
  {
   "cell_type": "code",
   "execution_count": null,
   "id": "violent-heaven",
   "metadata": {},
   "outputs": [],
   "source": []
  },
  {
   "cell_type": "markdown",
   "id": "stable-resolution",
   "metadata": {},
   "source": [
    "### Más categorías"
   ]
  },
  {
   "cell_type": "code",
   "execution_count": null,
   "id": "0421cc43",
   "metadata": {},
   "outputs": [],
   "source": []
  },
  {
   "cell_type": "markdown",
   "id": "5a1301f0",
   "metadata": {},
   "source": [
    "Podemos hacer que el tamaño de los puntos dependa de una variable numérica"
   ]
  },
  {
   "cell_type": "code",
   "execution_count": null,
   "id": "f6fb2296",
   "metadata": {},
   "outputs": [],
   "source": []
  },
  {
   "cell_type": "code",
   "execution_count": null,
   "id": "instructional-ferry",
   "metadata": {},
   "outputs": [],
   "source": []
  },
  {
   "cell_type": "code",
   "execution_count": null,
   "id": "conscious-swedish",
   "metadata": {},
   "outputs": [],
   "source": []
  },
  {
   "cell_type": "code",
   "execution_count": null,
   "id": "interim-crown",
   "metadata": {},
   "outputs": [],
   "source": []
  },
  {
   "cell_type": "code",
   "execution_count": null,
   "id": "expected-pleasure",
   "metadata": {},
   "outputs": [],
   "source": []
  },
  {
   "cell_type": "code",
   "execution_count": null,
   "id": "terminal-nightlife",
   "metadata": {},
   "outputs": [],
   "source": []
  },
  {
   "cell_type": "markdown",
   "id": "a474969f",
   "metadata": {},
   "source": [
    "### Con variables categóricas"
   ]
  },
  {
   "cell_type": "code",
   "execution_count": null,
   "id": "4078bf55",
   "metadata": {},
   "outputs": [],
   "source": []
  },
  {
   "cell_type": "markdown",
   "id": "cded9f8f",
   "metadata": {},
   "source": [
    "La representación por defecto de los datos en catplot() utiliza un gráfico de dispersión. En realidad hay dos gráficos de dispersión categóricos diferentes en seaborn. Adoptan diferentes enfoques para resolver el principal reto de representar datos categóricos con un gráfico de dispersión, que es que todos los puntos que pertenecen a una categoría caigan en la misma posición a lo largo del eje correspondiente a la variable categórica."
   ]
  },
  {
   "cell_type": "code",
   "execution_count": null,
   "id": "7c5ab299",
   "metadata": {},
   "outputs": [],
   "source": []
  },
  {
   "cell_type": "code",
   "execution_count": null,
   "id": "50323e2b",
   "metadata": {},
   "outputs": [],
   "source": []
  },
  {
   "cell_type": "code",
   "execution_count": null,
   "id": "11025862",
   "metadata": {},
   "outputs": [],
   "source": []
  },
  {
   "cell_type": "code",
   "execution_count": null,
   "id": "photographic-johns",
   "metadata": {},
   "outputs": [],
   "source": []
  },
  {
   "cell_type": "markdown",
   "id": "sweet-supervisor",
   "metadata": {},
   "source": [
    "### Swarmplot\n",
    "Dibuja un gráfico de dispersión categórica con puntos no superpuestos."
   ]
  },
  {
   "cell_type": "code",
   "execution_count": null,
   "id": "5a8eedaa",
   "metadata": {},
   "outputs": [],
   "source": []
  },
  {
   "cell_type": "code",
   "execution_count": null,
   "id": "abandoned-utility",
   "metadata": {},
   "outputs": [],
   "source": []
  },
  {
   "cell_type": "markdown",
   "id": "8e2c75b4",
   "metadata": {},
   "source": [
    "## Jointplot\n",
    "Dibuja un gráfico de dos variables con gráficos bivariados y univariados. Es parecido a un scatterplot pero añade los histogramas individuales de ambas variables"
   ]
  },
  {
   "cell_type": "code",
   "execution_count": null,
   "id": "russian-bones",
   "metadata": {},
   "outputs": [],
   "source": []
  },
  {
   "cell_type": "code",
   "execution_count": null,
   "id": "c6d50352",
   "metadata": {},
   "outputs": [],
   "source": []
  },
  {
   "cell_type": "markdown",
   "id": "ecf13d7c",
   "metadata": {},
   "source": [
    "La asignación de una variable `hue` añadirá colores condicionales al gráfico de dispersión y dibujará curvas de densidad separadas (utilizando kdeplot()) en los ejes marginales"
   ]
  },
  {
   "cell_type": "code",
   "execution_count": null,
   "id": "casual-organizer",
   "metadata": {},
   "outputs": [],
   "source": []
  },
  {
   "cell_type": "code",
   "execution_count": null,
   "id": "electoral-swing",
   "metadata": {},
   "outputs": [],
   "source": []
  },
  {
   "cell_type": "markdown",
   "id": "chemical-shirt",
   "metadata": {},
   "source": [
    "### ¿Se puede hacer un Jointplot con matplotlib?\n",
    "Sí, pero hay que establecer las figuras y hacerlo de forma independiente.... aquí un [tutorial](https://stackabuse.com/matplotlib-scatter-plot-with-distribution-plots-histograms-jointplot/)"
   ]
  },
  {
   "cell_type": "markdown",
   "id": "right-attention",
   "metadata": {},
   "source": [
    "## Pairplot\n",
    "Ploteamos relaciones entre las variables"
   ]
  },
  {
   "cell_type": "code",
   "execution_count": null,
   "id": "a7c2d2d8",
   "metadata": {},
   "outputs": [],
   "source": [
    " #Aquí ponemos hue con las especies porque el dataset está clasificado así"
   ]
  },
  {
   "cell_type": "code",
   "execution_count": null,
   "id": "female-petersburg",
   "metadata": {},
   "outputs": [],
   "source": []
  },
  {
   "cell_type": "code",
   "execution_count": null,
   "id": "hearing-royalty",
   "metadata": {},
   "outputs": [],
   "source": []
  },
  {
   "cell_type": "code",
   "execution_count": null,
   "id": "terminal-tribune",
   "metadata": {},
   "outputs": [],
   "source": []
  },
  {
   "cell_type": "code",
   "execution_count": null,
   "id": "professional-execution",
   "metadata": {},
   "outputs": [],
   "source": []
  },
  {
   "cell_type": "markdown",
   "id": "alternative-wellington",
   "metadata": {},
   "source": [
    "## LinePlot"
   ]
  },
  {
   "cell_type": "code",
   "execution_count": null,
   "id": "photographic-guyana",
   "metadata": {},
   "outputs": [],
   "source": []
  },
  {
   "cell_type": "code",
   "execution_count": null,
   "id": "quality-festival",
   "metadata": {},
   "outputs": [],
   "source": []
  },
  {
   "cell_type": "code",
   "execution_count": null,
   "id": "infectious-hanging",
   "metadata": {},
   "outputs": [],
   "source": []
  },
  {
   "cell_type": "code",
   "execution_count": null,
   "id": "stock-orbit",
   "metadata": {},
   "outputs": [],
   "source": []
  },
  {
   "cell_type": "code",
   "execution_count": null,
   "id": "governmental-interpretation",
   "metadata": {},
   "outputs": [],
   "source": []
  },
  {
   "cell_type": "markdown",
   "id": "blessed-lyric",
   "metadata": {},
   "source": [
    "## Matriz de Correlación\n",
    "La matriz de correlación es una importante métrica de análisis de datos que se calcula para resumir los datos a fin de comprender la relación entre las diversas variables y tomar decisiones en consecuencia."
   ]
  },
  {
   "cell_type": "code",
   "execution_count": null,
   "id": "macro-remove",
   "metadata": {},
   "outputs": [],
   "source": []
  },
  {
   "cell_type": "code",
   "execution_count": null,
   "id": "fresh-classics",
   "metadata": {},
   "outputs": [],
   "source": []
  },
  {
   "cell_type": "code",
   "execution_count": null,
   "id": "detected-copying",
   "metadata": {},
   "outputs": [],
   "source": [
    "import numpy as np"
   ]
  },
  {
   "cell_type": "markdown",
   "id": "ranking-trade",
   "metadata": {},
   "source": [
    "[np triu doc ](https://numpy.org/doc/stable/reference/generated/numpy.triu.html)       \n",
    "[np ones_like doc](https://numpy.org/doc/stable/reference/generated/numpy.ones_like.html)"
   ]
  },
  {
   "cell_type": "markdown",
   "id": "leading-riverside",
   "metadata": {},
   "source": [
    "Heatmap del titanic"
   ]
  },
  {
   "cell_type": "code",
   "execution_count": null,
   "id": "apart-drain",
   "metadata": {},
   "outputs": [],
   "source": []
  },
  {
   "cell_type": "markdown",
   "id": "exempt-canon",
   "metadata": {},
   "source": [
    "Heatmap de los pingüinos"
   ]
  },
  {
   "cell_type": "code",
   "execution_count": null,
   "id": "restricted-germany",
   "metadata": {},
   "outputs": [],
   "source": []
  },
  {
   "cell_type": "markdown",
   "id": "857dee61",
   "metadata": {},
   "source": [
    "## Boxplot\n",
    "Este tipo de gráfico muestra los tres valores del cuartil de la distribución junto con los valores extremos. Los \"bigotes\" se extienden a los puntos que se encuentran dentro de 1,5 IQRs del cuartil inferior y superior, y luego las observaciones que caen fuera de este rango se muestran de forma independiente. Esto significa que cada valor en el boxplot corresponde a una observación real en los datos."
   ]
  },
  {
   "cell_type": "markdown",
   "id": "10d1cb0d",
   "metadata": {},
   "source": [
    "Las líneas:  \n",
    " - La del medio: la mediana\n",
    " - La del medio a la izquierda: Q1: percentil 25%\n",
    " - Media de la derecha: Q3: percentil 75%\n",
    " \n",
    " - Izquierda: Q1 - 1.5 IQR\n",
    " - Derecha: Q3 + 1.5 IQR "
   ]
  },
  {
   "cell_type": "markdown",
   "id": "16ddeea6",
   "metadata": {},
   "source": [
    "Primer cuartil: el 25% de los valores son menores o igual a este valor (punto 2 en el gráfico anterior).    \n",
    "Mediana o Segundo Cuartil: Divide en dos partes iguales la distribución. De forma que  el 50% de los valores son menores o igual a este valor (punto 3 en el gráfico siguiente).    \n",
    "Tercer cuartil: el 75% de los valores son menores o igual a este valor (punto 4 en el gráfico siguiente).    \n",
    "Rango Intercuartílico (RIC): Diferencia entre el valor del tercer cuartil y el primer cuartil."
   ]
  },
  {
   "cell_type": "code",
   "execution_count": null,
   "id": "b60de83e",
   "metadata": {},
   "outputs": [],
   "source": []
  },
  {
   "cell_type": "code",
   "execution_count": null,
   "id": "d43ed5eb",
   "metadata": {},
   "outputs": [],
   "source": []
  },
  {
   "cell_type": "code",
   "execution_count": null,
   "id": "24b05e24",
   "metadata": {},
   "outputs": [],
   "source": []
  },
  {
   "cell_type": "code",
   "execution_count": null,
   "id": "5a50d6c0",
   "metadata": {},
   "outputs": [],
   "source": []
  },
  {
   "cell_type": "code",
   "execution_count": null,
   "id": "expanded-balance",
   "metadata": {},
   "outputs": [],
   "source": []
  },
  {
   "cell_type": "code",
   "execution_count": null,
   "id": "856743ae",
   "metadata": {},
   "outputs": [],
   "source": []
  },
  {
   "cell_type": "markdown",
   "id": "14c2a036",
   "metadata": {},
   "source": [
    "## ViolinPlot\n",
    "Un gráfico de violín es un método para representar datos numéricos. Es similar a un diagrama de caja, con la adición de un diagrama de densidad del núcleo girado en cada lado"
   ]
  },
  {
   "cell_type": "code",
   "execution_count": null,
   "id": "b0d54d9d",
   "metadata": {},
   "outputs": [],
   "source": []
  },
  {
   "cell_type": "code",
   "execution_count": null,
   "id": "4474840d",
   "metadata": {},
   "outputs": [],
   "source": []
  },
  {
   "cell_type": "markdown",
   "id": "continuous-tampa",
   "metadata": {},
   "source": [
    "## Pie plot 👀\n",
    "⚠️ NO muestra muy efectivamente los datos cuantitativos.     \n",
    "⚠️ Las pequeñas porciones, por ejemplo del 2% del total, corren el riesgo de quedar invisibles en el Chart.      \n",
    "⚠️ A las personas se les hace muy difícil comparar áreas y ángulos entre sí, sobretodo cuando presentan valores similares."
   ]
  },
  {
   "cell_type": "code",
   "execution_count": null,
   "id": "returning-energy",
   "metadata": {},
   "outputs": [],
   "source": []
  },
  {
   "cell_type": "code",
   "execution_count": null,
   "id": "changing-anchor",
   "metadata": {},
   "outputs": [],
   "source": []
  },
  {
   "cell_type": "markdown",
   "id": "polyphonic-thermal",
   "metadata": {},
   "source": [
    "## Subplots\n",
    "Utilizados para pintar varios gráficos en una misma \"imagen\""
   ]
  },
  {
   "cell_type": "code",
   "execution_count": null,
   "id": "9dd2b673",
   "metadata": {},
   "outputs": [],
   "source": [
    "# Creamos una figura y ejes, donde luego accederemos a ellos en forma de coordenadas [fila,columna]\n"
   ]
  },
  {
   "cell_type": "code",
   "execution_count": null,
   "id": "infrared-influence",
   "metadata": {},
   "outputs": [],
   "source": []
  },
  {
   "cell_type": "code",
   "execution_count": null,
   "id": "lonely-playing",
   "metadata": {},
   "outputs": [],
   "source": []
  },
  {
   "cell_type": "markdown",
   "id": "funny-cause",
   "metadata": {},
   "source": [
    "## Guardar Plots"
   ]
  },
  {
   "cell_type": "code",
   "execution_count": null,
   "id": "expected-audio",
   "metadata": {},
   "outputs": [],
   "source": []
  },
  {
   "cell_type": "code",
   "execution_count": null,
   "id": "positive-intro",
   "metadata": {},
   "outputs": [],
   "source": []
  },
  {
   "cell_type": "code",
   "execution_count": null,
   "id": "classified-sierra",
   "metadata": {},
   "outputs": [],
   "source": []
  }
 ],
 "metadata": {
  "kernelspec": {
   "display_name": "ironhack",
   "language": "python",
   "name": "ironhack"
  },
  "language_info": {
   "codemirror_mode": {
    "name": "ipython",
    "version": 3
   },
   "file_extension": ".py",
   "mimetype": "text/x-python",
   "name": "python",
   "nbconvert_exporter": "python",
   "pygments_lexer": "ipython3",
   "version": "3.8.5"
  },
  "toc": {
   "base_numbering": 1,
   "nav_menu": {},
   "number_sections": true,
   "sideBar": true,
   "skip_h1_title": true,
   "title_cell": "Table of Contents",
   "title_sidebar": "Contents",
   "toc_cell": true,
   "toc_position": {
    "height": "calc(100% - 180px)",
    "left": "10px",
    "top": "150px",
    "width": "256px"
   },
   "toc_section_display": true,
   "toc_window_display": false
  }
 },
 "nbformat": 4,
 "nbformat_minor": 5
}
