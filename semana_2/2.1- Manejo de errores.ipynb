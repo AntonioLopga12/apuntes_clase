{
 "cells": [
  {
   "cell_type": "markdown",
   "id": "decent-profit",
   "metadata": {},
   "source": [
    "# Manejo de errores / Error handling"
   ]
  },
  {
   "cell_type": "markdown",
   "id": "passive-electricity",
   "metadata": {},
   "source": [
    "![elgif](https://media.giphy.com/media/WhFfFPCEDXpBe/giphy.gif)"
   ]
  },
  {
   "cell_type": "markdown",
   "id": "positive-length",
   "metadata": {
    "toc": true
   },
   "source": [
    "<h1>Table of Contents<span class=\"tocSkip\"></span></h1>\n",
    "<div class=\"toc\"><ul class=\"toc-item\"><li><span><a href=\"#Introducción\" data-toc-modified-id=\"Introducción-1\"><span class=\"toc-item-num\">1&nbsp;&nbsp;</span>Introducción</a></span></li><li><span><a href=\"#Errores-de-Sintaxis\" data-toc-modified-id=\"Errores-de-Sintaxis-2\"><span class=\"toc-item-num\">2&nbsp;&nbsp;</span>Errores de Sintaxis</a></span></li><li><span><a href=\"#Excepciones\" data-toc-modified-id=\"Excepciones-3\"><span class=\"toc-item-num\">3&nbsp;&nbsp;</span>Excepciones</a></span><ul class=\"toc-item\"><li><span><a href=\"#Lookup-Error\" data-toc-modified-id=\"Lookup-Error-3.1\"><span class=\"toc-item-num\">3.1&nbsp;&nbsp;</span>Lookup Error</a></span></li><li><span><a href=\"#KeyError\" data-toc-modified-id=\"KeyError-3.2\"><span class=\"toc-item-num\">3.2&nbsp;&nbsp;</span>KeyError</a></span></li><li><span><a href=\"#IndexError\" data-toc-modified-id=\"IndexError-3.3\"><span class=\"toc-item-num\">3.3&nbsp;&nbsp;</span>IndexError</a></span></li><li><span><a href=\"#ImportError\" data-toc-modified-id=\"ImportError-3.4\"><span class=\"toc-item-num\">3.4&nbsp;&nbsp;</span>ImportError</a></span></li><li><span><a href=\"#AttributeError\" data-toc-modified-id=\"AttributeError-3.5\"><span class=\"toc-item-num\">3.5&nbsp;&nbsp;</span>AttributeError</a></span></li><li><span><a href=\"#ValueError\" data-toc-modified-id=\"ValueError-3.6\"><span class=\"toc-item-num\">3.6&nbsp;&nbsp;</span>ValueError</a></span></li><li><span><a href=\"#TypeError\" data-toc-modified-id=\"TypeError-3.7\"><span class=\"toc-item-num\">3.7&nbsp;&nbsp;</span>TypeError</a></span></li><li><span><a href=\"#OSError\" data-toc-modified-id=\"OSError-3.8\"><span class=\"toc-item-num\">3.8&nbsp;&nbsp;</span>OSError</a></span></li><li><span><a href=\"#FileNotFoundError\" data-toc-modified-id=\"FileNotFoundError-3.9\"><span class=\"toc-item-num\">3.9&nbsp;&nbsp;</span>FileNotFoundError</a></span></li><li><span><a href=\"#TimeOutError\" data-toc-modified-id=\"TimeOutError-3.10\"><span class=\"toc-item-num\">3.10&nbsp;&nbsp;</span>TimeOutError</a></span></li></ul></li><li><span><a href=\"#Gestión-de-excepciones\" data-toc-modified-id=\"Gestión-de-excepciones-4\"><span class=\"toc-item-num\">4&nbsp;&nbsp;</span>Gestión de excepciones</a></span><ul class=\"toc-item\"><li><span><a href=\"#Lo-que-no-debo-hacer-al-manejar-excepciones\" data-toc-modified-id=\"Lo-que-no-debo-hacer-al-manejar-excepciones-4.1\"><span class=\"toc-item-num\">4.1&nbsp;&nbsp;</span>Lo que no debo hacer al manejar excepciones</a></span></li></ul></li><li><span><a href=\"#Validación-de-datos-con-assert\" data-toc-modified-id=\"Validación-de-datos-con-assert-5\"><span class=\"toc-item-num\">5&nbsp;&nbsp;</span>Validación de datos con <code>assert</code></a></span></li><li><span><a href=\"#Lanzar-errores\" data-toc-modified-id=\"Lanzar-errores-6\"><span class=\"toc-item-num\">6&nbsp;&nbsp;</span>Lanzar errores</a></span></li><li><span><a href=\"#Resumen\" data-toc-modified-id=\"Resumen-7\"><span class=\"toc-item-num\">7&nbsp;&nbsp;</span>Resumen</a></span></li></ul></div>"
   ]
  },
  {
   "cell_type": "markdown",
   "id": "split-timeline",
   "metadata": {},
   "source": [
    "## Introducción"
   ]
  },
  {
   "cell_type": "code",
   "execution_count": null,
   "id": "communist-mercury",
   "metadata": {},
   "outputs": [],
   "source": []
  },
  {
   "cell_type": "code",
   "execution_count": null,
   "id": "chinese-friendship",
   "metadata": {},
   "outputs": [],
   "source": []
  },
  {
   "cell_type": "markdown",
   "id": "therapeutic-pharmacology",
   "metadata": {},
   "source": [
    "Esto de aquí arriba 👆🏻son ejemplos de instrucciones inválidas que dan lugar a distintos tipos de errores en Python.   \n",
    "El primero de ellos es un error de sintaxis, faltan los dos puntos después de True; mitnras que el segundo es un error en tiempo de ejecución debido a una división por cero. Los errores de sintaxis y los errores en tiempo de ejecución se abordan de forma distinta en este lenguaje de programación y es fundamental prevenirlos y tratarlos al escribir cualquier programa.\n",
    "Desde los inicios de los lenguajes de programación, la gestión de errores ha sido uno de los asuntos más difíciles. Es tan complicado diseñar un buen esquema de gestión de errores que muchos lenguajes simplemente lo ignoran."
   ]
  },
  {
   "cell_type": "markdown",
   "id": "crazy-browse",
   "metadata": {},
   "source": [
    "## Errores de Sintaxis\n",
    "Este tipo de errores, conocidos también como errores sintácticos o del intérprete de Python, son comunes cuando nos iniciamos con un lenguaje de programación, y más aún si hemos programado previamente en otros lenguajes. Se deben al desconocimiento u olvido de las reglas léxicas que establece Python, y que el intérprete detectará antes de lanzar la ejecución del programa. Se trata, por lo tanto, de expresiones mal formadas. Los lenguajes compilados como C realizan un análisis del código para producir un archivo ejecutable, lo que permite detectareste tipo de errores antes de ejecutar el programa. En el caso de los lenguajes interpretados, como es el caso de Python, al no existir dicha fase previa, no tenemos la oportunidad de detectar esos errores. El intérprete acepta nuestro código con la incertidumbre de su corrección, aunque será consciente de ello nada más leer el programa, es decir, al lanzarlo y antes de ejecutar cada una de las instrucciones.      \n",
    "El intérprete de Python procesa línea a línea cada instrucción, y si detecta algún error de sintaxis parará su proceso, mostrando una pequeña flecha en el lugar donde el error haya sido detectado. Por ejemplo, en el ejemplo anterior:"
   ]
  },
  {
   "cell_type": "code",
   "execution_count": null,
   "id": "moving-village",
   "metadata": {},
   "outputs": [],
   "source": []
  },
  {
   "cell_type": "markdown",
   "id": "underlying-coverage",
   "metadata": {},
   "source": [
    "Es de gran ayuda que nos indique el lugar donde ha detectado el error y que, además, nos facilite información sobre el mismo. En este caso está indicando que la sintaxsis desde el print no es correcta, para que nos demos cuenta de que estamos cometiendo un error al no poner los dos puntos detrás del True.\n",
    "En un mensaje de error de sintaxis distinguimos dos partes: \n",
    "- La ruta del error: En el ejemplo anterior, todas las líneas menos la última.\n",
    "- La descripción del error: en el ejemplo anterior, la última línea.         \n",
    "\n",
    "Los errores de sintaxis normalmente son fáciles de corregir, pero en ocasiones un error que se desencadena en un punto puede venir de otro punto y esa ruta de error (o traceback) va en orden descendente desde el punto en el cual el error se desencadenó, pasando por varios puntos intermedios (Si los hay) hasta el punto donde el error ocurrió. En la práctica, esto quiere decir que si en la línea donde se indica el error no encontramos nada, tendremos que revisar las instrucciones anteriores hasta encontrarlo."
   ]
  },
  {
   "cell_type": "markdown",
   "id": "public-variance",
   "metadata": {},
   "source": [
    "## Excepciones\n",
    "Una excepción es un error lógico que se produce en tiempo de ejecución. En este caso, la sintaxsis de las instrucciones es correcta y, por este motivo, el intérprete de Python no parará ni mostrará error alguno al lanzar el programa, pero en el momento de ejecutarse se detendrá y mostrará un error, esto es lo que se denomina \"error en tiempo de ejecución\".    \n",
    "Las excepciones van asociadas a distintos tipos, y ese mismo tipo es el que se muestra en el mensaje de error. Además de esta información, también se muestran detalles que indican la causa del error. Todo esto te permitirá disponer de información suficiente para encontrar el fallo y solucionarlo o gestionarlo.    \n",
    "Algunos ejemplos de excepciones son los siguientes:\n",
    "- ZeroDivisionError: division by zero\n",
    "- NameError: name 'dflhjka' is not defined\n",
    "- TypeError: can only concatenate str (not \"int\") to str\n",
    "\n",
    "Python tiene una serie de excepciones predefinidas, divididas en excepciones base y exceptiones específicas. Las excepciones base son más genéricas y agrupan los distintos tipos más específicos, lo que te permitirá realizar un tratamiento más general en tus programas. Por el contrario, las excepciones específicas ofrecen mayor detalle del error producido.    \n",
    "\n",
    "🚨⚠️Documentación [A Q U Í](https://docs.python.org/3/library/exceptions.html)⚠️🚨       \n",
    "\n",
    "Veamos algunas:     "
   ]
  },
  {
   "cell_type": "markdown",
   "id": "floppy-wrestling",
   "metadata": {},
   "source": [
    "### Lookup Error\n",
    "Es la clase base para las excepciones que se plantean cuando una clave o índice utilizado en una asignación o secuencia no es válido: IndexError, KeyError.    \n",
    "### KeyError     \n",
    "Se lanza cuando una clave de mapeo (diccionario) no se encuentra en el conjunto de claves existentes."
   ]
  },
  {
   "cell_type": "code",
   "execution_count": null,
   "id": "immune-panic",
   "metadata": {},
   "outputs": [],
   "source": []
  },
  {
   "cell_type": "code",
   "execution_count": null,
   "id": "found-superior",
   "metadata": {},
   "outputs": [],
   "source": []
  },
  {
   "cell_type": "code",
   "execution_count": null,
   "id": "better-retirement",
   "metadata": {},
   "outputs": [],
   "source": []
  },
  {
   "cell_type": "code",
   "execution_count": null,
   "id": "twelve-negotiation",
   "metadata": {},
   "outputs": [],
   "source": []
  },
  {
   "cell_type": "markdown",
   "id": "specialized-humanity",
   "metadata": {},
   "source": [
    "### IndexError \n",
    "Se lanza cuando un subíndice de la secuencia está fuera del rango."
   ]
  },
  {
   "cell_type": "code",
   "execution_count": null,
   "id": "scientific-strengthening",
   "metadata": {},
   "outputs": [],
   "source": []
  },
  {
   "cell_type": "code",
   "execution_count": null,
   "id": "passive-maine",
   "metadata": {},
   "outputs": [],
   "source": []
  },
  {
   "cell_type": "code",
   "execution_count": null,
   "id": "persistent-maintenance",
   "metadata": {},
   "outputs": [],
   "source": []
  },
  {
   "cell_type": "code",
   "execution_count": null,
   "id": "royal-north",
   "metadata": {},
   "outputs": [],
   "source": []
  },
  {
   "cell_type": "code",
   "execution_count": null,
   "id": "happy-uruguay",
   "metadata": {},
   "outputs": [],
   "source": []
  },
  {
   "cell_type": "markdown",
   "id": "medieval-possibility",
   "metadata": {},
   "source": [
    "### ImportError\n",
    "Tiene lugar cuando hay problemas al cargar un módulo o cuando no se encuentra. es la clase base de la excepción ModuleNotFoundError"
   ]
  },
  {
   "cell_type": "code",
   "execution_count": null,
   "id": "dominant-generation",
   "metadata": {},
   "outputs": [],
   "source": []
  },
  {
   "cell_type": "markdown",
   "id": "fitting-denver",
   "metadata": {},
   "source": [
    "### AttributeError     \n",
    "Se lanza cuando falla una referencia a un atributo o una asignación."
   ]
  },
  {
   "cell_type": "code",
   "execution_count": null,
   "id": "angry-blackberry",
   "metadata": {},
   "outputs": [],
   "source": []
  },
  {
   "cell_type": "code",
   "execution_count": null,
   "id": "little-salmon",
   "metadata": {},
   "outputs": [],
   "source": []
  },
  {
   "cell_type": "markdown",
   "id": "entertaining-archive",
   "metadata": {},
   "source": [
    "### ValueError    \n",
    "Se lanza cuando una función recibe un argumento de un tipo correcto, pero con un valor incorrecto.    \n",
    "Pasar argumentos de un tipo incorrecto (por ejemplo, pasar una lista cuando se espera un int) debería resultar en un TypeError, pero pasar argumentos con un valor incorrecto (por ejemplo, un número fuera de los límites esperados) debería resultar en un ValueError."
   ]
  },
  {
   "cell_type": "code",
   "execution_count": null,
   "id": "virtual-delta",
   "metadata": {},
   "outputs": [],
   "source": []
  },
  {
   "cell_type": "code",
   "execution_count": null,
   "id": "hybrid-romantic",
   "metadata": {},
   "outputs": [],
   "source": [
    " # Pop me permite borrar el elemento por índice, por eso lanza IndexError"
   ]
  },
  {
   "cell_type": "code",
   "execution_count": null,
   "id": "dependent-austria",
   "metadata": {},
   "outputs": [],
   "source": []
  },
  {
   "cell_type": "markdown",
   "id": "indie-function",
   "metadata": {},
   "source": [
    "### TypeError\n",
    "Se produce cuando una operación o función se aplica a un objeto de tipo inapropiado. El valor asociado es una cadena que da detalles sobre el desajuste de tipo.\n"
   ]
  },
  {
   "cell_type": "code",
   "execution_count": null,
   "id": "pleased-sword",
   "metadata": {},
   "outputs": [],
   "source": []
  },
  {
   "cell_type": "markdown",
   "id": "spectacular-advance",
   "metadata": {},
   "source": [
    "### OSError\n",
    "Ocurre cuando se produce un error relacionado con el sistema, como fallos en una operación de entrada/salida, archivos no encontrados, etc. Es la clase base y las excepciones que más veremos son:\n",
    "### FileNotFoundError\n",
    "Archivo o directorio no existente"
   ]
  },
  {
   "cell_type": "code",
   "execution_count": null,
   "id": "backed-toddler",
   "metadata": {},
   "outputs": [],
   "source": []
  },
  {
   "cell_type": "code",
   "execution_count": null,
   "id": "drawn-virgin",
   "metadata": {},
   "outputs": [],
   "source": []
  },
  {
   "cell_type": "code",
   "execution_count": null,
   "id": "right-librarian",
   "metadata": {},
   "outputs": [],
   "source": []
  },
  {
   "cell_type": "code",
   "execution_count": null,
   "id": "removed-associate",
   "metadata": {},
   "outputs": [],
   "source": []
  },
  {
   "cell_type": "code",
   "execution_count": null,
   "id": "selected-parent",
   "metadata": {},
   "outputs": [],
   "source": []
  },
  {
   "cell_type": "code",
   "execution_count": null,
   "id": "professional-wichita",
   "metadata": {},
   "outputs": [],
   "source": []
  },
  {
   "cell_type": "code",
   "execution_count": null,
   "id": "robust-circus",
   "metadata": {},
   "outputs": [],
   "source": []
  },
  {
   "cell_type": "code",
   "execution_count": null,
   "id": "polish-underground",
   "metadata": {},
   "outputs": [],
   "source": []
  },
  {
   "cell_type": "code",
   "execution_count": null,
   "id": "attached-cabinet",
   "metadata": {},
   "outputs": [],
   "source": []
  },
  {
   "cell_type": "code",
   "execution_count": null,
   "id": "anticipated-translation",
   "metadata": {},
   "outputs": [],
   "source": []
  },
  {
   "cell_type": "markdown",
   "id": "acceptable-hierarchy",
   "metadata": {},
   "source": [
    "### TimeOutError\n",
    "Se produce cuando el tiempo de espera es excedido (lo veremos en Katas y en llamadas a APIs, no lo gestionaremos como tal)"
   ]
  },
  {
   "cell_type": "markdown",
   "id": "consecutive-division",
   "metadata": {},
   "source": [
    "## Gestión de excepciones\n",
    "La gestión o manejo de excepciones es una técnica de programación para controlar los errores producidos durante la ejecución de una aplicación. Se controlan de una forma parecida a una sentencia condicional. Si no se produce una excepción (General o específica), que sería el caso normal, la aplicación continua con las siguientes instrucciones y, si se produce una, se ejecutarán las instrucciones indicadas por el desarrollador para su tratamiento, lo que pueden continuar la aplicación o detenerla, dependiendo de casso. La gestión de excepciones en Python comienza con una estructura de palabras reservadas, de la siguiente forma:\n",
    "```python\n",
    "try:\n",
    "    instrucciones\n",
    "except:\n",
    "    instrucciones si ocurre esa excepción\n",
    "```"
   ]
  },
  {
   "cell_type": "markdown",
   "id": "civilian-trial",
   "metadata": {},
   "source": [
    "En esta gestión de excepciones el tipo de la excepción puede ser genérico o específico. Lo mejor para controlar y gestionar lo ocurrido es hacerlo de la manera más específica posible, escribiendo varias cláusulas except para el mismo try, de modo que cada una gestione un tipo distinto de excepción. Esto es recomendable porque así haremos una gestión más precisa de los casos de error detectados.\n",
    "```python\n",
    "try: \n",
    "    instruciones\n",
    "    except tipo de la excepción 1:\n",
    "        instrucciones si ocurre esa excepción 1\n",
    "    except tipo de la excepción 2:\n",
    "        instrucciones si ocurre esa excepción\n",
    "```"
   ]
  },
  {
   "cell_type": "code",
   "execution_count": null,
   "id": "cross-border",
   "metadata": {},
   "outputs": [],
   "source": []
  },
  {
   "cell_type": "code",
   "execution_count": null,
   "id": "ahead-hobby",
   "metadata": {},
   "outputs": [],
   "source": []
  },
  {
   "cell_type": "code",
   "execution_count": null,
   "id": "documentary-offset",
   "metadata": {},
   "outputs": [],
   "source": []
  },
  {
   "cell_type": "code",
   "execution_count": null,
   "id": "tamil-phoenix",
   "metadata": {},
   "outputs": [],
   "source": []
  },
  {
   "cell_type": "code",
   "execution_count": null,
   "id": "exposed-harassment",
   "metadata": {},
   "outputs": [],
   "source": []
  },
  {
   "cell_type": "code",
   "execution_count": null,
   "id": "incorporated-nebraska",
   "metadata": {},
   "outputs": [],
   "source": []
  },
  {
   "cell_type": "code",
   "execution_count": null,
   "id": "eleven-symbol",
   "metadata": {},
   "outputs": [],
   "source": []
  },
  {
   "cell_type": "code",
   "execution_count": null,
   "id": "tamil-luxembourg",
   "metadata": {},
   "outputs": [],
   "source": []
  },
  {
   "cell_type": "code",
   "execution_count": null,
   "id": "following-validity",
   "metadata": {},
   "outputs": [],
   "source": []
  },
  {
   "cell_type": "code",
   "execution_count": null,
   "id": "automatic-carry",
   "metadata": {},
   "outputs": [],
   "source": []
  },
  {
   "cell_type": "markdown",
   "id": "naughty-company",
   "metadata": {},
   "source": [
    "### Lo que no debo hacer al manejar excepciones"
   ]
  },
  {
   "cell_type": "code",
   "execution_count": null,
   "id": "passive-cursor",
   "metadata": {},
   "outputs": [],
   "source": []
  },
  {
   "cell_type": "code",
   "execution_count": null,
   "id": "adverse-globe",
   "metadata": {},
   "outputs": [],
   "source": []
  },
  {
   "cell_type": "code",
   "execution_count": null,
   "id": "molecular-product",
   "metadata": {},
   "outputs": [],
   "source": []
  },
  {
   "cell_type": "code",
   "execution_count": null,
   "id": "informal-homework",
   "metadata": {},
   "outputs": [],
   "source": []
  },
  {
   "cell_type": "code",
   "execution_count": null,
   "id": "minute-element",
   "metadata": {},
   "outputs": [],
   "source": []
  },
  {
   "cell_type": "markdown",
   "id": "partial-belly",
   "metadata": {},
   "source": [
    "- Capturamos las excepciones POR TIPO (es decir, siempre ponemos except TypeError, o ValueError\n",
    "- Si ponemos except solo --> Lo ponemos al final\n",
    "- Si ponemos Exception SE COME TODOS LOS ERRORES, por tanto no estamos siendo específicas con los errores, en la celda anterior NUNCA va a devolvernos TypeError porque Exception lo captura antes.\n",
    "- En este caso, si necesitamos poner Exception LO PONEMOS TAMBIÉN AL FINAL"
   ]
  },
  {
   "cell_type": "code",
   "execution_count": null,
   "id": "alpine-guide",
   "metadata": {},
   "outputs": [],
   "source": [
    "#### Otro ejemplo con IndexError"
   ]
  },
  {
   "cell_type": "code",
   "execution_count": null,
   "id": "changed-hampton",
   "metadata": {},
   "outputs": [],
   "source": []
  },
  {
   "cell_type": "code",
   "execution_count": null,
   "id": "square-resource",
   "metadata": {},
   "outputs": [],
   "source": []
  },
  {
   "cell_type": "code",
   "execution_count": null,
   "id": "terminal-japan",
   "metadata": {},
   "outputs": [],
   "source": []
  },
  {
   "cell_type": "code",
   "execution_count": null,
   "id": "southeast-decline",
   "metadata": {},
   "outputs": [],
   "source": []
  },
  {
   "cell_type": "code",
   "execution_count": null,
   "id": "sorted-vancouver",
   "metadata": {},
   "outputs": [],
   "source": []
  },
  {
   "cell_type": "code",
   "execution_count": null,
   "id": "juvenile-blank",
   "metadata": {},
   "outputs": [],
   "source": []
  },
  {
   "cell_type": "code",
   "execution_count": null,
   "id": "extended-armenia",
   "metadata": {},
   "outputs": [],
   "source": [
    "# SÉ QUE VA A FALLAR PERO NO SÉ POR QUÉ, PONGO EXCEPTION Y CAPTURO EL ERROR\n"
   ]
  },
  {
   "cell_type": "code",
   "execution_count": null,
   "id": "speaking-american",
   "metadata": {},
   "outputs": [],
   "source": []
  },
  {
   "cell_type": "markdown",
   "id": "overall-daniel",
   "metadata": {},
   "source": [
    "## Validación de datos con `assert`"
   ]
  },
  {
   "cell_type": "markdown",
   "id": "basic-while",
   "metadata": {},
   "source": [
    "Python facilita una forma de establecer condiciones de obligado cunmplimiento, es decir, condiciones que debe cumplir un objeto o, de lo contrario, se producirá una excepción. Es como una especie de \"red de seguridad\" ante posibles fallos del programador. La instrucción `assert` añade controles para la depuración de un programa. Nos permite expresar una condición que ha de ser cierta siempre, y que, de no serlo interrumpirá el programa, generando una excepción que controlar llamada AssertionError. La forma de llamar a esta expresión es la siguiente:\n",
    "```python\n",
    "assert condición booleana\n",
    "```\n",
    "En caso de que la expresión booleana sea verdadera, assert no hace nada. En caso de que sea falsa, dispara una excepción. Veamos un ejemplo para entenderlo."
   ]
  },
  {
   "cell_type": "code",
   "execution_count": null,
   "id": "latest-holmes",
   "metadata": {},
   "outputs": [],
   "source": []
  },
  {
   "cell_type": "code",
   "execution_count": null,
   "id": "valued-lending",
   "metadata": {},
   "outputs": [],
   "source": []
  },
  {
   "cell_type": "code",
   "execution_count": null,
   "id": "historic-jacob",
   "metadata": {},
   "outputs": [],
   "source": []
  },
  {
   "cell_type": "code",
   "execution_count": null,
   "id": "turkish-transmission",
   "metadata": {},
   "outputs": [],
   "source": []
  },
  {
   "cell_type": "code",
   "execution_count": null,
   "id": "northern-cream",
   "metadata": {},
   "outputs": [],
   "source": []
  },
  {
   "cell_type": "code",
   "execution_count": null,
   "id": "downtown-approval",
   "metadata": {},
   "outputs": [],
   "source": []
  },
  {
   "cell_type": "code",
   "execution_count": null,
   "id": "partial-composite",
   "metadata": {},
   "outputs": [],
   "source": []
  },
  {
   "cell_type": "code",
   "execution_count": null,
   "id": "closed-machinery",
   "metadata": {},
   "outputs": [],
   "source": []
  },
  {
   "cell_type": "code",
   "execution_count": null,
   "id": "alleged-dakota",
   "metadata": {},
   "outputs": [],
   "source": []
  },
  {
   "cell_type": "code",
   "execution_count": null,
   "id": "purple-antarctica",
   "metadata": {},
   "outputs": [],
   "source": []
  },
  {
   "cell_type": "markdown",
   "id": "excited-cincinnati",
   "metadata": {},
   "source": [
    "## Lanzar errores\n",
    "Escribimos una función que multiplique un número por 2 siempre y cuando el argumento que entre sea un entero"
   ]
  },
  {
   "cell_type": "code",
   "execution_count": null,
   "id": "current-smart",
   "metadata": {},
   "outputs": [],
   "source": []
  },
  {
   "cell_type": "code",
   "execution_count": null,
   "id": "objective-sodium",
   "metadata": {},
   "outputs": [],
   "source": []
  },
  {
   "cell_type": "code",
   "execution_count": null,
   "id": "backed-namibia",
   "metadata": {},
   "outputs": [],
   "source": []
  },
  {
   "cell_type": "code",
   "execution_count": null,
   "id": "determined-aurora",
   "metadata": {},
   "outputs": [],
   "source": []
  },
  {
   "cell_type": "code",
   "execution_count": null,
   "id": "progressive-biodiversity",
   "metadata": {},
   "outputs": [],
   "source": []
  },
  {
   "cell_type": "markdown",
   "id": "enabling-belfast",
   "metadata": {},
   "source": [
    "Solicitamos al usuario que introduzca el carácter c para continuar o el carácter f para finalizar. Sin embargo, no podemos asegurar que siempre vaya a introducir alguno de estos caracteres. Por ello, creamos nuestra propia excepción, a la cual llamamos MiExcepcion. De esta manera, si el usuario introduce un carácter distinto a c y f se lanzará la excepción creada y se mostrará un mensaje de error indicando que el carácter introducido no es válido."
   ]
  },
  {
   "cell_type": "code",
   "execution_count": null,
   "id": "graduate-thickness",
   "metadata": {},
   "outputs": [],
   "source": []
  },
  {
   "cell_type": "code",
   "execution_count": null,
   "id": "traditional-contribution",
   "metadata": {},
   "outputs": [],
   "source": []
  },
  {
   "cell_type": "markdown",
   "id": "ready-track",
   "metadata": {},
   "source": [
    "## Resumen\n",
    "Es tu turno ¿qué hemos aprendido hoy?\n"
   ]
  },
  {
   "cell_type": "code",
   "execution_count": null,
   "id": "54dda1c4",
   "metadata": {},
   "outputs": [],
   "source": []
  }
 ],
 "metadata": {
  "kernelspec": {
   "display_name": "ironhack",
   "language": "python",
   "name": "ironhack"
  },
  "language_info": {
   "codemirror_mode": {
    "name": "ipython",
    "version": 3
   },
   "file_extension": ".py",
   "mimetype": "text/x-python",
   "name": "python",
   "nbconvert_exporter": "python",
   "pygments_lexer": "ipython3",
   "version": "3.8.5"
  },
  "toc": {
   "base_numbering": 1,
   "nav_menu": {},
   "number_sections": true,
   "sideBar": true,
   "skip_h1_title": true,
   "title_cell": "Table of Contents",
   "title_sidebar": "Contents",
   "toc_cell": true,
   "toc_position": {},
   "toc_section_display": true,
   "toc_window_display": false
  }
 },
 "nbformat": 4,
 "nbformat_minor": 5
}
