{
 "cells": [
  {
   "cell_type": "markdown",
   "id": "grateful-diana",
   "metadata": {},
   "source": [
    "# Retos para practicar bucles y condicionales 🚀🙃"
   ]
  },
  {
   "cell_type": "markdown",
   "id": "hearing-spelling",
   "metadata": {},
   "source": [
    "![elgif](https://media.giphy.com/media/lngw0pFJezv9vWdDq/giphy.gif)"
   ]
  },
  {
   "cell_type": "markdown",
   "id": "labeled-circumstances",
   "metadata": {},
   "source": [
    "## Ejercicio  🚀 (Recap if/else)\n",
    "Los alumnos de un curso se han dividido en dos grupos A y B de acuerdo al sexo y el nombre. El grupo A esta formado por las mujeres con un nombre anterior a la M y los hombres con un nombre posterior a la N y el grupo B por el resto. Escribir un programa que pregunte al usuario su nombre y sexo, y muestre por pantalla el grupo que le corresponde."
   ]
  },
  {
   "cell_type": "code",
   "execution_count": null,
   "id": "worst-wayne",
   "metadata": {},
   "outputs": [],
   "source": [
    "#Tu código aquí"
   ]
  },
  {
   "cell_type": "markdown",
   "id": "aware-compound",
   "metadata": {},
   "source": [
    "## Ejercicio  🚀 (while)\n",
    "Lee los números enteros del teclado, hasta que el usuario introduzca el 0. Finalmente, muestra la suma de todos los números positivos introducidos."
   ]
  },
  {
   "cell_type": "code",
   "execution_count": null,
   "id": "scenic-cutting",
   "metadata": {},
   "outputs": [],
   "source": [
    "# Tu código aquí"
   ]
  },
  {
   "cell_type": "markdown",
   "id": "middle-court",
   "metadata": {},
   "source": [
    "## Retocamos el 1 (while)\n",
    "Lee los números enteros del teclado, hasta que el usuario introduzca el 0. Finalmente, devuelve el mayor de los números introducidos\n"
   ]
  },
  {
   "cell_type": "code",
   "execution_count": null,
   "id": "checked-sarah",
   "metadata": {},
   "outputs": [],
   "source": [
    "# Tu código aquí (una forma)\n"
   ]
  },
  {
   "cell_type": "code",
   "execution_count": null,
   "id": "intimate-seattle",
   "metadata": {},
   "outputs": [],
   "source": [
    "# Otra forma\n"
   ]
  },
  {
   "cell_type": "markdown",
   "id": "persistent-freight",
   "metadata": {},
   "source": [
    "## Ejercicio  🚀\n",
    "Escribe un programa que pregunte al usuario por su edad y muestre todos los años que ha alcanzado (desde el 1 hasta su edad)."
   ]
  },
  {
   "cell_type": "code",
   "execution_count": null,
   "id": "liable-origin",
   "metadata": {},
   "outputs": [],
   "source": [
    "# Tu código aquí\n"
   ]
  },
  {
   "cell_type": "markdown",
   "id": "handled-efficiency",
   "metadata": {},
   "source": [
    "## Ejercicio  🚀\n",
    "Escribir un programa que pida al usuario un número entero positivo y muestre por pantalla todos los números impares desde 1 hasta ese número separados por comas."
   ]
  },
  {
   "cell_type": "code",
   "execution_count": null,
   "id": "clean-stanley",
   "metadata": {},
   "outputs": [],
   "source": [
    "# Tu código aquí\n"
   ]
  },
  {
   "cell_type": "markdown",
   "id": "standing-binary",
   "metadata": {},
   "source": [
    "## Ejercicio  🚀\n",
    "Escribir un programa que pida al usuario una palabra y luego muestre por pantalla una a una las letras de la palabra introducida empezando por la última."
   ]
  },
  {
   "cell_type": "code",
   "execution_count": null,
   "id": "desperate-polymer",
   "metadata": {},
   "outputs": [],
   "source": [
    "#Tu código aquí\n"
   ]
  },
  {
   "cell_type": "code",
   "execution_count": null,
   "id": "measured-remains",
   "metadata": {},
   "outputs": [],
   "source": []
  }
 ],
 "metadata": {
  "kernelspec": {
   "display_name": "ironhack",
   "language": "python",
   "name": "ironhack"
  },
  "language_info": {
   "codemirror_mode": {
    "name": "ipython",
    "version": 3
   },
   "file_extension": ".py",
   "mimetype": "text/x-python",
   "name": "python",
   "nbconvert_exporter": "python",
   "pygments_lexer": "ipython3",
   "version": "3.8.5"
  },
  "toc": {
   "base_numbering": 1,
   "nav_menu": {},
   "number_sections": true,
   "sideBar": true,
   "skip_h1_title": true,
   "title_cell": "Table of Contents",
   "title_sidebar": "Contents",
   "toc_cell": false,
   "toc_position": {},
   "toc_section_display": true,
   "toc_window_display": false
  }
 },
 "nbformat": 4,
 "nbformat_minor": 5
}
