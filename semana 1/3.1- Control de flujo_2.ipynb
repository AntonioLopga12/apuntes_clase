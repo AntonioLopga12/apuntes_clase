{
 "cells": [
  {
   "cell_type": "markdown",
   "id": "raised-meter",
   "metadata": {
    "toc": true
   },
   "source": [
    "<h1>Table of Contents<span class=\"tocSkip\"></span></h1>\n",
    "<div class=\"toc\"><ul class=\"toc-item\"><li><span><a href=\"#La-sentencia-&quot;while&quot;\" data-toc-modified-id=\"La-sentencia-&quot;while&quot;-1\"><span class=\"toc-item-num\">1&nbsp;&nbsp;</span>La sentencia \"while\"</a></span><ul class=\"toc-item\"><li><span><a href=\"#Nonetype\" data-toc-modified-id=\"Nonetype-1.1\"><span class=\"toc-item-num\">1.1&nbsp;&nbsp;</span>Nonetype</a></span></li></ul></li><li><span><a href=\"#Pass\" data-toc-modified-id=\"Pass-2\"><span class=\"toc-item-num\">2&nbsp;&nbsp;</span>Pass</a></span></li><li><span><a href=\"#For\" data-toc-modified-id=\"For-3\"><span class=\"toc-item-num\">3&nbsp;&nbsp;</span>For</a></span><ul class=\"toc-item\"><li><span><a href=\"#Iteramos-por-strings\" data-toc-modified-id=\"Iteramos-por-strings-3.1\"><span class=\"toc-item-num\">3.1&nbsp;&nbsp;</span>Iteramos por strings</a></span></li><li><span><a href=\"#Iterate-por-una-lista\" data-toc-modified-id=\"Iterate-por-una-lista-3.2\"><span class=\"toc-item-num\">3.2&nbsp;&nbsp;</span>Iterate por una lista</a></span></li><li><span><a href=\"#Iteramos-por-listas-sobre-su-índice\" data-toc-modified-id=\"Iteramos-por-listas-sobre-su-índice-3.3\"><span class=\"toc-item-num\">3.3&nbsp;&nbsp;</span>Iteramos por listas sobre su índice</a></span></li><li><span><a href=\"#Iteramos-por-dos-listas-al-mismo-tiempo\" data-toc-modified-id=\"Iteramos-por-dos-listas-al-mismo-tiempo-3.4\"><span class=\"toc-item-num\">3.4&nbsp;&nbsp;</span>Iteramos por dos listas al mismo tiempo</a></span></li><li><span><a href=\"#Iterar-sobre-los-elementos-de-un-diccionario\" data-toc-modified-id=\"Iterar-sobre-los-elementos-de-un-diccionario-3.5\"><span class=\"toc-item-num\">3.5&nbsp;&nbsp;</span>Iterar sobre los elementos de un diccionario</a></span></li></ul></li><li><span><a href=\"#Break\" data-toc-modified-id=\"Break-4\"><span class=\"toc-item-num\">4&nbsp;&nbsp;</span>Break</a></span></li><li><span><a href=\"#Resumen\" data-toc-modified-id=\"Resumen-5\"><span class=\"toc-item-num\">5&nbsp;&nbsp;</span>Resumen</a></span></li></ul></div>"
   ]
  },
  {
   "cell_type": "markdown",
   "id": "constant-discovery",
   "metadata": {},
   "source": [
    "# Let's keep the flow going"
   ]
  },
  {
   "cell_type": "markdown",
   "id": "genetic-output",
   "metadata": {},
   "source": [
    "![FLOW](https://media.giphy.com/media/h8y265b9iKtzKT0pDj/giphy.gif)"
   ]
  },
  {
   "cell_type": "markdown",
   "id": "spiritual-sphere",
   "metadata": {},
   "source": [
    "# Recap ¿Dudas de ayer?\n"
   ]
  },
  {
   "cell_type": "markdown",
   "id": "retained-warner",
   "metadata": {},
   "source": [
    "## La sentencia \"while\"\n",
    "\n",
    "A veces queremos ejecutar un programa hasta que se cumpla una condición. Podemos conseguirlo con la cláusula `while`.\n",
    "\n",
    "**Nota:** ¡Cuidado con las recursiones infinitas!"
   ]
  },
  {
   "cell_type": "code",
   "execution_count": 1,
   "id": "alive-nothing",
   "metadata": {},
   "outputs": [],
   "source": [
    "# ¡La recursividad infinita es divertida!\n",
    "# ¿Qué atajo nos permite romper esta recursión infinita?\n"
   ]
  },
  {
   "cell_type": "code",
   "execution_count": 15,
   "id": "cloudy-bennett",
   "metadata": {},
   "outputs": [],
   "source": [
    "condicion = True"
   ]
  },
  {
   "cell_type": "code",
   "execution_count": 17,
   "id": "subsequent-acceptance",
   "metadata": {},
   "outputs": [
    {
     "name": "stdout",
     "output_type": "stream",
     "text": [
      "buenos dias\n"
     ]
    }
   ],
   "source": [
    "while condicion:\n",
    "    print(\"buenos dias\")\n",
    "    condicion = False"
   ]
  },
  {
   "cell_type": "code",
   "execution_count": 18,
   "id": "growing-intersection",
   "metadata": {},
   "outputs": [
    {
     "name": "stdout",
     "output_type": "stream",
     "text": [
      "hola\n",
      "hola\n",
      "hola\n",
      "hola\n",
      "hola\n"
     ]
    },
    {
     "ename": "KeyboardInterrupt",
     "evalue": "",
     "output_type": "error",
     "traceback": [
      "\u001b[0;31m---------------------------------------------------------------------------\u001b[0m",
      "\u001b[0;31mKeyboardInterrupt\u001b[0m                         Traceback (most recent call last)",
      "\u001b[0;32m<ipython-input-18-a65bad45a568>\u001b[0m in \u001b[0;36m<module>\u001b[0;34m\u001b[0m\n\u001b[1;32m      3\u001b[0m \u001b[0;32mwhile\u001b[0m \u001b[0;34m\"a\"\u001b[0m \u001b[0;34m!=\u001b[0m\u001b[0;34m\"b\"\u001b[0m\u001b[0;34m:\u001b[0m\u001b[0;34m\u001b[0m\u001b[0;34m\u001b[0m\u001b[0m\n\u001b[1;32m      4\u001b[0m     \u001b[0mprint\u001b[0m\u001b[0;34m(\u001b[0m\u001b[0;34m\"hola\"\u001b[0m\u001b[0;34m)\u001b[0m\u001b[0;34m\u001b[0m\u001b[0;34m\u001b[0m\u001b[0m\n\u001b[0;32m----> 5\u001b[0;31m     \u001b[0mtime\u001b[0m\u001b[0;34m.\u001b[0m\u001b[0msleep\u001b[0m\u001b[0;34m(\u001b[0m\u001b[0;36m2\u001b[0m\u001b[0;34m)\u001b[0m\u001b[0;34m\u001b[0m\u001b[0;34m\u001b[0m\u001b[0m\n\u001b[0m",
      "\u001b[0;31mKeyboardInterrupt\u001b[0m: "
     ]
    }
   ],
   "source": [
    "import time\n",
    "\n",
    "while \"a\" !=\"b\":\n",
    "    print(\"hola\")\n",
    "    time.sleep(2)"
   ]
  },
  {
   "cell_type": "code",
   "execution_count": 2,
   "id": "appropriate-truth",
   "metadata": {},
   "outputs": [],
   "source": [
    "# Ejemplo, escribimos un programa.\n",
    "# Pregunta al usuario por un número hasta que introduce 0.\n"
   ]
  },
  {
   "cell_type": "code",
   "execution_count": 19,
   "id": "liked-picnic",
   "metadata": {},
   "outputs": [
    {
     "name": "stdout",
     "output_type": "stream",
     "text": [
      "Introduce un número3\n",
      "Introduce un número5\n",
      "Introduce un número167276272\n",
      "Introduce un número17263575\n"
     ]
    },
    {
     "ename": "KeyboardInterrupt",
     "evalue": "Interrupted by user",
     "output_type": "error",
     "traceback": [
      "\u001b[0;31m---------------------------------------------------------------------------\u001b[0m",
      "\u001b[0;31mKeyboardInterrupt\u001b[0m                         Traceback (most recent call last)",
      "\u001b[0;32m<ipython-input-19-e7ec87a28c08>\u001b[0m in \u001b[0;36m<module>\u001b[0;34m\u001b[0m\n\u001b[1;32m      1\u001b[0m \u001b[0mnum\u001b[0m \u001b[0;34m=\u001b[0m \u001b[0;32mNone\u001b[0m\u001b[0;34m\u001b[0m\u001b[0;34m\u001b[0m\u001b[0m\n\u001b[1;32m      2\u001b[0m \u001b[0;32mwhile\u001b[0m \u001b[0mnum\u001b[0m \u001b[0;34m!=\u001b[0m \u001b[0;36m0\u001b[0m\u001b[0;34m:\u001b[0m\u001b[0;34m\u001b[0m\u001b[0;34m\u001b[0m\u001b[0m\n\u001b[0;32m----> 3\u001b[0;31m     \u001b[0mnum\u001b[0m \u001b[0;34m=\u001b[0m \u001b[0mint\u001b[0m\u001b[0;34m(\u001b[0m\u001b[0minput\u001b[0m\u001b[0;34m(\u001b[0m\u001b[0;34m\"Introduce un número\"\u001b[0m\u001b[0;34m)\u001b[0m\u001b[0;34m)\u001b[0m\u001b[0;34m\u001b[0m\u001b[0;34m\u001b[0m\u001b[0m\n\u001b[0m",
      "\u001b[0;32m/usr/local/Caskroom/miniconda/base/envs/Ironhack/lib/python3.8/site-packages/ipykernel/kernelbase.py\u001b[0m in \u001b[0;36mraw_input\u001b[0;34m(self, prompt)\u001b[0m\n\u001b[1;32m    858\u001b[0m                 \u001b[0;34m\"raw_input was called, but this frontend does not support input requests.\"\u001b[0m\u001b[0;34m\u001b[0m\u001b[0;34m\u001b[0m\u001b[0m\n\u001b[1;32m    859\u001b[0m             )\n\u001b[0;32m--> 860\u001b[0;31m         return self._input_request(str(prompt),\n\u001b[0m\u001b[1;32m    861\u001b[0m             \u001b[0mself\u001b[0m\u001b[0;34m.\u001b[0m\u001b[0m_parent_ident\u001b[0m\u001b[0;34m,\u001b[0m\u001b[0;34m\u001b[0m\u001b[0;34m\u001b[0m\u001b[0m\n\u001b[1;32m    862\u001b[0m             \u001b[0mself\u001b[0m\u001b[0;34m.\u001b[0m\u001b[0m_parent_header\u001b[0m\u001b[0;34m,\u001b[0m\u001b[0;34m\u001b[0m\u001b[0;34m\u001b[0m\u001b[0m\n",
      "\u001b[0;32m/usr/local/Caskroom/miniconda/base/envs/Ironhack/lib/python3.8/site-packages/ipykernel/kernelbase.py\u001b[0m in \u001b[0;36m_input_request\u001b[0;34m(self, prompt, ident, parent, password)\u001b[0m\n\u001b[1;32m    902\u001b[0m             \u001b[0;32mexcept\u001b[0m \u001b[0mKeyboardInterrupt\u001b[0m\u001b[0;34m:\u001b[0m\u001b[0;34m\u001b[0m\u001b[0;34m\u001b[0m\u001b[0m\n\u001b[1;32m    903\u001b[0m                 \u001b[0;31m# re-raise KeyboardInterrupt, to truncate traceback\u001b[0m\u001b[0;34m\u001b[0m\u001b[0;34m\u001b[0m\u001b[0;34m\u001b[0m\u001b[0m\n\u001b[0;32m--> 904\u001b[0;31m                 \u001b[0;32mraise\u001b[0m \u001b[0mKeyboardInterrupt\u001b[0m\u001b[0;34m(\u001b[0m\u001b[0;34m\"Interrupted by user\"\u001b[0m\u001b[0;34m)\u001b[0m \u001b[0;32mfrom\u001b[0m \u001b[0;32mNone\u001b[0m\u001b[0;34m\u001b[0m\u001b[0;34m\u001b[0m\u001b[0m\n\u001b[0m\u001b[1;32m    905\u001b[0m             \u001b[0;32mexcept\u001b[0m \u001b[0mException\u001b[0m \u001b[0;32mas\u001b[0m \u001b[0me\u001b[0m\u001b[0;34m:\u001b[0m\u001b[0;34m\u001b[0m\u001b[0;34m\u001b[0m\u001b[0m\n\u001b[1;32m    906\u001b[0m                 \u001b[0mself\u001b[0m\u001b[0;34m.\u001b[0m\u001b[0mlog\u001b[0m\u001b[0;34m.\u001b[0m\u001b[0mwarning\u001b[0m\u001b[0;34m(\u001b[0m\u001b[0;34m\"Invalid Message:\"\u001b[0m\u001b[0;34m,\u001b[0m \u001b[0mexc_info\u001b[0m\u001b[0;34m=\u001b[0m\u001b[0;32mTrue\u001b[0m\u001b[0;34m)\u001b[0m\u001b[0;34m\u001b[0m\u001b[0;34m\u001b[0m\u001b[0m\n",
      "\u001b[0;31mKeyboardInterrupt\u001b[0m: Interrupted by user"
     ]
    }
   ],
   "source": [
    "num = None\n",
    "while num != 0:\n",
    "    num = int(input(\"Introduce un número\"))\n"
   ]
  },
  {
   "cell_type": "markdown",
   "id": "democratic-alexander",
   "metadata": {},
   "source": [
    "### Nonetype \n",
    "La palabra clave None se utiliza para definir una variable nula o un objeto. En Python, la palabra clave None es un objeto, y es un tipo de datos de la clase NoneType.\n",
    "\n",
    "Podemos asignar None a cualquier variable, pero no se pueden crear otros objetos NoneType."
   ]
  },
  {
   "cell_type": "code",
   "execution_count": 20,
   "id": "weekly-bailey",
   "metadata": {},
   "outputs": [
    {
     "data": {
      "text/plain": [
       "NoneType"
      ]
     },
     "execution_count": 20,
     "metadata": {},
     "output_type": "execute_result"
    }
   ],
   "source": [
    "num = None\n",
    "type(num)"
   ]
  },
  {
   "cell_type": "code",
   "execution_count": 21,
   "id": "spanish-index",
   "metadata": {},
   "outputs": [],
   "source": [
    "num"
   ]
  },
  {
   "cell_type": "markdown",
   "id": "pressed-calcium",
   "metadata": {},
   "source": [
    "[NoneType](https://www.educative.io/edpresso/what-is-the-none-keyword-in-python#:~:text=In%20Python%2C%20None%20keyword%20is,not%20create%20other%20NoneType%20objects.)"
   ]
  },
  {
   "cell_type": "markdown",
   "id": "accompanied-synthetic",
   "metadata": {},
   "source": [
    "En el caso de while True la expresión siempre va a ser evaluada como verdadera por definición. \n",
    "Equivaldría a:\n",
    "\n",
    "```python\n",
    "mientras verdadero sea verdadero:    \n",
    "    hacer algo\n",
    "   ````"
   ]
  },
  {
   "cell_type": "markdown",
   "id": "empty-seattle",
   "metadata": {},
   "source": [
    "🐒 - Escribimos un programa que pide al usuario una letra entre a y d eternamente hasta que introduce una correctamente.     \n",
    "Lo hago yo, pero me ayudáis...."
   ]
  },
  {
   "cell_type": "code",
   "execution_count": 24,
   "id": "known-scottish",
   "metadata": {},
   "outputs": [
    {
     "name": "stdout",
     "output_type": "stream",
     "text": [
      "Dame una letrah\n",
      "Keep Goingg\n",
      "Keep Goinga\n",
      "Bien hecho\n"
     ]
    }
   ],
   "source": [
    "letra = [\"a\",\"b\",\"c\",\"d\"]\n",
    "opcion = input(\"Dame una letra\")\n",
    "while opcion not in letra:\n",
    "    opcion = input(\"Keep Going\")\n",
    "print(\"Bien hecho\") "
   ]
  },
  {
   "cell_type": "markdown",
   "id": "reserved-encounter",
   "metadata": {},
   "source": [
    "# Reto 🤔\n",
    "¡Ahora es tu turno!     \n",
    "Resuelve los ejercicios 2 y 3 de actividades de hoy"
   ]
  },
  {
   "cell_type": "markdown",
   "id": "supreme-southwest",
   "metadata": {},
   "source": [
    "## Pass\n",
    "La sentencia pass no hace nada. Puede utilizarse cuando se requiere una sentencia sintáctica pero el programa no requiere ninguna acción (de los [docs](https://docs.python.org/3/tutorial/controlflow.html))           \n",
    "\n",
    "(Nuestra sentencia favorita de cara a nuestra jubilación)    \n",
    "Aunque pueda sorprendernos, resulta útil en varias situaciones. En Python no podemos tener sin definir un bloque de código (por ejemplo, el cuerpo de una función, el cuerpo de una condición o el de un bucle). Así que es habitual usar pass cuando estamos escribiendo la estructura de nuestro programa pero aún no hemos abordado la implementación de determinados bloques de código."
   ]
  },
  {
   "cell_type": "code",
   "execution_count": null,
   "id": "welsh-estimate",
   "metadata": {},
   "outputs": [],
   "source": []
  },
  {
   "cell_type": "code",
   "execution_count": null,
   "id": "international-search",
   "metadata": {},
   "outputs": [],
   "source": []
  },
  {
   "cell_type": "code",
   "execution_count": null,
   "id": "dutch-paragraph",
   "metadata": {},
   "outputs": [],
   "source": []
  },
  {
   "cell_type": "code",
   "execution_count": null,
   "id": "concerned-alert",
   "metadata": {},
   "outputs": [],
   "source": []
  },
  {
   "cell_type": "markdown",
   "id": "classical-passenger",
   "metadata": {},
   "source": [
    "## For"
   ]
  },
  {
   "cell_type": "markdown",
   "id": "southeast-explorer",
   "metadata": {},
   "source": [
    "Es muy habitual escribir un código con bucles dentro de estas dos posibles situaciones:    \n",
    "    - 1: Cuando utilizamos un contador en el seno de una repetición. El contador es una variable que va incrementándose o disminuyendo de forma constante en cada iteración del bucle hasta alcanzar un valor límite que marca el fin de las repeticiones.   \n",
    "    - 2: Cuando iteramos sobre los elementos de un contenedor, por ejemplo, una lista, para operar sobre cada uno de ellos. También en este caso conocemos de antemano el número de repeticiones que tendrán lugar."
   ]
  },
  {
   "cell_type": "markdown",
   "id": "national-clock",
   "metadata": {},
   "source": [
    "La sentencia For, en Python, permite iterar sobre secuencias de valores (listas o cadenas) según un orden establecido. A diferencia de otros lenguajes, con el for de Python no se definen contadores o expresiones que cambien a cada iteración sino una secuencia sobre la cual la variable contador tomará sus valores. En cualquier caso, es la opción más adecuada para resolver los dos casos anteriores....vamos a poner un ejemplo:"
   ]
  },
  {
   "cell_type": "code",
   "execution_count": null,
   "id": "early-bullet",
   "metadata": {},
   "outputs": [],
   "source": []
  },
  {
   "cell_type": "code",
   "execution_count": null,
   "id": "representative-disability",
   "metadata": {},
   "outputs": [],
   "source": []
  },
  {
   "cell_type": "code",
   "execution_count": null,
   "id": "gothic-reform",
   "metadata": {},
   "outputs": [],
   "source": []
  },
  {
   "cell_type": "markdown",
   "id": "abroad-creature",
   "metadata": {},
   "source": [
    "La sentencia for, en Python, itera sobre colecciones. Por tanto, si necesitamos un contador que se incremente en cada iteración, Python proporciona la función range(), que genera listas de enteros. Esta función permite generar secuencias y es bastante versátil y podemos invocarla de diferentes maneras:"
   ]
  },
  {
   "cell_type": "markdown",
   "id": "green-meeting",
   "metadata": {},
   "source": [
    "- Con un solo argumento: genera enteros que van desde 0 hasta el anterior indicado como parámetro:"
   ]
  },
  {
   "cell_type": "code",
   "execution_count": null,
   "id": "headed-planner",
   "metadata": {},
   "outputs": [],
   "source": []
  },
  {
   "cell_type": "code",
   "execution_count": null,
   "id": "seeing-fighter",
   "metadata": {},
   "outputs": [],
   "source": []
  },
  {
   "cell_type": "code",
   "execution_count": 3,
   "id": "canadian-petroleum",
   "metadata": {},
   "outputs": [],
   "source": [
    "# Imprimo los impares de una lista a través de un rango\n"
   ]
  },
  {
   "cell_type": "markdown",
   "id": "latter-auction",
   "metadata": {},
   "source": [
    "- Con dos argumentos. El primer parámetro es el valor inicial y el segundo el valor por debajo del cual deben estar los elementos de la lista:"
   ]
  },
  {
   "cell_type": "code",
   "execution_count": null,
   "id": "agreed-doctor",
   "metadata": {},
   "outputs": [],
   "source": []
  },
  {
   "cell_type": "markdown",
   "id": "adapted-microphone",
   "metadata": {},
   "source": [
    "- Con tres argumentos. Igual que en el anterior, pero el tercer parámetro indica el incremento que se produce de un elemento al siguiente:"
   ]
  },
  {
   "cell_type": "code",
   "execution_count": null,
   "id": "resistant-medicare",
   "metadata": {},
   "outputs": [],
   "source": []
  },
  {
   "cell_type": "markdown",
   "id": "identical-charm",
   "metadata": {},
   "source": [
    "# Retos 🤔\n",
    "¡Ahora es tu turno!     \n",
    "Resuelve los ejercicios 4,5 y 6 del jupyter de actividades de hoy"
   ]
  },
  {
   "cell_type": "markdown",
   "id": "closing-pound",
   "metadata": {},
   "source": [
    "### Iteramos por strings"
   ]
  },
  {
   "cell_type": "code",
   "execution_count": null,
   "id": "revolutionary-romantic",
   "metadata": {},
   "outputs": [],
   "source": []
  },
  {
   "cell_type": "markdown",
   "id": "worth-steps",
   "metadata": {},
   "source": [
    "### Iterate por una lista"
   ]
  },
  {
   "cell_type": "code",
   "execution_count": null,
   "id": "careful-missile",
   "metadata": {},
   "outputs": [],
   "source": []
  },
  {
   "cell_type": "code",
   "execution_count": null,
   "id": "collectible-ferry",
   "metadata": {},
   "outputs": [],
   "source": []
  },
  {
   "cell_type": "markdown",
   "id": "accessible-trance",
   "metadata": {},
   "source": [
    "### Iteramos por listas sobre su índice\n",
    "- Built in functions --> https://docs.python.org/3/library/functions.html\n",
    "- Enumerate doc --> https://book.pythontips.com/en/latest/enumerate.html"
   ]
  },
  {
   "cell_type": "code",
   "execution_count": 4,
   "id": "figured-library",
   "metadata": {},
   "outputs": [],
   "source": [
    "# ENUMERATE"
   ]
  },
  {
   "cell_type": "code",
   "execution_count": null,
   "id": "thirty-coffee",
   "metadata": {},
   "outputs": [],
   "source": []
  },
  {
   "cell_type": "code",
   "execution_count": null,
   "id": "bright-shipping",
   "metadata": {},
   "outputs": [],
   "source": []
  },
  {
   "cell_type": "code",
   "execution_count": null,
   "id": "acceptable-impression",
   "metadata": {},
   "outputs": [],
   "source": []
  },
  {
   "cell_type": "code",
   "execution_count": null,
   "id": "intimate-sacramento",
   "metadata": {},
   "outputs": [],
   "source": []
  },
  {
   "cell_type": "code",
   "execution_count": null,
   "id": "found-underwear",
   "metadata": {},
   "outputs": [],
   "source": []
  },
  {
   "cell_type": "code",
   "execution_count": null,
   "id": "periodic-lodging",
   "metadata": {},
   "outputs": [],
   "source": []
  },
  {
   "cell_type": "code",
   "execution_count": null,
   "id": "swiss-weather",
   "metadata": {},
   "outputs": [],
   "source": []
  },
  {
   "cell_type": "code",
   "execution_count": null,
   "id": "sixth-bermuda",
   "metadata": {},
   "outputs": [],
   "source": []
  },
  {
   "cell_type": "markdown",
   "id": "measured-founder",
   "metadata": {},
   "source": [
    "### Iteramos por dos listas al mismo tiempo"
   ]
  },
  {
   "cell_type": "markdown",
   "id": "level-palestinian",
   "metadata": {},
   "source": [
    "Os dejo la documentación de zip, recordad que no va a dar error si las listas son de diferente tamaño pero la última iteración será la de la lista más corta      \n",
    "[DOC](https://docs.python.org/3/library/functions.html)"
   ]
  },
  {
   "cell_type": "code",
   "execution_count": null,
   "id": "egyptian-opening",
   "metadata": {},
   "outputs": [],
   "source": []
  },
  {
   "cell_type": "code",
   "execution_count": null,
   "id": "curious-curve",
   "metadata": {},
   "outputs": [],
   "source": []
  },
  {
   "cell_type": "code",
   "execution_count": null,
   "id": "excellent-equation",
   "metadata": {},
   "outputs": [],
   "source": []
  },
  {
   "cell_type": "code",
   "execution_count": null,
   "id": "executed-death",
   "metadata": {},
   "outputs": [],
   "source": []
  },
  {
   "cell_type": "code",
   "execution_count": null,
   "id": "plastic-bloom",
   "metadata": {},
   "outputs": [],
   "source": []
  },
  {
   "cell_type": "code",
   "execution_count": null,
   "id": "numeric-champagne",
   "metadata": {},
   "outputs": [],
   "source": []
  },
  {
   "cell_type": "code",
   "execution_count": 5,
   "id": "aerial-leonard",
   "metadata": {},
   "outputs": [],
   "source": [
    "# Enumerate + zip en el bucle directamente"
   ]
  },
  {
   "cell_type": "code",
   "execution_count": null,
   "id": "random-detector",
   "metadata": {},
   "outputs": [],
   "source": []
  },
  {
   "cell_type": "markdown",
   "id": "virtual-tuner",
   "metadata": {},
   "source": [
    "### Iterar sobre los elementos de un diccionario"
   ]
  },
  {
   "cell_type": "code",
   "execution_count": 6,
   "id": "future-desperate",
   "metadata": {},
   "outputs": [],
   "source": [
    "diccionario = { \"Nombre\": \"Dobby\",\n",
    "               \"Raza\" : \"Galgo\",\n",
    "               \"Emoji\": \"🐶\",\n",
    "               \"Cosas que le gusta comer\": [{\"Carne\": [\"Pollo\", \"Ternera\"],\n",
    "                                            \"Fruta\": \"No come\"}]\n",
    "}"
   ]
  },
  {
   "cell_type": "code",
   "execution_count": null,
   "id": "accredited-festival",
   "metadata": {},
   "outputs": [],
   "source": []
  },
  {
   "cell_type": "code",
   "execution_count": null,
   "id": "naughty-belle",
   "metadata": {},
   "outputs": [],
   "source": []
  },
  {
   "cell_type": "code",
   "execution_count": null,
   "id": "conceptual-replication",
   "metadata": {},
   "outputs": [],
   "source": []
  },
  {
   "cell_type": "code",
   "execution_count": 7,
   "id": "motivated-syndrome",
   "metadata": {},
   "outputs": [],
   "source": [
    "# iteramos sobre las keys\n"
   ]
  },
  {
   "cell_type": "code",
   "execution_count": 8,
   "id": "sacred-mystery",
   "metadata": {},
   "outputs": [],
   "source": [
    "# iteramos sobre los values\n"
   ]
  },
  {
   "cell_type": "code",
   "execution_count": null,
   "id": "micro-difficulty",
   "metadata": {},
   "outputs": [],
   "source": []
  },
  {
   "cell_type": "code",
   "execution_count": null,
   "id": "developing-psychology",
   "metadata": {},
   "outputs": [],
   "source": []
  },
  {
   "cell_type": "code",
   "execution_count": null,
   "id": "automatic-commission",
   "metadata": {},
   "outputs": [],
   "source": []
  },
  {
   "cell_type": "code",
   "execution_count": null,
   "id": "configured-alliance",
   "metadata": {},
   "outputs": [],
   "source": []
  },
  {
   "cell_type": "markdown",
   "id": "banned-irish",
   "metadata": {},
   "source": [
    "## Break"
   ]
  },
  {
   "cell_type": "markdown",
   "id": "civilian-coordinate",
   "metadata": {},
   "source": [
    "Podemos literalmente \"romper\" una recursión cuando se cumple una condición"
   ]
  },
  {
   "cell_type": "code",
   "execution_count": 9,
   "id": "suitable-network",
   "metadata": {},
   "outputs": [],
   "source": [
    "grupos = [\"Rufus T. Firefly\", \"Viva Suecia\", \"Standstill\",\"Bowie\", \"Fuel Fandango\"]"
   ]
  },
  {
   "cell_type": "markdown",
   "id": "animated-population",
   "metadata": {},
   "source": [
    "## Resumen\n",
    "Es tu turno ¿qué hemos aprendido hoy?\n",
    "- Pass para dejar algo en stadnby, no hace nada\n",
    "- La función enumerate (iteramos sobre índice y elemento de un iterable a la vez)\n",
    "- ZIP (iteramos sobre varias listas a la vez)\n",
    "- While (bucle que continúa mientras se cumpla una condición, mientras la condición sea TRUE)\n",
    "- While TRUE para cuando le ponemos un BREAK.\n",
    "- NoneType\n",
    "- Bucle For (que lo utilizamos cuando conocemos las veces que necesitamos iterar) / número determinado, por ejemplo una lista.\n",
    "- print(end = \",\") añade una coma en vez de un salto de línea que viene por defecto.\n",
    "- range (genera un rango de números)\n",
    "- start, stop, step (los parámetros de range)"
   ]
  }
 ],
 "metadata": {
  "kernelspec": {
   "display_name": "Python 3",
   "language": "python",
   "name": "python3"
  },
  "language_info": {
   "codemirror_mode": {
    "name": "ipython",
    "version": 3
   },
   "file_extension": ".py",
   "mimetype": "text/x-python",
   "name": "python",
   "nbconvert_exporter": "python",
   "pygments_lexer": "ipython3",
   "version": "3.8.5"
  },
  "toc": {
   "base_numbering": 1,
   "nav_menu": {},
   "number_sections": true,
   "sideBar": true,
   "skip_h1_title": true,
   "title_cell": "Table of Contents",
   "title_sidebar": "Contents",
   "toc_cell": true,
   "toc_position": {},
   "toc_section_display": true,
   "toc_window_display": false
  },
  "varInspector": {
   "cols": {
    "lenName": 16,
    "lenType": 16,
    "lenVar": 40
   },
   "kernels_config": {
    "python": {
     "delete_cmd_postfix": "",
     "delete_cmd_prefix": "del ",
     "library": "var_list.py",
     "varRefreshCmd": "print(var_dic_list())"
    },
    "r": {
     "delete_cmd_postfix": ") ",
     "delete_cmd_prefix": "rm(",
     "library": "var_list.r",
     "varRefreshCmd": "cat(var_dic_list()) "
    }
   },
   "types_to_exclude": [
    "module",
    "function",
    "builtin_function_or_method",
    "instance",
    "_Feature"
   ],
   "window_display": false
  }
 },
 "nbformat": 4,
 "nbformat_minor": 5
}
