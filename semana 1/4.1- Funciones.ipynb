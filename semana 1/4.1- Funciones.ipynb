{
 "cells": [
  {
   "cell_type": "markdown",
   "id": "worldwide-hometown",
   "metadata": {},
   "source": [
    "# Programación Funcional"
   ]
  },
  {
   "cell_type": "markdown",
   "id": "conceptual-behalf",
   "metadata": {},
   "source": [
    "![elgif](https://media.giphy.com/media/CuMiNoTRz2bYc/giphy.gif)"
   ]
  },
  {
   "cell_type": "markdown",
   "id": "incorrect-serum",
   "metadata": {
    "toc": true
   },
   "source": [
    "<h1>Table of Contents<span class=\"tocSkip\"></span></h1>\n",
    "<div class=\"toc\"><ul class=\"toc-item\"><li><span><a href=\"#Vuestras-aportaciones-🚀\" data-toc-modified-id=\"Vuestras-aportaciones-🚀-1\"><span class=\"toc-item-num\">1&nbsp;&nbsp;</span>Vuestras aportaciones 🚀</a></span></li><li><span><a href=\"#¿Qué-es-la-programación-funcional?\" data-toc-modified-id=\"¿Qué-es-la-programación-funcional?-2\"><span class=\"toc-item-num\">2&nbsp;&nbsp;</span>¿Qué es la programación funcional?</a></span></li><li><span><a href=\"#Funciones-Built-in\" data-toc-modified-id=\"Funciones-Built-in-3\"><span class=\"toc-item-num\">3&nbsp;&nbsp;</span>Funciones Built-in</a></span></li><li><span><a href=\"#Extraer-el-código-fuente-de-una-función\" data-toc-modified-id=\"Extraer-el-código-fuente-de-una-función-4\"><span class=\"toc-item-num\">4&nbsp;&nbsp;</span>Extraer el código fuente de una función</a></span></li><li><span><a href=\"#Sintaxis-de-las-funciones\" data-toc-modified-id=\"Sintaxis-de-las-funciones-5\"><span class=\"toc-item-num\">5&nbsp;&nbsp;</span>Sintaxis de las funciones</a></span></li><li><span><a href=\"#Parámetros-vs-Argumentos\" data-toc-modified-id=\"Parámetros-vs-Argumentos-6\"><span class=\"toc-item-num\">6&nbsp;&nbsp;</span>Parámetros vs Argumentos</a></span></li><li><span><a href=\"#Funciones-que-no-tienen-parámetros\" data-toc-modified-id=\"Funciones-que-no-tienen-parámetros-7\"><span class=\"toc-item-num\">7&nbsp;&nbsp;</span>Funciones que no tienen parámetros</a></span></li><li><span><a href=\"#Funciones-que-no-tienen-return\" data-toc-modified-id=\"Funciones-que-no-tienen-return-8\"><span class=\"toc-item-num\">8&nbsp;&nbsp;</span>Funciones que no tienen return</a></span></li><li><span><a href=\"#Escribamos-funciones\" data-toc-modified-id=\"Escribamos-funciones-9\"><span class=\"toc-item-num\">9&nbsp;&nbsp;</span>Escribamos funciones</a></span></li><li><span><a href=\"#Parámetros-por-defecto\" data-toc-modified-id=\"Parámetros-por-defecto-10\"><span class=\"toc-item-num\">10&nbsp;&nbsp;</span>Parámetros por defecto</a></span><ul class=\"toc-item\"><li><ul class=\"toc-item\"><li><span><a href=\"#Otro-ejemplo\" data-toc-modified-id=\"Otro-ejemplo-10.0.1\"><span class=\"toc-item-num\">10.0.1&nbsp;&nbsp;</span>Otro ejemplo</a></span></li></ul></li></ul></li><li><span><a href=\"#PARFAVAR-No-confundamos-los-PRINT-dentro-de-una-función-con-los-RETURN!\" data-toc-modified-id=\"PARFAVAR-No-confundamos-los-PRINT-dentro-de-una-función-con-los-RETURN!-11\"><span class=\"toc-item-num\">11&nbsp;&nbsp;</span>PARFAVAR No confundamos los PRINT dentro de una función con los RETURN!</a></span></li><li><span><a href=\"#Docstring\" data-toc-modified-id=\"Docstring-12\"><span class=\"toc-item-num\">12&nbsp;&nbsp;</span>Docstring</a></span></li><li><span><a href=\"#Scope-de-las-funciones\" data-toc-modified-id=\"Scope-de-las-funciones-13\"><span class=\"toc-item-num\">13&nbsp;&nbsp;</span>Scope de las funciones</a></span></li><li><span><a href=\"#*Args\" data-toc-modified-id=\"*Args-14\"><span class=\"toc-item-num\">14&nbsp;&nbsp;</span>*Args</a></span></li><li><span><a href=\"#**Kwargs\" data-toc-modified-id=\"**Kwargs-15\"><span class=\"toc-item-num\">15&nbsp;&nbsp;</span>**Kwargs</a></span></li><li><span><a href=\"#El-orden-importa\" data-toc-modified-id=\"El-orden-importa-16\"><span class=\"toc-item-num\">16&nbsp;&nbsp;</span>El orden importa</a></span></li><li><span><a href=\"#Lambda\" data-toc-modified-id=\"Lambda-17\"><span class=\"toc-item-num\">17&nbsp;&nbsp;</span>Lambda</a></span><ul class=\"toc-item\"><li><span><a href=\"#Sintaxis-de-una-lambda\" data-toc-modified-id=\"Sintaxis-de-una-lambda-17.1\"><span class=\"toc-item-num\">17.1&nbsp;&nbsp;</span>Sintaxis de una lambda</a></span></li><li><span><a href=\"#Ejemplos-de-lambda\" data-toc-modified-id=\"Ejemplos-de-lambda-17.2\"><span class=\"toc-item-num\">17.2&nbsp;&nbsp;</span>Ejemplos de lambda</a></span></li><li><span><a href=\"#Hagámoslo-Fácil-🙃\" data-toc-modified-id=\"Hagámoslo-Fácil-🙃-17.3\"><span class=\"toc-item-num\">17.3&nbsp;&nbsp;</span>Hagámoslo Fácil 🙃</a></span></li></ul></li><li><span><a href=\"#Recursividad\" data-toc-modified-id=\"Recursividad-18\"><span class=\"toc-item-num\">18&nbsp;&nbsp;</span>Recursividad</a></span></li><li><span><a href=\"#Resumen\" data-toc-modified-id=\"Resumen-19\"><span class=\"toc-item-num\">19&nbsp;&nbsp;</span>Resumen</a></span></li></ul></div>"
   ]
  },
  {
   "cell_type": "markdown",
   "id": "wound-portland",
   "metadata": {},
   "source": [
    "## Vuestras aportaciones 🚀\n",
    "- Devuelven cosas * \n",
    "- SImplifican procesos\n",
    "- Reciben cosas * \n",
    "- Se definen con def\n",
    "- Aglutinan conceptos\n",
    "- Aautomatizan operaciones\n",
    "- Agrupan código\n",
    "- Return ¿qué es?\n",
    "- Operación generalizada\n",
    "- Parámetros\n",
    "- Hay que definirlas *\n",
    "- Las utilizamos con variables\n",
    "- Pueden incluir otras funciones\n",
    "- Tienes que llamarlas * \n",
    "- Variables locales que no afectan al resto del código\n",
    "- Global\n",
    "- Incluimos conjunto de funciones dentro de una librería\n",
    "- Una cosa\n",
    "- Caja negra *\n",
    "- Se pueden reutilizar *\n",
    "- Pueden utilizar lógica matemática\n",
    "- Los argumentos / parámetros no necesitan estar definidos dentro **\n",
    "- \n"
   ]
  },
  {
   "cell_type": "markdown",
   "id": "paperback-stock",
   "metadata": {},
   "source": [
    "## ¿Qué es la programación funcional?\n",
    "¿Qué significa que Python es multiparadigma?\n",
    "Según Wikipedia:\n",
    "\n",
    "“Python es un lenguaje de programación interpretado cuya filosofía hace hincapié en la legibilidad de su código. Se trata de un lenguaje de programación multiparadigma, ya que soporta orientación a objetos, programación imperativa y, en menor medida, programación funcional.”\n",
    "\n",
    "Quiere decir que acepta diversas formar de trabajar con el lenguaje. Básicamente existen 3 paradigmas predominantes, o dicho de otra manera, 3 formatos globales de organizar un código.\n",
    "\n",
    "**Programación imperativa (estructurada)**: el código será ejecutado desde el principio del fichero al final sin seguir ningún tipo de desviación. Su mayor ventaja radica en su simplicidad y poco peso. Su peligrosidad es el código espagueti, archivos con centenares o miles de líneas donde solo unos pocos seres humanos son capaces de modificar y salir victoriosos.\n",
    "\n",
    "**Programación orientada a objetos (OOP o Object Oriented Programming)**: donde se encapsulan las variables y funciones en pequeños módulos capaces de clonarse y modificarse. Su punto fuerte es la capacidad de re-utilización y aislamiento para evitar problemas con otras funcionalidades. La parte negativa recae en la complejidad de crear buenos objetos y la depuración.\n",
    "\n",
    "**Programación funcional (FP o Functional programming)**: donde el código se reparte en sencillas funciones capaces de ser invocadas con variables u otras funciones. Su facilidad de uso por atomicidad logra un mantenimiento sólido y compatible con casi cualquier lenguaje. Además su inmutabilidad de variables evita gran parte de los problemas que si sufre la programación orientada a objetos."
   ]
  },
  {
   "cell_type": "code",
   "execution_count": null,
   "id": "brilliant-divorce",
   "metadata": {},
   "outputs": [],
   "source": []
  },
  {
   "cell_type": "markdown",
   "id": "worse-grace",
   "metadata": {},
   "source": [
    "## Funciones Built-in "
   ]
  },
  {
   "cell_type": "markdown",
   "id": "occasional-embassy",
   "metadata": {},
   "source": [
    "El intérprete de Python tiene una serie de funciones y tipos incluidos en él que están siempre disponibles. Están listados [aquí](https://docs.python.org/es/3/library/functions.html?highlight=built) en orden alfabético."
   ]
  },
  {
   "cell_type": "markdown",
   "id": "remarkable-stopping",
   "metadata": {},
   "source": [
    "## Extraer el código fuente de una función\n",
    "Ya que hablamos de las built-int, por curiosidad, si necesitamos extraer el código de una función escrita anteriormente.....\n"
   ]
  },
  {
   "cell_type": "code",
   "execution_count": null,
   "id": "independent-neutral",
   "metadata": {},
   "outputs": [],
   "source": []
  },
  {
   "cell_type": "markdown",
   "id": "southwest-antenna",
   "metadata": {},
   "source": [
    "En caso de las built-in functions no podemos extraer el código con inspect, ya que Python en sí mismo está escrito en C... la función Print tiene este aspecto 👇🏻"
   ]
  },
  {
   "cell_type": "markdown",
   "id": "through-silicon",
   "metadata": {},
   "source": [
    "```C\n",
    "static PyObject *\n",
    "builtin_print(PyObject *self, PyObject *args, PyObject *kwds)\n",
    "{\n",
    "    static char *kwlist[] = {\"sep\", \"end\", \"file\", 0};\n",
    "    static PyObject *dummy_args = NULL;\n",
    "    static PyObject *unicode_newline = NULL, *unicode_space = NULL;\n",
    "    static PyObject *str_newline = NULL, *str_space = NULL;\n",
    "    PyObject *newline, *space;\n",
    "    PyObject *sep = NULL, *end = NULL, *file = NULL;\n",
    "    int i, err, use_unicode = 0;\n",
    "\n",
    "    if (dummy_args == NULL) {\n",
    "        if (!(dummy_args = PyTuple_New(0)))\n",
    "            return NULL;\n",
    "    }\n",
    "    if (str_newline == NULL) {\n",
    "        str_newline = PyString_FromString(\"\\n\");\n",
    "        if (str_newline == NULL)\n",
    "            return NULL;\n",
    "        str_space = PyString_FromString(\" \");\n",
    "        if (str_space == NULL) {\n",
    "            Py_CLEAR(str_newline);\n",
    "            return NULL;\n",
    "        }\n",
    "#ifdef Py_USING_UNICODE\n",
    "        unicode_newline = PyUnicode_FromString(\"\\n\");\n",
    "        if (unicode_newline == NULL) {\n",
    "            Py_CLEAR(str_newline);\n",
    "            Py_CLEAR(str_space);\n",
    "            return NULL;\n",
    "        }\n",
    "        unicode_space = PyUnicode_FromString(\" \");\n",
    "        if (unicode_space == NULL) {\n",
    "            Py_CLEAR(str_newline);\n",
    "            Py_CLEAR(str_space);\n",
    "            Py_CLEAR(unicode_space);\n",
    "            return NULL;\n",
    "        }\n",
    "#endif\n",
    "    }\n",
    "    if (!PyArg_ParseTupleAndKeywords(dummy_args, kwds, \"|OOO:print\",\n",
    "                                     kwlist, &sep, &end, &file))\n",
    "        return NULL;\n",
    "    if (file == NULL || file == Py_None) {\n",
    "        file = PySys_GetObject(\"stdout\");\n",
    "        /* sys.stdout may be None when FILE* stdout isn't connected */\n",
    "        if (file == Py_None)\n",
    "            Py_RETURN_NONE;\n",
    "    }\n",
    "    if (sep == Py_None) {\n",
    "        sep = NULL;\n",
    "    }\n",
    "    else if (sep) {\n",
    "        if (PyUnicode_Check(sep)) {\n",
    "            use_unicode = 1;\n",
    "        }\n",
    "        else if (!PyString_Check(sep)) {\n",
    "            PyErr_Format(PyExc_TypeError,\n",
    "                         \"sep must be None, str or unicode, not %.200s\",\n",
    "                         sep->ob_type->tp_name);\n",
    "            return NULL;\n",
    "        }\n",
    "    }\n",
    "    if (end == Py_None)\n",
    "        end = NULL;\n",
    "    else if (end) {\n",
    "        if (PyUnicode_Check(end)) {\n",
    "            use_unicode = 1;\n",
    "        }\n",
    "        else if (!PyString_Check(end)) {\n",
    "            PyErr_Format(PyExc_TypeError,\n",
    "                         \"end must be None, str or unicode, not %.200s\",\n",
    "                         end->ob_type->tp_name);\n",
    "            return NULL;\n",
    "        }\n",
    "    }\n",
    "\n",
    "    if (!use_unicode) {\n",
    "        for (i = 0; i < PyTuple_Size(args); i++) {\n",
    "            if (PyUnicode_Check(PyTuple_GET_ITEM(args, i))) {\n",
    "                use_unicode = 1;\n",
    "                break;\n",
    "            }\n",
    "        }\n",
    "    }\n",
    "    if (use_unicode) {\n",
    "        newline = unicode_newline;\n",
    "        space = unicode_space;\n",
    "    }\n",
    "    else {\n",
    "        newline = str_newline;\n",
    "        space = str_space;\n",
    "    }\n",
    "\n",
    "    for (i = 0; i < PyTuple_Size(args); i++) {\n",
    "        if (i > 0) {\n",
    "            if (sep == NULL)\n",
    "                err = PyFile_WriteObject(space, file,\n",
    "                                         Py_PRINT_RAW);\n",
    "            else\n",
    "                err = PyFile_WriteObject(sep, file,\n",
    "                                         Py_PRINT_RAW);\n",
    "            if (err)\n",
    "                return NULL;\n",
    "        }\n",
    "        err = PyFile_WriteObject(PyTuple_GetItem(args, i), file,\n",
    "                                 Py_PRINT_RAW);\n",
    "        if (err)\n",
    "            return NULL;\n",
    "    }\n",
    "\n",
    "    if (end == NULL)\n",
    "        err = PyFile_WriteObject(newline, file, Py_PRINT_RAW);\n",
    "    else\n",
    "        err = PyFile_WriteObject(end, file, Py_PRINT_RAW);\n",
    "    if (err)\n",
    "        return NULL;\n",
    "\n",
    "    Py_RETURN_NONE;\n",
    "}\n",
    "```"
   ]
  },
  {
   "cell_type": "markdown",
   "id": "fatal-accused",
   "metadata": {},
   "source": [
    "## Sintaxis de las funciones\n",
    "\n",
    "Sintaxis para la definición de una función:\n",
    "```python\n",
    "\n",
    "def nombre_funcion(argumentos de entrada):\n",
    "    # los dos puntos y la indentacion implican estar en la funcion\n",
    "    realiza un accion\n",
    "    return()   # devuelven cierto valor\n",
    "\n",
    "```\n",
    "\n",
    "Ejecución de la función: \n",
    "```python\n",
    "nombre_de_la_función(argumento1, argumento2, ...)\n",
    "```\n",
    "o, si quieres guardar el resultado en una variable  \n",
    "```python\n",
    "resultado = nombre_de_la_función(argumento1, argumento2, ...)\n",
    "```"
   ]
  },
  {
   "cell_type": "markdown",
   "id": "directed-clark",
   "metadata": {},
   "source": [
    "## Parámetros vs Argumentos\n",
    "Los parámetros formales para una función se enumeran en la declaración de la función y se utilizan en el cuerpo de la definición de la función.\n",
    "\n",
    "Un argumento es lo que se usa haciendo referencia a los parámetros. Cuando escribe una llamada de función, los argumentos se enumeran entre paréntesis después del nombre de la función. Cuando se ejecuta la llamada a la función, los argumentos se insertan para los parámetros.\n",
    "\n",
    "Digamos entonces que, los parámetros, son esas variables \"imaginarias\" que van a tener el mismo nombre en la definición y en el cuerpo de la función.       \n",
    "Los argumentos son los DATOS REALES que utilizamos cuando llamamos a la función."
   ]
  },
  {
   "cell_type": "markdown",
   "id": "combined-service",
   "metadata": {},
   "source": [
    "## Funciones que no tienen parámetros"
   ]
  },
  {
   "cell_type": "code",
   "execution_count": null,
   "id": "occupational-singing",
   "metadata": {},
   "outputs": [],
   "source": []
  },
  {
   "cell_type": "code",
   "execution_count": null,
   "id": "front-namibia",
   "metadata": {},
   "outputs": [],
   "source": []
  },
  {
   "cell_type": "markdown",
   "id": "measured-manual",
   "metadata": {},
   "source": [
    "## Funciones que no tienen return\n",
    "Hacen \"cosas\" pero no devuelven nada... y si una función no tiene return, entonces devuelve:         \n",
    "```python\n",
    "None\n",
    "```\n"
   ]
  },
  {
   "cell_type": "code",
   "execution_count": null,
   "id": "compatible-safety",
   "metadata": {},
   "outputs": [],
   "source": []
  },
  {
   "cell_type": "code",
   "execution_count": null,
   "id": "further-cotton",
   "metadata": {},
   "outputs": [],
   "source": []
  },
  {
   "cell_type": "code",
   "execution_count": null,
   "id": "operational-flood",
   "metadata": {},
   "outputs": [],
   "source": []
  },
  {
   "cell_type": "markdown",
   "id": "sufficient-buying",
   "metadata": {},
   "source": [
    "## Escribamos funciones"
   ]
  },
  {
   "cell_type": "code",
   "execution_count": null,
   "id": "intellectual-might",
   "metadata": {},
   "outputs": [],
   "source": []
  },
  {
   "cell_type": "code",
   "execution_count": null,
   "id": "bright-assets",
   "metadata": {},
   "outputs": [],
   "source": []
  },
  {
   "cell_type": "code",
   "execution_count": null,
   "id": "synthetic-olive",
   "metadata": {},
   "outputs": [],
   "source": []
  },
  {
   "cell_type": "code",
   "execution_count": null,
   "id": "synthetic-layer",
   "metadata": {},
   "outputs": [],
   "source": []
  },
  {
   "cell_type": "code",
   "execution_count": null,
   "id": "sporting-collective",
   "metadata": {},
   "outputs": [],
   "source": []
  },
  {
   "cell_type": "code",
   "execution_count": null,
   "id": "spanish-dubai",
   "metadata": {},
   "outputs": [],
   "source": []
  },
  {
   "cell_type": "code",
   "execution_count": null,
   "id": "peaceful-chosen",
   "metadata": {},
   "outputs": [],
   "source": []
  },
  {
   "cell_type": "code",
   "execution_count": null,
   "id": "satisfactory-civilian",
   "metadata": {},
   "outputs": [],
   "source": []
  },
  {
   "cell_type": "code",
   "execution_count": null,
   "id": "european-correlation",
   "metadata": {},
   "outputs": [],
   "source": []
  },
  {
   "cell_type": "markdown",
   "id": "ongoing-apple",
   "metadata": {},
   "source": [
    "**Ejemplo**: Me dan una hora con el siguiente formato: \"04:52\", minutos y segundos. Calcule el número entero de segundos.  "
   ]
  },
  {
   "cell_type": "code",
   "execution_count": null,
   "id": "nominated-bankruptcy",
   "metadata": {},
   "outputs": [],
   "source": []
  },
  {
   "cell_type": "code",
   "execution_count": null,
   "id": "continent-japan",
   "metadata": {},
   "outputs": [],
   "source": []
  },
  {
   "cell_type": "code",
   "execution_count": null,
   "id": "straight-improvement",
   "metadata": {},
   "outputs": [],
   "source": []
  },
  {
   "cell_type": "code",
   "execution_count": null,
   "id": "tutorial-prefix",
   "metadata": {},
   "outputs": [],
   "source": []
  },
  {
   "cell_type": "code",
   "execution_count": null,
   "id": "dense-dimension",
   "metadata": {},
   "outputs": [],
   "source": []
  },
  {
   "cell_type": "markdown",
   "id": "advisory-moscow",
   "metadata": {},
   "source": [
    "Tenemos un montón de código para UNA sola funcionalidad, que podríamos REUTILIZAR para diferentes casos     \n",
    "**PARA ESTO ESTÁN LAS FUNCIONES**     \n",
    "A continuación, lo convertimos en una función"
   ]
  },
  {
   "cell_type": "code",
   "execution_count": null,
   "id": "divine-making",
   "metadata": {},
   "outputs": [],
   "source": []
  },
  {
   "cell_type": "code",
   "execution_count": null,
   "id": "threaded-morgan",
   "metadata": {},
   "outputs": [],
   "source": []
  },
  {
   "cell_type": "code",
   "execution_count": null,
   "id": "comprehensive-validity",
   "metadata": {},
   "outputs": [],
   "source": []
  },
  {
   "cell_type": "code",
   "execution_count": null,
   "id": "statutory-relative",
   "metadata": {},
   "outputs": [],
   "source": []
  },
  {
   "cell_type": "code",
   "execution_count": null,
   "id": "useful-helicopter",
   "metadata": {},
   "outputs": [],
   "source": []
  },
  {
   "cell_type": "code",
   "execution_count": null,
   "id": "billion-intermediate",
   "metadata": {},
   "outputs": [],
   "source": []
  },
  {
   "cell_type": "code",
   "execution_count": null,
   "id": "induced-express",
   "metadata": {},
   "outputs": [],
   "source": []
  },
  {
   "cell_type": "code",
   "execution_count": null,
   "id": "tired-plane",
   "metadata": {},
   "outputs": [],
   "source": []
  },
  {
   "cell_type": "code",
   "execution_count": null,
   "id": "excess-position",
   "metadata": {},
   "outputs": [],
   "source": []
  },
  {
   "cell_type": "code",
   "execution_count": null,
   "id": "sixth-progressive",
   "metadata": {},
   "outputs": [],
   "source": []
  },
  {
   "cell_type": "markdown",
   "id": "wrapped-minimum",
   "metadata": {},
   "source": [
    "## Parámetros por defecto"
   ]
  },
  {
   "cell_type": "code",
   "execution_count": null,
   "id": "southwest-jordan",
   "metadata": {},
   "outputs": [],
   "source": []
  },
  {
   "cell_type": "code",
   "execution_count": null,
   "id": "fewer-focus",
   "metadata": {},
   "outputs": [],
   "source": []
  },
  {
   "cell_type": "code",
   "execution_count": null,
   "id": "marine-president",
   "metadata": {},
   "outputs": [],
   "source": []
  },
  {
   "cell_type": "code",
   "execution_count": null,
   "id": "purple-buffalo",
   "metadata": {},
   "outputs": [],
   "source": []
  },
  {
   "cell_type": "code",
   "execution_count": null,
   "id": "italic-westminster",
   "metadata": {},
   "outputs": [],
   "source": []
  },
  {
   "cell_type": "code",
   "execution_count": null,
   "id": "future-dealing",
   "metadata": {},
   "outputs": [],
   "source": []
  },
  {
   "cell_type": "code",
   "execution_count": null,
   "id": "supreme-nothing",
   "metadata": {},
   "outputs": [],
   "source": []
  },
  {
   "cell_type": "code",
   "execution_count": null,
   "id": "comparative-increase",
   "metadata": {},
   "outputs": [],
   "source": []
  },
  {
   "cell_type": "markdown",
   "id": "overhead-private",
   "metadata": {},
   "source": [
    "#### Otro ejemplo"
   ]
  },
  {
   "cell_type": "markdown",
   "id": "challenging-essence",
   "metadata": {},
   "source": [
    "## PARFAVAR No confundamos los PRINT dentro de una función con los RETURN!"
   ]
  },
  {
   "cell_type": "code",
   "execution_count": null,
   "id": "built-tunisia",
   "metadata": {},
   "outputs": [],
   "source": []
  },
  {
   "cell_type": "markdown",
   "id": "missing-honey",
   "metadata": {},
   "source": [
    "## Docstring\n",
    "El código se escribe 1 vez.  \n",
    "El código se lee 100 veces.  \n",
    "Ayuda a tus compañeros a entender tu trabajo.  \n",
    "![lafoto](https://res.cloudinary.com/highflyer910/image/upload/v1589577574/1_1_httqnc.jpg)\n",
    "En este ejemplo, hemos definido una función gato que devuelve miau. Hemos declarado un docstring que explica lo que hace la función. Para obtener el docstring de una función, necesitamos mostrar el atributo doc (print(cat.__doc__))     \n",
    "Referencia de la foto, la descripción y más info sobre docstring [aquí](https://techiestuff.netlify.app/blog/what-is-a-python-docstring/)"
   ]
  },
  {
   "cell_type": "code",
   "execution_count": null,
   "id": "involved-warner",
   "metadata": {},
   "outputs": [],
   "source": []
  },
  {
   "cell_type": "code",
   "execution_count": null,
   "id": "finnish-representative",
   "metadata": {},
   "outputs": [],
   "source": []
  },
  {
   "cell_type": "markdown",
   "id": "valid-briefing",
   "metadata": {},
   "source": [
    "## Scope de las funciones"
   ]
  },
  {
   "cell_type": "code",
   "execution_count": null,
   "id": "great-freeze",
   "metadata": {},
   "outputs": [],
   "source": []
  },
  {
   "cell_type": "code",
   "execution_count": null,
   "id": "taken-edgar",
   "metadata": {},
   "outputs": [],
   "source": []
  },
  {
   "cell_type": "markdown",
   "id": "affecting-benchmark",
   "metadata": {},
   "source": [
    "## *Args\n",
    "En Python, el parámetro especial *args en una función se usa para pasar, de forma opcional, un número variable de argumentos posicionales."
   ]
  },
  {
   "cell_type": "code",
   "execution_count": null,
   "id": "impossible-uncertainty",
   "metadata": {},
   "outputs": [],
   "source": []
  },
  {
   "cell_type": "code",
   "execution_count": null,
   "id": "becoming-inspection",
   "metadata": {},
   "outputs": [],
   "source": []
  },
  {
   "cell_type": "code",
   "execution_count": null,
   "id": "circular-plaza",
   "metadata": {},
   "outputs": [],
   "source": []
  },
  {
   "cell_type": "markdown",
   "id": "further-maria",
   "metadata": {},
   "source": [
    "## **Kwargs"
   ]
  },
  {
   "cell_type": "markdown",
   "id": "twelve-notice",
   "metadata": {},
   "source": [
    "También podemos pasar como argumento un diccionario usando como claves los nombres de los parámetros (* *kwargs).\n",
    "Emplea * *kwargs para pasar de forma opcional a una función un número variable de argumentos con nombre.      \n",
    "Es un diccionario cuyas claves se convierten en parámetros y sus valores en los argumentos de los parámetros.    \n",
    "El parámetro * *kwargs recibe los argumentos como un diccionario.      "
   ]
  },
  {
   "cell_type": "markdown",
   "id": "retired-recorder",
   "metadata": {},
   "source": [
    "## El orden importa\n",
    "El orden de los parámetros a la hora de definir una función importa...\n",
    "```python\n",
    "def ejemplo(arg1, arg2, *args, **kwargs)\n",
    "```\n"
   ]
  },
  {
   "cell_type": "markdown",
   "id": "median-heart",
   "metadata": {},
   "source": [
    "## Lambda\n",
    "Una función lambda es una función anónima, sin identificador, que puede declararse in situ. Dado que podemos usar funciones como argumentos y asignarlas a variables, la notación que posibilita la creación de funciones lambda es muy práctica en muchos casos.\n",
    "### Sintaxis de una lambda\n",
    "```python\n",
    "lambda <lista de parámetros>: <expresión de retorno>\n",
    "```\n",
    "### Ejemplos de lambda"
   ]
  },
  {
   "cell_type": "code",
   "execution_count": null,
   "id": "coordinate-baghdad",
   "metadata": {},
   "outputs": [],
   "source": [
    "lambda a,b: a+b # Suma\n",
    "lambda x: x **2 # cuadrado\n",
    "lambda x: x[0] # Devuelve el primer elemento del argumento\n",
    "lambda x, y: x if x>y else y # Devuelve el mayor"
   ]
  },
  {
   "cell_type": "markdown",
   "id": "diagnostic-general",
   "metadata": {},
   "source": [
    "### Hagámoslo Fácil 🙃"
   ]
  },
  {
   "cell_type": "code",
   "execution_count": null,
   "id": "valid-fiber",
   "metadata": {},
   "outputs": [],
   "source": []
  },
  {
   "cell_type": "markdown",
   "id": "medium-module",
   "metadata": {},
   "source": [
    "También es posible usar estas funciones anónimas como argumentos en la llamada a otras funcoines. Por ejemplo, en una llamada a sorted() o list.sort() podemos usar una función lambda como argumento para el parámetro key:"
   ]
  },
  {
   "cell_type": "code",
   "execution_count": null,
   "id": "settled-forestry",
   "metadata": {},
   "outputs": [],
   "source": [
    "distancias = [(\"Madrid\", 331), (\"Córdoba\", 117), (\"Barcelona\",798)]"
   ]
  },
  {
   "cell_type": "code",
   "execution_count": null,
   "id": "electrical-hawaiian",
   "metadata": {},
   "outputs": [],
   "source": [
    "#Ordenamos por la distancia, de menor a mayor by default \n"
   ]
  },
  {
   "cell_type": "code",
   "execution_count": null,
   "id": "lightweight-brand",
   "metadata": {},
   "outputs": [],
   "source": [
    "#Ordenamos por distancia pero de mayor a menor, con reverse = True\n"
   ]
  },
  {
   "cell_type": "code",
   "execution_count": null,
   "id": "inner-distributor",
   "metadata": {},
   "outputs": [],
   "source": []
  },
  {
   "cell_type": "code",
   "execution_count": null,
   "id": "environmental-avatar",
   "metadata": {},
   "outputs": [],
   "source": [
    "#Ordenamos alfabéticamente utilizando el primer elemento x[0]\n"
   ]
  },
  {
   "cell_type": "code",
   "execution_count": null,
   "id": "complimentary-financing",
   "metadata": {},
   "outputs": [],
   "source": [
    "#Ordenamos alfabéticamente de final a principio utilizando reverse = True\n"
   ]
  },
  {
   "cell_type": "code",
   "execution_count": null,
   "id": "worst-jaguar",
   "metadata": {},
   "outputs": [],
   "source": []
  },
  {
   "cell_type": "code",
   "execution_count": null,
   "id": "owned-tomorrow",
   "metadata": {},
   "outputs": [],
   "source": []
  },
  {
   "cell_type": "markdown",
   "id": "mexican-chambers",
   "metadata": {},
   "source": [
    "Por último, si queremos devolver como resultado de una función a otra función podemos usar cualquier función conocida en el ámbito de la función que realiza el retorno, o usar una función lambda:"
   ]
  },
  {
   "cell_type": "code",
   "execution_count": null,
   "id": "alpha-affiliation",
   "metadata": {},
   "outputs": [],
   "source": []
  },
  {
   "cell_type": "markdown",
   "id": "spare-thompson",
   "metadata": {},
   "source": [
    "## Recursividad\n",
    "Se denomina llamada recursiva (o recursividad), a aquellas funciones que en su algoritmo, hacen referencia sí misma.\n",
    "\n",
    "Las llamadas recursivas suelen ser muy útiles en casos muy puntuales, pero debido a su gran factibilidad de caer en iteraciones infinitas, deben extremarse las medidas preventivas adecuadas y, solo utilizarse cuando sea estrictamente necesario y no exista una forma alternativa viable, que resuelva el problema evitando la recursividad.\n",
    "\n",
    "Python admite las llamadas recursivas, permitiendo a una función, llamarse a sí misma, de igual forma que lo hace cuando llama a otra función."
   ]
  },
  {
   "cell_type": "markdown",
   "id": "appreciated-respect",
   "metadata": {},
   "source": [
    "## Resumen \n",
    "Es tu turno ¿Qué hemos aprendido hoy?\n"
   ]
  }
 ],
 "metadata": {
  "kernelspec": {
   "display_name": "ironhack",
   "language": "python",
   "name": "ironhack"
  },
  "language_info": {
   "codemirror_mode": {
    "name": "ipython",
    "version": 3
   },
   "file_extension": ".py",
   "mimetype": "text/x-python",
   "name": "python",
   "nbconvert_exporter": "python",
   "pygments_lexer": "ipython3",
   "version": "3.8.5"
  },
  "toc": {
   "base_numbering": 1,
   "nav_menu": {},
   "number_sections": true,
   "sideBar": true,
   "skip_h1_title": true,
   "title_cell": "Table of Contents",
   "title_sidebar": "Contents",
   "toc_cell": true,
   "toc_position": {},
   "toc_section_display": true,
   "toc_window_display": false
  },
  "varInspector": {
   "cols": {
    "lenName": 16,
    "lenType": 16,
    "lenVar": 40
   },
   "kernels_config": {
    "python": {
     "delete_cmd_postfix": "",
     "delete_cmd_prefix": "del ",
     "library": "var_list.py",
     "varRefreshCmd": "print(var_dic_list())"
    },
    "r": {
     "delete_cmd_postfix": ") ",
     "delete_cmd_prefix": "rm(",
     "library": "var_list.r",
     "varRefreshCmd": "cat(var_dic_list()) "
    }
   },
   "types_to_exclude": [
    "module",
    "function",
    "builtin_function_or_method",
    "instance",
    "_Feature"
   ],
   "window_display": false
  }
 },
 "nbformat": 4,
 "nbformat_minor": 5
}
